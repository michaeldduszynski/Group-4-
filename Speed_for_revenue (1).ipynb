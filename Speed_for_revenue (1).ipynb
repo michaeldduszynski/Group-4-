{
 "cells": [
  {
   "cell_type": "code",
   "execution_count": 6,
   "metadata": {},
   "outputs": [],
   "source": [
    "import matplotlib.pyplot as plt\n",
    "import pandas as pd\n",
    "import numpy as np\n",
    "import requests\n",
    "import os\n",
    "import gmaps\n",
    "import json\n",
    "from scipy.stats import linregress\n",
    "\n",
    "locations_df = os.path.join(\"Resources\", \"speed-camera-locations.csv\")\n",
    "locations_df = pd.read_csv(locations_df)\n",
    "violations_df = os.path.join(\"Resources\", \"speed-camera-violations.csv\")\n",
    "violations_df = pd.read_csv(violations_df)\n",
    "tickets_df = os.path.join(\"Resources\", \"tickets_df.csv\")\n",
    "boundaries = os.path.join(\"Resources\", \"Boundaries_Wards.geojson\")\n",
    "boundaries = json.load(open(boundaries, \"r\"))"
   ]
  },
  {
   "cell_type": "code",
   "execution_count": 7,
   "metadata": {},
   "outputs": [],
   "source": [
    "locations_df = pd.DataFrame(locations_df)\n",
    "locations_df = locations_df.dropna(how =\"any\")\n",
    "violations_df = pd.DataFrame(violations_df)\n",
    "violations_df = violations_df.dropna(how =\"any\")"
   ]
  },
  {
   "cell_type": "code",
   "execution_count": 8,
   "metadata": {},
   "outputs": [
    {
     "name": "stderr",
     "output_type": "stream",
     "text": [
      "/Users/ericnietzer/opt/anaconda3/lib/python3.8/site-packages/IPython/core/interactiveshell.py:3146: DtypeWarning: Columns (6,7) have mixed types.Specify dtype option on import or set low_memory=False.\n",
      "  has_raised = await self.run_ast_nodes(code_ast.body, cell_name,\n"
     ]
    },
    {
     "data": {
      "text/html": [
       "<div>\n",
       "<style scoped>\n",
       "    .dataframe tbody tr th:only-of-type {\n",
       "        vertical-align: middle;\n",
       "    }\n",
       "\n",
       "    .dataframe tbody tr th {\n",
       "        vertical-align: top;\n",
       "    }\n",
       "\n",
       "    .dataframe thead th {\n",
       "        text-align: right;\n",
       "    }\n",
       "</style>\n",
       "<table border=\"1\" class=\"dataframe\">\n",
       "  <thead>\n",
       "    <tr style=\"text-align: right;\">\n",
       "      <th></th>\n",
       "      <th>issue_date</th>\n",
       "      <th>violation_location</th>\n",
       "      <th>zipcode</th>\n",
       "      <th>violation_description</th>\n",
       "      <th>total_payments</th>\n",
       "      <th>year</th>\n",
       "    </tr>\n",
       "  </thead>\n",
       "  <tbody>\n",
       "    <tr>\n",
       "      <th>0</th>\n",
       "      <td>2003-11-01 01:04:00</td>\n",
       "      <td>5500 S WESTERN AVE S</td>\n",
       "      <td>60629</td>\n",
       "      <td>RED LIGHT VIOLATION</td>\n",
       "      <td>90.0</td>\n",
       "      <td>2003</td>\n",
       "    </tr>\n",
       "    <tr>\n",
       "      <th>1</th>\n",
       "      <td>2003-11-01 01:35:00</td>\n",
       "      <td>2400 W 55TH STREET E</td>\n",
       "      <td>60632</td>\n",
       "      <td>RED LIGHT VIOLATION</td>\n",
       "      <td>190.0</td>\n",
       "      <td>2003</td>\n",
       "    </tr>\n",
       "    <tr>\n",
       "      <th>2</th>\n",
       "      <td>2003-11-01 02:41:00</td>\n",
       "      <td>2400 W 55TH STREET E</td>\n",
       "      <td>62901</td>\n",
       "      <td>RED LIGHT VIOLATION</td>\n",
       "      <td>180.0</td>\n",
       "      <td>2003</td>\n",
       "    </tr>\n",
       "    <tr>\n",
       "      <th>3</th>\n",
       "      <td>2003-11-01 05:04:00</td>\n",
       "      <td>2400 W 55TH STREET E</td>\n",
       "      <td>60638</td>\n",
       "      <td>RED LIGHT VIOLATION</td>\n",
       "      <td>90.0</td>\n",
       "      <td>2003</td>\n",
       "    </tr>\n",
       "    <tr>\n",
       "      <th>4</th>\n",
       "      <td>2003-11-01 06:40:00</td>\n",
       "      <td>2400 W 55TH STREET E</td>\n",
       "      <td>60632</td>\n",
       "      <td>RED LIGHT VIOLATION</td>\n",
       "      <td>90.0</td>\n",
       "      <td>2003</td>\n",
       "    </tr>\n",
       "    <tr>\n",
       "      <th>...</th>\n",
       "      <td>...</td>\n",
       "      <td>...</td>\n",
       "      <td>...</td>\n",
       "      <td>...</td>\n",
       "      <td>...</td>\n",
       "      <td>...</td>\n",
       "    </tr>\n",
       "    <tr>\n",
       "      <th>11557492</th>\n",
       "      <td>2016-12-31 23:55:00</td>\n",
       "      <td>4700 S KEDZIE AVE</td>\n",
       "      <td>605011172</td>\n",
       "      <td>RED LIGHT VIOLATION</td>\n",
       "      <td>100.0</td>\n",
       "      <td>2016</td>\n",
       "    </tr>\n",
       "    <tr>\n",
       "      <th>11557493</th>\n",
       "      <td>2016-12-31 23:56:00</td>\n",
       "      <td>2800 N CICERO AVENUE</td>\n",
       "      <td>60160</td>\n",
       "      <td>RED LIGHT VIOLATION</td>\n",
       "      <td>100.0</td>\n",
       "      <td>2016</td>\n",
       "    </tr>\n",
       "    <tr>\n",
       "      <th>11557494</th>\n",
       "      <td>2016-12-31 23:56:00</td>\n",
       "      <td>2000 W DIVISION</td>\n",
       "      <td>605613913</td>\n",
       "      <td>RED LIGHT VIOLATION</td>\n",
       "      <td>100.0</td>\n",
       "      <td>2016</td>\n",
       "    </tr>\n",
       "    <tr>\n",
       "      <th>11557495</th>\n",
       "      <td>2016-12-31 23:57:00</td>\n",
       "      <td>3600 N WESTERN AVENUE</td>\n",
       "      <td>601874971</td>\n",
       "      <td>RED LIGHT VIOLATION</td>\n",
       "      <td>100.0</td>\n",
       "      <td>2016</td>\n",
       "    </tr>\n",
       "    <tr>\n",
       "      <th>11557496</th>\n",
       "      <td>2016-12-31 23:58:00</td>\n",
       "      <td>400 N LASALLE</td>\n",
       "      <td>605408348</td>\n",
       "      <td>RED LIGHT VIOLATION</td>\n",
       "      <td>100.0</td>\n",
       "      <td>2016</td>\n",
       "    </tr>\n",
       "  </tbody>\n",
       "</table>\n",
       "<p>11557497 rows × 6 columns</p>\n",
       "</div>"
      ],
      "text/plain": [
       "                   issue_date     violation_location    zipcode  \\\n",
       "0         2003-11-01 01:04:00   5500 S WESTERN AVE S      60629   \n",
       "1         2003-11-01 01:35:00   2400 W 55TH STREET E      60632   \n",
       "2         2003-11-01 02:41:00   2400 W 55TH STREET E      62901   \n",
       "3         2003-11-01 05:04:00   2400 W 55TH STREET E      60638   \n",
       "4         2003-11-01 06:40:00   2400 W 55TH STREET E      60632   \n",
       "...                       ...                    ...        ...   \n",
       "11557492  2016-12-31 23:55:00      4700 S KEDZIE AVE  605011172   \n",
       "11557493  2016-12-31 23:56:00   2800 N CICERO AVENUE      60160   \n",
       "11557494  2016-12-31 23:56:00        2000 W DIVISION  605613913   \n",
       "11557495  2016-12-31 23:57:00  3600 N WESTERN AVENUE  601874971   \n",
       "11557496  2016-12-31 23:58:00          400 N LASALLE  605408348   \n",
       "\n",
       "         violation_description  total_payments  year  \n",
       "0          RED LIGHT VIOLATION            90.0  2003  \n",
       "1          RED LIGHT VIOLATION           190.0  2003  \n",
       "2          RED LIGHT VIOLATION           180.0  2003  \n",
       "3          RED LIGHT VIOLATION            90.0  2003  \n",
       "4          RED LIGHT VIOLATION            90.0  2003  \n",
       "...                        ...             ...   ...  \n",
       "11557492   RED LIGHT VIOLATION           100.0  2016  \n",
       "11557493   RED LIGHT VIOLATION           100.0  2016  \n",
       "11557494   RED LIGHT VIOLATION           100.0  2016  \n",
       "11557495   RED LIGHT VIOLATION           100.0  2016  \n",
       "11557496   RED LIGHT VIOLATION           100.0  2016  \n",
       "\n",
       "[11557497 rows x 6 columns]"
      ]
     },
     "execution_count": 8,
     "metadata": {},
     "output_type": "execute_result"
    }
   ],
   "source": [
    "#ProPublica dataset '03-'17\n",
    "tickets_df = pd.read_csv(tickets_df)\n",
    "keep_col = ['issue_date','violation_location', 'zipcode', 'violation_description', 'total_payments', 'year']\n",
    "tickets_df = tickets_df[keep_col]\n",
    "tickets_df.to_csv(\"newFile.csv\", index=False)\n",
    "tickets_df"
   ]
  },
  {
   "cell_type": "code",
   "execution_count": 116,
   "metadata": {},
   "outputs": [
    {
     "data": {
      "text/html": [
       "<div>\n",
       "<style scoped>\n",
       "    .dataframe tbody tr th:only-of-type {\n",
       "        vertical-align: middle;\n",
       "    }\n",
       "\n",
       "    .dataframe tbody tr th {\n",
       "        vertical-align: top;\n",
       "    }\n",
       "\n",
       "    .dataframe thead th {\n",
       "        text-align: right;\n",
       "    }\n",
       "</style>\n",
       "<table border=\"1\" class=\"dataframe\">\n",
       "  <thead>\n",
       "    <tr style=\"text-align: right;\">\n",
       "      <th></th>\n",
       "      <th>ISSUED</th>\n",
       "      <th>violation_location</th>\n",
       "      <th>zipcode</th>\n",
       "      <th>VIOLATION</th>\n",
       "      <th>COST</th>\n",
       "      <th>year</th>\n",
       "    </tr>\n",
       "  </thead>\n",
       "  <tbody>\n",
       "    <tr>\n",
       "      <th>0</th>\n",
       "      <td>2003-11-01 01:04:00</td>\n",
       "      <td>5500 S WESTERN AVE S</td>\n",
       "      <td>60629</td>\n",
       "      <td>RED LIGHT VIOLATION</td>\n",
       "      <td>90.0</td>\n",
       "      <td>2003</td>\n",
       "    </tr>\n",
       "    <tr>\n",
       "      <th>1</th>\n",
       "      <td>2003-11-01 01:35:00</td>\n",
       "      <td>2400 W 55TH STREET E</td>\n",
       "      <td>60632</td>\n",
       "      <td>RED LIGHT VIOLATION</td>\n",
       "      <td>190.0</td>\n",
       "      <td>2003</td>\n",
       "    </tr>\n",
       "    <tr>\n",
       "      <th>2</th>\n",
       "      <td>2003-11-01 02:41:00</td>\n",
       "      <td>2400 W 55TH STREET E</td>\n",
       "      <td>62901</td>\n",
       "      <td>RED LIGHT VIOLATION</td>\n",
       "      <td>180.0</td>\n",
       "      <td>2003</td>\n",
       "    </tr>\n",
       "    <tr>\n",
       "      <th>3</th>\n",
       "      <td>2003-11-01 05:04:00</td>\n",
       "      <td>2400 W 55TH STREET E</td>\n",
       "      <td>60638</td>\n",
       "      <td>RED LIGHT VIOLATION</td>\n",
       "      <td>90.0</td>\n",
       "      <td>2003</td>\n",
       "    </tr>\n",
       "    <tr>\n",
       "      <th>4</th>\n",
       "      <td>2003-11-01 06:40:00</td>\n",
       "      <td>2400 W 55TH STREET E</td>\n",
       "      <td>60632</td>\n",
       "      <td>RED LIGHT VIOLATION</td>\n",
       "      <td>90.0</td>\n",
       "      <td>2003</td>\n",
       "    </tr>\n",
       "  </tbody>\n",
       "</table>\n",
       "</div>"
      ],
      "text/plain": [
       "                ISSUED    violation_location zipcode            VIOLATION  \\\n",
       "0  2003-11-01 01:04:00  5500 S WESTERN AVE S   60629  RED LIGHT VIOLATION   \n",
       "1  2003-11-01 01:35:00  2400 W 55TH STREET E   60632  RED LIGHT VIOLATION   \n",
       "2  2003-11-01 02:41:00  2400 W 55TH STREET E   62901  RED LIGHT VIOLATION   \n",
       "3  2003-11-01 05:04:00  2400 W 55TH STREET E   60638  RED LIGHT VIOLATION   \n",
       "4  2003-11-01 06:40:00  2400 W 55TH STREET E   60632  RED LIGHT VIOLATION   \n",
       "\n",
       "    COST  year  \n",
       "0   90.0  2003  \n",
       "1  190.0  2003  \n",
       "2  180.0  2003  \n",
       "3   90.0  2003  \n",
       "4   90.0  2003  "
      ]
     },
     "execution_count": 116,
     "metadata": {},
     "output_type": "execute_result"
    }
   ],
   "source": [
    "# Using .rename(columns={}) in order to rename columns\n",
    "clean_tickets_df = tickets_df.rename(columns={\"issue_date\":\"ISSUED\", \"violation_description\":\"VIOLATION\", \"total_payments\":\"COST\"})\n",
    "clean_tickets_df.head()"
   ]
  },
  {
   "cell_type": "code",
   "execution_count": 117,
   "metadata": {},
   "outputs": [
    {
     "data": {
      "text/plain": [
       "100.00    4659594\n",
       "0.00      4025739\n",
       "200.00     778120\n",
       "244.00     632971\n",
       "90.00      514370\n",
       "           ...   \n",
       "504.00          1\n",
       "173.33          1\n",
       "173.42          1\n",
       "4.48            1\n",
       "38.70           1\n",
       "Name: COST, Length: 26289, dtype: int64"
      ]
     },
     "execution_count": 117,
     "metadata": {},
     "output_type": "execute_result"
    }
   ],
   "source": [
    "clean_tickets_df['COST'].value_counts()"
   ]
  },
  {
   "cell_type": "code",
   "execution_count": 127,
   "metadata": {},
   "outputs": [
    {
     "data": {
      "text/plain": [
       "60629          84516\n",
       "60148          78514\n",
       "60620          78179\n",
       "60639          74076\n",
       "60628          67953\n",
       "               ...  \n",
       "613541753          1\n",
       "606393296          1\n",
       "537032368          1\n",
       "531058720.0        1\n",
       "606577777          1\n",
       "Name: zipcode, Length: 991129, dtype: int64"
      ]
     },
     "execution_count": 127,
     "metadata": {},
     "output_type": "execute_result"
    }
   ],
   "source": [
    "clean_tickets_df['zipcode'].value_counts()"
   ]
  },
  {
   "cell_type": "code",
   "execution_count": null,
   "metadata": {},
   "outputs": [],
   "source": []
  },
  {
   "cell_type": "code",
   "execution_count": 130,
   "metadata": {},
   "outputs": [
    {
     "ename": "TypeError",
     "evalue": "'method' object is not subscriptable",
     "output_type": "error",
     "traceback": [
      "\u001b[0;31m---------------------------------------------------------------------------\u001b[0m",
      "\u001b[0;31mTypeError\u001b[0m                                 Traceback (most recent call last)",
      "\u001b[0;32m<ipython-input-130-c5e89f9dfa7a>\u001b[0m in \u001b[0;36m<module>\u001b[0;34m\u001b[0m\n\u001b[0;32m----> 1\u001b[0;31m \u001b[0mvio_cost\u001b[0m \u001b[0;34m=\u001b[0m \u001b[0mclean_tickets_df\u001b[0m\u001b[0;34m.\u001b[0m\u001b[0mgroupby\u001b[0m\u001b[0;34m[\u001b[0m\u001b[0;34m\"zipcode\"\u001b[0m\u001b[0;34m]\u001b[0m\u001b[0;34m[\u001b[0m\u001b[0;34m\"COST\"\u001b[0m\u001b[0;34m]\u001b[0m\u001b[0;34m.\u001b[0m\u001b[0mcount\u001b[0m\u001b[0;34m(\u001b[0m\u001b[0;34m)\u001b[0m\u001b[0;34m\u001b[0m\u001b[0;34m\u001b[0m\u001b[0m\n\u001b[0m\u001b[1;32m      2\u001b[0m zipcode = [60629,\n\u001b[1;32m      3\u001b[0m \u001b[0;36m60148\u001b[0m\u001b[0;34m,\u001b[0m\u001b[0;34m\u001b[0m\u001b[0;34m\u001b[0m\u001b[0m\n\u001b[1;32m      4\u001b[0m \u001b[0;36m60620\u001b[0m\u001b[0;34m,\u001b[0m\u001b[0;34m\u001b[0m\u001b[0;34m\u001b[0m\u001b[0m\n\u001b[1;32m      5\u001b[0m \u001b[0;36m60639\u001b[0m\u001b[0;34m,\u001b[0m\u001b[0;34m\u001b[0m\u001b[0;34m\u001b[0m\u001b[0m\n",
      "\u001b[0;31mTypeError\u001b[0m: 'method' object is not subscriptable"
     ]
    }
   ],
   "source": [
    "vio_cost = clean_tickets_df.groupby[\"zipcode\"][\"COST\"].count()\n",
    "zipcode = [60629,\n",
    "60148,          \n",
    "60620,         \n",
    "60639,         \n",
    "60628]\n",
    "COST = [100.00, 0.00, 200.00, 244.00, 90.00]\n"
   ]
  },
  {
   "cell_type": "code",
   "execution_count": 129,
   "metadata": {},
   "outputs": [
    {
     "ename": "ValueError",
     "evalue": "array length 5 does not match index length 991129",
     "output_type": "error",
     "traceback": [
      "\u001b[0;31m---------------------------------------------------------------------------\u001b[0m",
      "\u001b[0;31mValueError\u001b[0m                                Traceback (most recent call last)",
      "\u001b[0;32m<ipython-input-129-f0e8d89cb95e>\u001b[0m in \u001b[0;36m<module>\u001b[0;34m\u001b[0m\n\u001b[0;32m----> 1\u001b[0;31m tic_year = pd.DataFrame({\n\u001b[0m\u001b[1;32m      2\u001b[0m         \u001b[0;34m\"Fine\"\u001b[0m \u001b[0;34m:\u001b[0m \u001b[0mCOST\u001b[0m\u001b[0;34m,\u001b[0m\u001b[0;34m\u001b[0m\u001b[0;34m\u001b[0m\u001b[0m\n\u001b[1;32m      3\u001b[0m     \u001b[0;34m\"ZIPCODE\"\u001b[0m\u001b[0;34m:\u001b[0m \u001b[0mvio_cost\u001b[0m\u001b[0;34m\u001b[0m\u001b[0;34m\u001b[0m\u001b[0m\n\u001b[1;32m      4\u001b[0m })\n\u001b[1;32m      5\u001b[0m \u001b[0mtic_cost\u001b[0m\u001b[0;34m.\u001b[0m\u001b[0mhead\u001b[0m\u001b[0;34m(\u001b[0m\u001b[0;34m)\u001b[0m\u001b[0;34m\u001b[0m\u001b[0;34m\u001b[0m\u001b[0m\n",
      "\u001b[0;32m~/opt/anaconda3/lib/python3.8/site-packages/pandas/core/frame.py\u001b[0m in \u001b[0;36m__init__\u001b[0;34m(self, data, index, columns, dtype, copy)\u001b[0m\n\u001b[1;32m    466\u001b[0m \u001b[0;34m\u001b[0m\u001b[0m\n\u001b[1;32m    467\u001b[0m         \u001b[0;32melif\u001b[0m \u001b[0misinstance\u001b[0m\u001b[0;34m(\u001b[0m\u001b[0mdata\u001b[0m\u001b[0;34m,\u001b[0m \u001b[0mdict\u001b[0m\u001b[0;34m)\u001b[0m\u001b[0;34m:\u001b[0m\u001b[0;34m\u001b[0m\u001b[0;34m\u001b[0m\u001b[0m\n\u001b[0;32m--> 468\u001b[0;31m             \u001b[0mmgr\u001b[0m \u001b[0;34m=\u001b[0m \u001b[0minit_dict\u001b[0m\u001b[0;34m(\u001b[0m\u001b[0mdata\u001b[0m\u001b[0;34m,\u001b[0m \u001b[0mindex\u001b[0m\u001b[0;34m,\u001b[0m \u001b[0mcolumns\u001b[0m\u001b[0;34m,\u001b[0m \u001b[0mdtype\u001b[0m\u001b[0;34m=\u001b[0m\u001b[0mdtype\u001b[0m\u001b[0;34m)\u001b[0m\u001b[0;34m\u001b[0m\u001b[0;34m\u001b[0m\u001b[0m\n\u001b[0m\u001b[1;32m    469\u001b[0m         \u001b[0;32melif\u001b[0m \u001b[0misinstance\u001b[0m\u001b[0;34m(\u001b[0m\u001b[0mdata\u001b[0m\u001b[0;34m,\u001b[0m \u001b[0mma\u001b[0m\u001b[0;34m.\u001b[0m\u001b[0mMaskedArray\u001b[0m\u001b[0;34m)\u001b[0m\u001b[0;34m:\u001b[0m\u001b[0;34m\u001b[0m\u001b[0;34m\u001b[0m\u001b[0m\n\u001b[1;32m    470\u001b[0m             \u001b[0;32mimport\u001b[0m \u001b[0mnumpy\u001b[0m\u001b[0;34m.\u001b[0m\u001b[0mma\u001b[0m\u001b[0;34m.\u001b[0m\u001b[0mmrecords\u001b[0m \u001b[0;32mas\u001b[0m \u001b[0mmrecords\u001b[0m\u001b[0;34m\u001b[0m\u001b[0;34m\u001b[0m\u001b[0m\n",
      "\u001b[0;32m~/opt/anaconda3/lib/python3.8/site-packages/pandas/core/internals/construction.py\u001b[0m in \u001b[0;36minit_dict\u001b[0;34m(data, index, columns, dtype)\u001b[0m\n\u001b[1;32m    281\u001b[0m             \u001b[0marr\u001b[0m \u001b[0;32mif\u001b[0m \u001b[0;32mnot\u001b[0m \u001b[0mis_datetime64tz_dtype\u001b[0m\u001b[0;34m(\u001b[0m\u001b[0marr\u001b[0m\u001b[0;34m)\u001b[0m \u001b[0;32melse\u001b[0m \u001b[0marr\u001b[0m\u001b[0;34m.\u001b[0m\u001b[0mcopy\u001b[0m\u001b[0;34m(\u001b[0m\u001b[0;34m)\u001b[0m \u001b[0;32mfor\u001b[0m \u001b[0marr\u001b[0m \u001b[0;32min\u001b[0m \u001b[0marrays\u001b[0m\u001b[0;34m\u001b[0m\u001b[0;34m\u001b[0m\u001b[0m\n\u001b[1;32m    282\u001b[0m         ]\n\u001b[0;32m--> 283\u001b[0;31m     \u001b[0;32mreturn\u001b[0m \u001b[0marrays_to_mgr\u001b[0m\u001b[0;34m(\u001b[0m\u001b[0marrays\u001b[0m\u001b[0;34m,\u001b[0m \u001b[0mdata_names\u001b[0m\u001b[0;34m,\u001b[0m \u001b[0mindex\u001b[0m\u001b[0;34m,\u001b[0m \u001b[0mcolumns\u001b[0m\u001b[0;34m,\u001b[0m \u001b[0mdtype\u001b[0m\u001b[0;34m=\u001b[0m\u001b[0mdtype\u001b[0m\u001b[0;34m)\u001b[0m\u001b[0;34m\u001b[0m\u001b[0;34m\u001b[0m\u001b[0m\n\u001b[0m\u001b[1;32m    284\u001b[0m \u001b[0;34m\u001b[0m\u001b[0m\n\u001b[1;32m    285\u001b[0m \u001b[0;34m\u001b[0m\u001b[0m\n",
      "\u001b[0;32m~/opt/anaconda3/lib/python3.8/site-packages/pandas/core/internals/construction.py\u001b[0m in \u001b[0;36marrays_to_mgr\u001b[0;34m(arrays, arr_names, index, columns, dtype, verify_integrity)\u001b[0m\n\u001b[1;32m     76\u001b[0m         \u001b[0;31m# figure out the index, if necessary\u001b[0m\u001b[0;34m\u001b[0m\u001b[0;34m\u001b[0m\u001b[0;34m\u001b[0m\u001b[0m\n\u001b[1;32m     77\u001b[0m         \u001b[0;32mif\u001b[0m \u001b[0mindex\u001b[0m \u001b[0;32mis\u001b[0m \u001b[0;32mNone\u001b[0m\u001b[0;34m:\u001b[0m\u001b[0;34m\u001b[0m\u001b[0;34m\u001b[0m\u001b[0m\n\u001b[0;32m---> 78\u001b[0;31m             \u001b[0mindex\u001b[0m \u001b[0;34m=\u001b[0m \u001b[0mextract_index\u001b[0m\u001b[0;34m(\u001b[0m\u001b[0marrays\u001b[0m\u001b[0;34m)\u001b[0m\u001b[0;34m\u001b[0m\u001b[0;34m\u001b[0m\u001b[0m\n\u001b[0m\u001b[1;32m     79\u001b[0m         \u001b[0;32melse\u001b[0m\u001b[0;34m:\u001b[0m\u001b[0;34m\u001b[0m\u001b[0;34m\u001b[0m\u001b[0m\n\u001b[1;32m     80\u001b[0m             \u001b[0mindex\u001b[0m \u001b[0;34m=\u001b[0m \u001b[0mensure_index\u001b[0m\u001b[0;34m(\u001b[0m\u001b[0mindex\u001b[0m\u001b[0;34m)\u001b[0m\u001b[0;34m\u001b[0m\u001b[0;34m\u001b[0m\u001b[0m\n",
      "\u001b[0;32m~/opt/anaconda3/lib/python3.8/site-packages/pandas/core/internals/construction.py\u001b[0m in \u001b[0;36mextract_index\u001b[0;34m(data)\u001b[0m\n\u001b[1;32m    409\u001b[0m                         \u001b[0;34mf\"length {len(index)}\"\u001b[0m\u001b[0;34m\u001b[0m\u001b[0;34m\u001b[0m\u001b[0m\n\u001b[1;32m    410\u001b[0m                     )\n\u001b[0;32m--> 411\u001b[0;31m                     \u001b[0;32mraise\u001b[0m \u001b[0mValueError\u001b[0m\u001b[0;34m(\u001b[0m\u001b[0mmsg\u001b[0m\u001b[0;34m)\u001b[0m\u001b[0;34m\u001b[0m\u001b[0;34m\u001b[0m\u001b[0m\n\u001b[0m\u001b[1;32m    412\u001b[0m             \u001b[0;32melse\u001b[0m\u001b[0;34m:\u001b[0m\u001b[0;34m\u001b[0m\u001b[0;34m\u001b[0m\u001b[0m\n\u001b[1;32m    413\u001b[0m                 \u001b[0mindex\u001b[0m \u001b[0;34m=\u001b[0m \u001b[0mibase\u001b[0m\u001b[0;34m.\u001b[0m\u001b[0mdefault_index\u001b[0m\u001b[0;34m(\u001b[0m\u001b[0mlengths\u001b[0m\u001b[0;34m[\u001b[0m\u001b[0;36m0\u001b[0m\u001b[0;34m]\u001b[0m\u001b[0;34m)\u001b[0m\u001b[0;34m\u001b[0m\u001b[0;34m\u001b[0m\u001b[0m\n",
      "\u001b[0;31mValueError\u001b[0m: array length 5 does not match index length 991129"
     ]
    }
   ],
   "source": [
    "tic_year = pd.DataFrame({\n",
    "        \"Fine\" : COST,\n",
    "    \"ZIPCODE\": vio_cost\n",
    "})\n",
    "tic_cost.head()"
   ]
  },
  {
   "cell_type": "code",
   "execution_count": 49,
   "metadata": {},
   "outputs": [
    {
     "data": {
      "text/plain": [
       "930551673.1300008"
      ]
     },
     "execution_count": 49,
     "metadata": {},
     "output_type": "execute_result"
    }
   ],
   "source": [
    "clean_tickets_df['COST'].sum()"
   ]
  },
  {
   "cell_type": "code",
   "execution_count": 50,
   "metadata": {},
   "outputs": [
    {
     "data": {
      "text/plain": [
       "RED LIGHT VIOLATION                      6812751\n",
       "SPEED WARNING                            2278088\n",
       "SPEED VIOLATION 11+                      1931582\n",
       "SPEED VIOLATION 6-10                      535075\n",
       "STAND, PARK, OR OTHER USE OF BUS LANE          1\n",
       "Name: VIOLATION, dtype: int64"
      ]
     },
     "execution_count": 50,
     "metadata": {},
     "output_type": "execute_result"
    }
   ],
   "source": [
    "clean_tickets_df['VIOLATION'].value_counts()"
   ]
  },
  {
   "cell_type": "code",
   "execution_count": 106,
   "metadata": {},
   "outputs": [
    {
     "data": {
      "text/html": [
       "<div>\n",
       "<style scoped>\n",
       "    .dataframe tbody tr th:only-of-type {\n",
       "        vertical-align: middle;\n",
       "    }\n",
       "\n",
       "    .dataframe tbody tr th {\n",
       "        vertical-align: top;\n",
       "    }\n",
       "\n",
       "    .dataframe thead th {\n",
       "        text-align: right;\n",
       "    }\n",
       "</style>\n",
       "<table border=\"1\" class=\"dataframe\">\n",
       "  <thead>\n",
       "    <tr style=\"text-align: right;\">\n",
       "      <th></th>\n",
       "      <th>LOCATION</th>\n",
       "      <th>VIOLATION</th>\n",
       "      <th>COST</th>\n",
       "    </tr>\n",
       "  </thead>\n",
       "  <tbody>\n",
       "    <tr>\n",
       "      <th>0</th>\n",
       "      <td>5500 S WESTERN AVE S</td>\n",
       "      <td>RED LIGHT VIOLATION</td>\n",
       "      <td>90.00</td>\n",
       "    </tr>\n",
       "    <tr>\n",
       "      <th>1</th>\n",
       "      <td>2400 W 55TH STREET E</td>\n",
       "      <td>RED LIGHT VIOLATION</td>\n",
       "      <td>190.00</td>\n",
       "    </tr>\n",
       "    <tr>\n",
       "      <th>2</th>\n",
       "      <td>2400 W 55TH STREET E</td>\n",
       "      <td>RED LIGHT VIOLATION</td>\n",
       "      <td>180.00</td>\n",
       "    </tr>\n",
       "    <tr>\n",
       "      <th>3</th>\n",
       "      <td>2400 W 55TH STREET E</td>\n",
       "      <td>RED LIGHT VIOLATION</td>\n",
       "      <td>90.00</td>\n",
       "    </tr>\n",
       "    <tr>\n",
       "      <th>4</th>\n",
       "      <td>2400 W 55TH STREET E</td>\n",
       "      <td>RED LIGHT VIOLATION</td>\n",
       "      <td>90.00</td>\n",
       "    </tr>\n",
       "    <tr>\n",
       "      <th>...</th>\n",
       "      <td>...</td>\n",
       "      <td>...</td>\n",
       "      <td>...</td>\n",
       "    </tr>\n",
       "    <tr>\n",
       "      <th>11556872</th>\n",
       "      <td>7900 S WESTERN AVE</td>\n",
       "      <td>RED LIGHT VIOLATION</td>\n",
       "      <td>129.79</td>\n",
       "    </tr>\n",
       "    <tr>\n",
       "      <th>11557072</th>\n",
       "      <td>8700 S LAFAYETTE AVEN</td>\n",
       "      <td>RED LIGHT VIOLATION</td>\n",
       "      <td>239.11</td>\n",
       "    </tr>\n",
       "    <tr>\n",
       "      <th>11557101</th>\n",
       "      <td>500 N COLUMBUS DRIVE</td>\n",
       "      <td>RED LIGHT VIOLATION</td>\n",
       "      <td>185.62</td>\n",
       "    </tr>\n",
       "    <tr>\n",
       "      <th>11557248</th>\n",
       "      <td>2900 W OGDEN</td>\n",
       "      <td>SPEED VIOLATION 11+</td>\n",
       "      <td>209.32</td>\n",
       "    </tr>\n",
       "    <tr>\n",
       "      <th>11557317</th>\n",
       "      <td>5120 N PULASKI</td>\n",
       "      <td>SPEED VIOLATION 11+</td>\n",
       "      <td>121.37</td>\n",
       "    </tr>\n",
       "  </tbody>\n",
       "</table>\n",
       "<p>95810 rows × 3 columns</p>\n",
       "</div>"
      ],
      "text/plain": [
       "                       LOCATION            VIOLATION    COST\n",
       "0          5500 S WESTERN AVE S  RED LIGHT VIOLATION   90.00\n",
       "1          2400 W 55TH STREET E  RED LIGHT VIOLATION  190.00\n",
       "2          2400 W 55TH STREET E  RED LIGHT VIOLATION  180.00\n",
       "3          2400 W 55TH STREET E  RED LIGHT VIOLATION   90.00\n",
       "4          2400 W 55TH STREET E  RED LIGHT VIOLATION   90.00\n",
       "...                         ...                  ...     ...\n",
       "11556872     7900 S WESTERN AVE  RED LIGHT VIOLATION  129.79\n",
       "11557072  8700 S LAFAYETTE AVEN  RED LIGHT VIOLATION  239.11\n",
       "11557101   500 N COLUMBUS DRIVE  RED LIGHT VIOLATION  185.62\n",
       "11557248           2900 W OGDEN  SPEED VIOLATION 11+  209.32\n",
       "11557317         5120 N PULASKI  SPEED VIOLATION 11+  121.37\n",
       "\n",
       "[95810 rows x 3 columns]"
      ]
     },
     "execution_count": 106,
     "metadata": {},
     "output_type": "execute_result"
    }
   ],
   "source": [
    "df=clean_tickets_df[['LOCATION','VIOLATION','COST']]\n",
    "df.head()"
   ]
  },
  {
   "cell_type": "code",
   "execution_count": 107,
   "metadata": {},
   "outputs": [
    {
     "data": {
      "text/plain": [
       "40487"
      ]
     },
     "execution_count": 107,
     "metadata": {},
     "output_type": "execute_result"
    }
   ],
   "source": [
    "ids = clean_tickets_df['VIOLATION'].unique()\n",
    "len(ids)"
   ]
  },
  {
   "cell_type": "code",
   "execution_count": 115,
   "metadata": {},
   "outputs": [
    {
     "ename": "AttributeError",
     "evalue": "'SeriesGroupBy' object has no attribute 'groupby'",
     "output_type": "error",
     "traceback": [
      "\u001b[0;31m---------------------------------------------------------------------------\u001b[0m",
      "\u001b[0;31mAttributeError\u001b[0m                            Traceback (most recent call last)",
      "\u001b[0;32m<ipython-input-115-141209c3db11>\u001b[0m in \u001b[0;36m<module>\u001b[0;34m\u001b[0m\n\u001b[0;32m----> 1\u001b[0;31m \u001b[0mvio_costs\u001b[0m \u001b[0;34m=\u001b[0m \u001b[0mclean_tickets_df\u001b[0m\u001b[0;34m[\u001b[0m\u001b[0;34m'VIOLATION'\u001b[0m\u001b[0;34m]\u001b[0m\u001b[0;34m.\u001b[0m\u001b[0mgroupby\u001b[0m\u001b[0;34m(\u001b[0m\u001b[0mclean_tickets_df\u001b[0m\u001b[0;34m[\u001b[0m\u001b[0;34m'COST'\u001b[0m\u001b[0;34m]\u001b[0m\u001b[0;34m)\u001b[0m\u001b[0;34m\u001b[0m\u001b[0;34m\u001b[0m\u001b[0m\n\u001b[0m\u001b[1;32m      2\u001b[0m \u001b[0mvio_cost\u001b[0m\u001b[0;34m.\u001b[0m\u001b[0mmean\u001b[0m\u001b[0;34m(\u001b[0m\u001b[0;34m)\u001b[0m\u001b[0;34m.\u001b[0m\u001b[0mreset_index\u001b[0m\u001b[0;34m(\u001b[0m\u001b[0mname\u001b[0m\u001b[0;34m=\u001b[0m\u001b[0;34m'Violation Costs'\u001b[0m\u001b[0;34m)\u001b[0m\u001b[0;34m\u001b[0m\u001b[0;34m\u001b[0m\u001b[0m\n",
      "\u001b[0;32m~/opt/anaconda3/lib/python3.8/site-packages/pandas/core/groupby/groupby.py\u001b[0m in \u001b[0;36m__getattr__\u001b[0;34m(self, attr)\u001b[0m\n\u001b[1;32m    701\u001b[0m             \u001b[0;32mreturn\u001b[0m \u001b[0mself\u001b[0m\u001b[0;34m[\u001b[0m\u001b[0mattr\u001b[0m\u001b[0;34m]\u001b[0m\u001b[0;34m\u001b[0m\u001b[0;34m\u001b[0m\u001b[0m\n\u001b[1;32m    702\u001b[0m \u001b[0;34m\u001b[0m\u001b[0m\n\u001b[0;32m--> 703\u001b[0;31m         raise AttributeError(\n\u001b[0m\u001b[1;32m    704\u001b[0m             \u001b[0;34mf\"'{type(self).__name__}' object has no attribute '{attr}'\"\u001b[0m\u001b[0;34m\u001b[0m\u001b[0;34m\u001b[0m\u001b[0m\n\u001b[1;32m    705\u001b[0m         )\n",
      "\u001b[0;31mAttributeError\u001b[0m: 'SeriesGroupBy' object has no attribute 'groupby'"
     ]
    }
   ],
   "source": [
    "vio_costs = clean_tickets_df['VIOLATION'].groupby(clean_tickets_df['COST'])\n",
    "vio_cost.mean().reset_index(name='Violation Costs')"
   ]
  },
  {
   "cell_type": "code",
   "execution_count": 76,
   "metadata": {},
   "outputs": [
    {
     "data": {
      "text/plain": [
       "<pandas.core.groupby.generic.DataFrameGroupBy object at 0x7fbff9c073a0>"
      ]
     },
     "execution_count": 76,
     "metadata": {},
     "output_type": "execute_result"
    }
   ],
   "source": [
    "violation_group = clean_tickets_df.groupby('VIOLATION')\n",
    "violation_group"
   ]
  },
  {
   "cell_type": "code",
   "execution_count": 92,
   "metadata": {},
   "outputs": [
    {
     "data": {
      "text/html": [
       "<div>\n",
       "<style scoped>\n",
       "    .dataframe tbody tr th:only-of-type {\n",
       "        vertical-align: middle;\n",
       "    }\n",
       "\n",
       "    .dataframe tbody tr th {\n",
       "        vertical-align: top;\n",
       "    }\n",
       "\n",
       "    .dataframe thead th {\n",
       "        text-align: right;\n",
       "    }\n",
       "</style>\n",
       "<table border=\"1\" class=\"dataframe\">\n",
       "  <thead>\n",
       "    <tr style=\"text-align: right;\">\n",
       "      <th></th>\n",
       "      <th>VIOLATION</th>\n",
       "    </tr>\n",
       "    <tr>\n",
       "      <th>VIOLATION</th>\n",
       "      <th></th>\n",
       "    </tr>\n",
       "  </thead>\n",
       "  <tbody>\n",
       "    <tr>\n",
       "      <th>RED LIGHT VIOLATION</th>\n",
       "      <td>6812751</td>\n",
       "    </tr>\n",
       "    <tr>\n",
       "      <th>SPEED VIOLATION 11+</th>\n",
       "      <td>1931582</td>\n",
       "    </tr>\n",
       "    <tr>\n",
       "      <th>SPEED VIOLATION 6-10</th>\n",
       "      <td>535075</td>\n",
       "    </tr>\n",
       "    <tr>\n",
       "      <th>SPEED WARNING</th>\n",
       "      <td>2278088</td>\n",
       "    </tr>\n",
       "    <tr>\n",
       "      <th>STAND, PARK, OR OTHER USE OF BUS LANE</th>\n",
       "      <td>1</td>\n",
       "    </tr>\n",
       "  </tbody>\n",
       "</table>\n",
       "</div>"
      ],
      "text/plain": [
       "                                       VIOLATION\n",
       "VIOLATION                                       \n",
       "RED LIGHT VIOLATION                      6812751\n",
       "SPEED VIOLATION 11+                      1931582\n",
       "SPEED VIOLATION 6-10                      535075\n",
       "SPEED WARNING                            2278088\n",
       "STAND, PARK, OR OTHER USE OF BUS LANE          1"
      ]
     },
     "execution_count": 92,
     "metadata": {},
     "output_type": "execute_result"
    }
   ],
   "source": [
    "count_viol = violation_group['VIOLATION'].count()\n",
    "\n",
    "pd.DataFrame(count_viol)"
   ]
  },
  {
   "cell_type": "code",
   "execution_count": 98,
   "metadata": {},
   "outputs": [
    {
     "ename": "TypeError",
     "evalue": "max expected 1 argument, got 0",
     "output_type": "error",
     "traceback": [
      "\u001b[0;31m---------------------------------------------------------------------------\u001b[0m",
      "\u001b[0;31mTypeError\u001b[0m                                 Traceback (most recent call last)",
      "\u001b[0;32m<ipython-input-98-2024e13e4798>\u001b[0m in \u001b[0;36m<module>\u001b[0;34m\u001b[0m\n\u001b[1;32m      7\u001b[0m \u001b[0mplt\u001b[0m\u001b[0;34m.\u001b[0m\u001b[0mxlim\u001b[0m\u001b[0;34m(\u001b[0m\u001b[0;34m-\u001b[0m\u001b[0;36m1.0\u001b[0m\u001b[0;34m,\u001b[0m \u001b[0mlen\u001b[0m\u001b[0;34m(\u001b[0m\u001b[0mx_axis\u001b[0m\u001b[0;34m)\u001b[0m\u001b[0;34m-\u001b[0m\u001b[0;36m0.75\u001b[0m\u001b[0;34m)\u001b[0m\u001b[0;34m\u001b[0m\u001b[0;34m\u001b[0m\u001b[0m\n\u001b[1;32m      8\u001b[0m \u001b[0mcount_chart\u001b[0m \u001b[0;34m=\u001b[0m \u001b[0mcount_viol\u001b[0m\u001b[0;34m.\u001b[0m\u001b[0mplot\u001b[0m\u001b[0;34m(\u001b[0m\u001b[0mkind\u001b[0m\u001b[0;34m=\u001b[0m\u001b[0;34m'bar'\u001b[0m\u001b[0;34m)\u001b[0m\u001b[0;34m\u001b[0m\u001b[0;34m\u001b[0m\u001b[0m\n\u001b[0;32m----> 9\u001b[0;31m \u001b[0mplt\u001b[0m\u001b[0;34m.\u001b[0m\u001b[0mylim\u001b[0m\u001b[0;34m(\u001b[0m\u001b[0;36m1\u001b[0m\u001b[0;34m,\u001b[0m \u001b[0mmax\u001b[0m\u001b[0;34m(\u001b[0m\u001b[0;34m)\u001b[0m\u001b[0;34m+\u001b[0m\u001b[0;36m50000000\u001b[0m\u001b[0;34m)\u001b[0m\u001b[0;34m\u001b[0m\u001b[0;34m\u001b[0m\u001b[0m\n\u001b[0m\u001b[1;32m     10\u001b[0m \u001b[0mcount_chart\u001b[0m\u001b[0;34m.\u001b[0m\u001b[0mset_xlabel\u001b[0m\u001b[0;34m(\u001b[0m\u001b[0;34m\"VIOLATION\"\u001b[0m\u001b[0;34m)\u001b[0m\u001b[0;34m\u001b[0m\u001b[0;34m\u001b[0m\u001b[0m\n\u001b[1;32m     11\u001b[0m \u001b[0mcount_chart\u001b[0m\u001b[0;34m.\u001b[0m\u001b[0mset_ylabel\u001b[0m\u001b[0;34m(\u001b[0m\u001b[0;34m\"Number of Violations\"\u001b[0m\u001b[0;34m)\u001b[0m\u001b[0;34m\u001b[0m\u001b[0;34m\u001b[0m\u001b[0m\n",
      "\u001b[0;31mTypeError\u001b[0m: max expected 1 argument, got 0"
     ]
    },
    {
     "data": {
      "image/png": "[encoded data removed]",
      "text/plain": [
       "<Figure size 432x288 with 1 Axes>"
      ]
     },
     "metadata": {
      "needs_background": "light"
     },
     "output_type": "display_data"
    }
   ],
   "source": [
    "users = [7000000, 2000000, 540000, 3000000, 10]\n",
    "x_axis = np.arange(len(users))\n",
    "x_axis\n",
    "plt.bar(x_axis, users, color='b', alpha=0.75, align=\"center\")\n",
    "tick_locations = [value for value in x_axis]\n",
    "plt.xticks(tick_locations, [\"Java\", \"C++\", \"Python\", \"Ruby\", \"Clojure\"])\n",
    "plt.xlim(-1.0, len(x_axis)-0.75)\n",
    "count_chart = count_viol.plot(kind='bar')\n",
    "plt.ylim(1, max()+50000000)\n",
    "count_chart.set_xlabel(\"VIOLATION\")\n",
    "count_chart.set_ylabel(\"Number of Violations\")\n",
    "\n",
    "\n",
    "plt.show()\n",
    "plt.tight_layout()"
   ]
  },
  {
   "cell_type": "code",
   "execution_count": 102,
   "metadata": {},
   "outputs": [
    {
     "ename": "AttributeError",
     "evalue": "'DataFrameGroupBy' object has no attribute 'groupby'",
     "output_type": "error",
     "traceback": [
      "\u001b[0;31m---------------------------------------------------------------------------\u001b[0m",
      "\u001b[0;31mAttributeError\u001b[0m                            Traceback (most recent call last)",
      "\u001b[0;32m<ipython-input-102-728ee72422a0>\u001b[0m in \u001b[0;36m<module>\u001b[0;34m\u001b[0m\n\u001b[0;32m----> 1\u001b[0;31m \u001b[0mgroup_by_violation\u001b[0m \u001b[0;34m=\u001b[0m \u001b[0mclean_tickets_df\u001b[0m\u001b[0;34m.\u001b[0m\u001b[0mgroupby\u001b[0m\u001b[0;34m(\u001b[0m\u001b[0;34m[\u001b[0m\u001b[0;34m\"VIOLATION\"\u001b[0m\u001b[0;34m,\u001b[0m \u001b[0;34m\"COST\"\u001b[0m\u001b[0;34m]\u001b[0m\u001b[0;34m)\u001b[0m\u001b[0;34m\u001b[0m\u001b[0;34m\u001b[0m\u001b[0m\n\u001b[0m\u001b[1;32m      2\u001b[0m \u001b[0mviolation_df\u001b[0m \u001b[0;34m=\u001b[0m \u001b[0;34m(\u001b[0m\u001b[0mclean_tickets_df\u001b[0m\u001b[0;34m[\u001b[0m\u001b[0;34m\"Violation Type\"\u001b[0m\u001b[0;34m]\u001b[0m\u001b[0;34m)\u001b[0m\u001b[0;34m.\u001b[0m\u001b[0mmean\u001b[0m\u001b[0;34m(\u001b[0m\u001b[0;34m)\u001b[0m\u001b[0;34m.\u001b[0m\u001b[0mreset_index\u001b[0m\u001b[0;34m(\u001b[0m\u001b[0;34m)\u001b[0m\u001b[0;34m\u001b[0m\u001b[0;34m\u001b[0m\u001b[0m\n\u001b[1;32m      3\u001b[0m \u001b[0;34m\u001b[0m\u001b[0m\n\u001b[1;32m      4\u001b[0m \u001b[0;31m# Convert to DataFrame\u001b[0m\u001b[0;34m\u001b[0m\u001b[0;34m\u001b[0m\u001b[0;34m\u001b[0m\u001b[0m\n\u001b[1;32m      5\u001b[0m \u001b[0mviolation_df\u001b[0m \u001b[0;34m=\u001b[0m \u001b[0mpd\u001b[0m\u001b[0;34m.\u001b[0m\u001b[0mDataFrame\u001b[0m\u001b[0;34m(\u001b[0m\u001b[0mviolation_df\u001b[0m\u001b[0;34m)\u001b[0m\u001b[0;34m\u001b[0m\u001b[0;34m\u001b[0m\u001b[0m\n",
      "\u001b[0;32m~/opt/anaconda3/lib/python3.8/site-packages/pandas/core/groupby/groupby.py\u001b[0m in \u001b[0;36m__getattr__\u001b[0;34m(self, attr)\u001b[0m\n\u001b[1;32m    701\u001b[0m             \u001b[0;32mreturn\u001b[0m \u001b[0mself\u001b[0m\u001b[0;34m[\u001b[0m\u001b[0mattr\u001b[0m\u001b[0;34m]\u001b[0m\u001b[0;34m\u001b[0m\u001b[0;34m\u001b[0m\u001b[0m\n\u001b[1;32m    702\u001b[0m \u001b[0;34m\u001b[0m\u001b[0m\n\u001b[0;32m--> 703\u001b[0;31m         raise AttributeError(\n\u001b[0m\u001b[1;32m    704\u001b[0m             \u001b[0;34mf\"'{type(self).__name__}' object has no attribute '{attr}'\"\u001b[0m\u001b[0;34m\u001b[0m\u001b[0;34m\u001b[0m\u001b[0m\n\u001b[1;32m    705\u001b[0m         )\n",
      "\u001b[0;31mAttributeError\u001b[0m: 'DataFrameGroupBy' object has no attribute 'groupby'"
     ]
    }
   ],
   "source": [
    "group_by_violation = clean_tickets_df.groupby([\"VIOLATION\", \"COST\"])\n",
    "violation_df = (clean_tickets_df[\"Violation Type\"]).mean().reset_index()\n",
    "\n",
    "# Convert to DataFrame\n",
    "violation_df = pd.DataFrame(violation_df)\n",
    "\n",
    "# Preview DataFrame\n",
    "violation_df"
   ]
  },
  {
   "cell_type": "code",
   "execution_count": 14,
   "metadata": {},
   "outputs": [
    {
     "data": {
      "text/html": [
       "<div>\n",
       "<style scoped>\n",
       "    .dataframe tbody tr th:only-of-type {\n",
       "        vertical-align: middle;\n",
       "    }\n",
       "\n",
       "    .dataframe tbody tr th {\n",
       "        vertical-align: top;\n",
       "    }\n",
       "\n",
       "    .dataframe thead th {\n",
       "        text-align: right;\n",
       "    }\n",
       "</style>\n",
       "<table border=\"1\" class=\"dataframe\">\n",
       "  <thead>\n",
       "    <tr style=\"text-align: right;\">\n",
       "      <th></th>\n",
       "      <th>ADDRESS</th>\n",
       "      <th>CAMERA ID</th>\n",
       "      <th>VIOLATION DATE</th>\n",
       "      <th>VIOLATIONS</th>\n",
       "      <th>X COORDINATE</th>\n",
       "      <th>Y COORDINATE</th>\n",
       "      <th>LATITUDE</th>\n",
       "      <th>LONGITUDE</th>\n",
       "      <th>LOCATION</th>\n",
       "      <th>Historical Wards 2003-2015</th>\n",
       "      <th>Zip Codes</th>\n",
       "      <th>Community Areas</th>\n",
       "      <th>Census Tracts</th>\n",
       "      <th>Wards</th>\n",
       "    </tr>\n",
       "  </thead>\n",
       "  <tbody>\n",
       "    <tr>\n",
       "      <th>0</th>\n",
       "      <td>10318 S INDIANAPOLIS</td>\n",
       "      <td>CHI120</td>\n",
       "      <td>2019-11-21T00:00:00.000</td>\n",
       "      <td>87</td>\n",
       "      <td>1.203645e+06</td>\n",
       "      <td>1.837056e+06</td>\n",
       "      <td>41.707577</td>\n",
       "      <td>-87.529848</td>\n",
       "      <td>{'latitude': '41.70757690291348', 'human_addre...</td>\n",
       "      <td>47.0</td>\n",
       "      <td>21202.0</td>\n",
       "      <td>49.0</td>\n",
       "      <td>705.0</td>\n",
       "      <td>47.0</td>\n",
       "    </tr>\n",
       "    <tr>\n",
       "      <th>1</th>\n",
       "      <td>1110 S PULASKI RD</td>\n",
       "      <td>CHI163</td>\n",
       "      <td>2019-11-21T00:00:00.000</td>\n",
       "      <td>7</td>\n",
       "      <td>1.149841e+06</td>\n",
       "      <td>1.894931e+06</td>\n",
       "      <td>41.867603</td>\n",
       "      <td>-87.725383</td>\n",
       "      <td>{'latitude': '41.86760272243294', 'human_addre...</td>\n",
       "      <td>36.0</td>\n",
       "      <td>21572.0</td>\n",
       "      <td>30.0</td>\n",
       "      <td>98.0</td>\n",
       "      <td>14.0</td>\n",
       "    </tr>\n",
       "    <tr>\n",
       "      <th>3</th>\n",
       "      <td>11144 S VINCENNES</td>\n",
       "      <td>CHI023</td>\n",
       "      <td>2019-11-21T00:00:00.000</td>\n",
       "      <td>6</td>\n",
       "      <td>1.166994e+06</td>\n",
       "      <td>1.830711e+06</td>\n",
       "      <td>41.691025</td>\n",
       "      <td>-87.664248</td>\n",
       "      <td>{'latitude': '41.69102545584918', 'human_addre...</td>\n",
       "      <td>33.0</td>\n",
       "      <td>22212.0</td>\n",
       "      <td>74.0</td>\n",
       "      <td>378.0</td>\n",
       "      <td>42.0</td>\n",
       "    </tr>\n",
       "    <tr>\n",
       "      <th>4</th>\n",
       "      <td>11153 S VINCENNES</td>\n",
       "      <td>CHI022</td>\n",
       "      <td>2019-11-21T00:00:00.000</td>\n",
       "      <td>4</td>\n",
       "      <td>1.167029e+06</td>\n",
       "      <td>1.830594e+06</td>\n",
       "      <td>41.690702</td>\n",
       "      <td>-87.664122</td>\n",
       "      <td>{'latitude': '41.690701951255015', 'human_addr...</td>\n",
       "      <td>45.0</td>\n",
       "      <td>22212.0</td>\n",
       "      <td>74.0</td>\n",
       "      <td>378.0</td>\n",
       "      <td>22.0</td>\n",
       "    </tr>\n",
       "    <tr>\n",
       "      <th>5</th>\n",
       "      <td>1117 S PULASKI RD</td>\n",
       "      <td>CHI162</td>\n",
       "      <td>2019-11-21T00:00:00.000</td>\n",
       "      <td>5</td>\n",
       "      <td>1.149923e+06</td>\n",
       "      <td>1.894858e+06</td>\n",
       "      <td>41.867402</td>\n",
       "      <td>-87.725084</td>\n",
       "      <td>{'latitude': '41.867401834997956', 'human_addr...</td>\n",
       "      <td>36.0</td>\n",
       "      <td>21572.0</td>\n",
       "      <td>30.0</td>\n",
       "      <td>98.0</td>\n",
       "      <td>14.0</td>\n",
       "    </tr>\n",
       "  </tbody>\n",
       "</table>\n",
       "</div>"
      ],
      "text/plain": [
       "                ADDRESS CAMERA ID           VIOLATION DATE  VIOLATIONS  \\\n",
       "0  10318 S INDIANAPOLIS    CHI120  2019-11-21T00:00:00.000          87   \n",
       "1     1110 S PULASKI RD    CHI163  2019-11-21T00:00:00.000           7   \n",
       "3     11144 S VINCENNES    CHI023  2019-11-21T00:00:00.000           6   \n",
       "4     11153 S VINCENNES    CHI022  2019-11-21T00:00:00.000           4   \n",
       "5     1117 S PULASKI RD    CHI162  2019-11-21T00:00:00.000           5   \n",
       "\n",
       "   X COORDINATE  Y COORDINATE   LATITUDE  LONGITUDE  \\\n",
       "0  1.203645e+06  1.837056e+06  41.707577 -87.529848   \n",
       "1  1.149841e+06  1.894931e+06  41.867603 -87.725383   \n",
       "3  1.166994e+06  1.830711e+06  41.691025 -87.664248   \n",
       "4  1.167029e+06  1.830594e+06  41.690702 -87.664122   \n",
       "5  1.149923e+06  1.894858e+06  41.867402 -87.725084   \n",
       "\n",
       "                                            LOCATION  \\\n",
       "0  {'latitude': '41.70757690291348', 'human_addre...   \n",
       "1  {'latitude': '41.86760272243294', 'human_addre...   \n",
       "3  {'latitude': '41.69102545584918', 'human_addre...   \n",
       "4  {'latitude': '41.690701951255015', 'human_addr...   \n",
       "5  {'latitude': '41.867401834997956', 'human_addr...   \n",
       "\n",
       "   Historical Wards 2003-2015  Zip Codes  Community Areas  Census Tracts  \\\n",
       "0                        47.0    21202.0             49.0          705.0   \n",
       "1                        36.0    21572.0             30.0           98.0   \n",
       "3                        33.0    22212.0             74.0          378.0   \n",
       "4                        45.0    22212.0             74.0          378.0   \n",
       "5                        36.0    21572.0             30.0           98.0   \n",
       "\n",
       "   Wards  \n",
       "0   47.0  \n",
       "1   14.0  \n",
       "3   42.0  \n",
       "4   22.0  \n",
       "5   14.0  "
      ]
     },
     "execution_count": 14,
     "metadata": {},
     "output_type": "execute_result"
    }
   ],
   "source": [
    "violations_df.head()"
   ]
  },
  {
   "cell_type": "code",
   "execution_count": 15,
   "metadata": {},
   "outputs": [
    {
     "data": {
      "text/html": [
       "<div>\n",
       "<style scoped>\n",
       "    .dataframe tbody tr th:only-of-type {\n",
       "        vertical-align: middle;\n",
       "    }\n",
       "\n",
       "    .dataframe tbody tr th {\n",
       "        vertical-align: top;\n",
       "    }\n",
       "\n",
       "    .dataframe thead th {\n",
       "        text-align: right;\n",
       "    }\n",
       "</style>\n",
       "<table border=\"1\" class=\"dataframe\">\n",
       "  <thead>\n",
       "    <tr style=\"text-align: right;\">\n",
       "      <th></th>\n",
       "      <th>CAMERA ID</th>\n",
       "      <th>VIOLATION DATE</th>\n",
       "      <th>VIOLATIONS</th>\n",
       "    </tr>\n",
       "  </thead>\n",
       "  <tbody>\n",
       "    <tr>\n",
       "      <th>0</th>\n",
       "      <td>CHI120</td>\n",
       "      <td>2019-11-21T00:00:00.000</td>\n",
       "      <td>87</td>\n",
       "    </tr>\n",
       "    <tr>\n",
       "      <th>1</th>\n",
       "      <td>CHI163</td>\n",
       "      <td>2019-11-21T00:00:00.000</td>\n",
       "      <td>7</td>\n",
       "    </tr>\n",
       "    <tr>\n",
       "      <th>3</th>\n",
       "      <td>CHI023</td>\n",
       "      <td>2019-11-21T00:00:00.000</td>\n",
       "      <td>6</td>\n",
       "    </tr>\n",
       "    <tr>\n",
       "      <th>4</th>\n",
       "      <td>CHI022</td>\n",
       "      <td>2019-11-21T00:00:00.000</td>\n",
       "      <td>4</td>\n",
       "    </tr>\n",
       "    <tr>\n",
       "      <th>5</th>\n",
       "      <td>CHI162</td>\n",
       "      <td>2019-11-21T00:00:00.000</td>\n",
       "      <td>5</td>\n",
       "    </tr>\n",
       "  </tbody>\n",
       "</table>\n",
       "</div>"
      ],
      "text/plain": [
       "  CAMERA ID           VIOLATION DATE  VIOLATIONS\n",
       "0    CHI120  2019-11-21T00:00:00.000          87\n",
       "1    CHI163  2019-11-21T00:00:00.000           7\n",
       "3    CHI023  2019-11-21T00:00:00.000           6\n",
       "4    CHI022  2019-11-21T00:00:00.000           4\n",
       "5    CHI162  2019-11-21T00:00:00.000           5"
      ]
     },
     "execution_count": 15,
     "metadata": {},
     "output_type": "execute_result"
    }
   ],
   "source": [
    "df=violations_df[['CAMERA ID','VIOLATION DATE','VIOLATIONS']]\n",
    "df.head()"
   ]
  },
  {
   "cell_type": "code",
   "execution_count": 16,
   "metadata": {},
   "outputs": [
    {
     "data": {
      "text/plain": [
       "157"
      ]
     },
     "execution_count": 16,
     "metadata": {},
     "output_type": "execute_result"
    }
   ],
   "source": [
    "ids = violations_df['CAMERA ID'].unique()\n",
    "len(ids)"
   ]
  },
  {
   "cell_type": "code",
   "execution_count": 34,
   "metadata": {},
   "outputs": [
    {
     "data": {
      "text/html": [
       "<div>\n",
       "<style scoped>\n",
       "    .dataframe tbody tr th:only-of-type {\n",
       "        vertical-align: middle;\n",
       "    }\n",
       "\n",
       "    .dataframe tbody tr th {\n",
       "        vertical-align: top;\n",
       "    }\n",
       "\n",
       "    .dataframe thead th {\n",
       "        text-align: right;\n",
       "    }\n",
       "</style>\n",
       "<table border=\"1\" class=\"dataframe\">\n",
       "  <thead>\n",
       "    <tr style=\"text-align: right;\">\n",
       "      <th></th>\n",
       "      <th>CAMERA ID</th>\n",
       "      <th>Avg Daily Violations</th>\n",
       "    </tr>\n",
       "  </thead>\n",
       "  <tbody>\n",
       "    <tr>\n",
       "      <th>0</th>\n",
       "      <td>CHI003</td>\n",
       "      <td>107.848121</td>\n",
       "    </tr>\n",
       "    <tr>\n",
       "      <th>1</th>\n",
       "      <td>CHI004</td>\n",
       "      <td>34.111792</td>\n",
       "    </tr>\n",
       "    <tr>\n",
       "      <th>2</th>\n",
       "      <td>CHI005</td>\n",
       "      <td>11.076726</td>\n",
       "    </tr>\n",
       "    <tr>\n",
       "      <th>3</th>\n",
       "      <td>CHI007</td>\n",
       "      <td>58.917895</td>\n",
       "    </tr>\n",
       "    <tr>\n",
       "      <th>4</th>\n",
       "      <td>CHI008</td>\n",
       "      <td>18.184521</td>\n",
       "    </tr>\n",
       "    <tr>\n",
       "      <th>...</th>\n",
       "      <td>...</td>\n",
       "      <td>...</td>\n",
       "    </tr>\n",
       "    <tr>\n",
       "      <th>152</th>\n",
       "      <td>CHI180</td>\n",
       "      <td>29.851528</td>\n",
       "    </tr>\n",
       "    <tr>\n",
       "      <th>153</th>\n",
       "      <td>CHI181</td>\n",
       "      <td>22.268722</td>\n",
       "    </tr>\n",
       "    <tr>\n",
       "      <th>154</th>\n",
       "      <td>CHI182</td>\n",
       "      <td>47.682796</td>\n",
       "    </tr>\n",
       "    <tr>\n",
       "      <th>155</th>\n",
       "      <td>CHI183</td>\n",
       "      <td>19.406417</td>\n",
       "    </tr>\n",
       "    <tr>\n",
       "      <th>156</th>\n",
       "      <td>CHI184</td>\n",
       "      <td>86.265217</td>\n",
       "    </tr>\n",
       "  </tbody>\n",
       "</table>\n",
       "<p>157 rows × 2 columns</p>\n",
       "</div>"
      ],
      "text/plain": [
       "    CAMERA ID  Avg Daily Violations\n",
       "0      CHI003            107.848121\n",
       "1      CHI004             34.111792\n",
       "2      CHI005             11.076726\n",
       "3      CHI007             58.917895\n",
       "4      CHI008             18.184521\n",
       "..        ...                   ...\n",
       "152    CHI180             29.851528\n",
       "153    CHI181             22.268722\n",
       "154    CHI182             47.682796\n",
       "155    CHI183             19.406417\n",
       "156    CHI184             86.265217\n",
       "\n",
       "[157 rows x 2 columns]"
      ]
     },
     "execution_count": 34,
     "metadata": {},
     "output_type": "execute_result"
    }
   ],
   "source": [
    "avg_day = df['VIOLATIONS'].groupby(df['CAMERA ID'])\n",
    "avg_day.mean().reset_index(name='Avg Daily Violations')"
   ]
  },
  {
   "cell_type": "code",
   "execution_count": 18,
   "metadata": {},
   "outputs": [
    {
     "data": {
      "image/png": "[encoded data removed]",
      "text/plain": [
       "<Figure size 432x288 with 1 Axes>"
      ]
     },
     "metadata": {
      "needs_background": "light"
     },
     "output_type": "display_data"
    }
   ],
   "source": [
    "df.plot(kind='line',x='yea',y='VIOLATIONS')\n",
    "plt.show()"
   ]
  },
  {
   "cell_type": "code",
   "execution_count": null,
   "metadata": {},
   "outputs": [],
   "source": [
    "locations_df.head()"
   ]
  },
  {
   "cell_type": "code",
   "execution_count": null,
   "metadata": {},
   "outputs": [],
   "source": [
    "df=locations_df[['ADDRESS','GO-LIVE DATE', 'LATITUDE', 'LONGITUDE','Wards']]\n",
    "df.head()"
   ]
  },
  {
   "cell_type": "code",
   "execution_count": null,
   "metadata": {
    "scrolled": true
   },
   "outputs": [],
   "source": [
    "violations = pd.DataFrame(violations_df.groupby(\"Wards\")[\"VIOLATIONS\"].sum())\n",
    "merge_df = pd.merge(violations, locations_df, on=\"Wards\")\n",
    "merge_df = merge_df[[\"VIOLATIONS\", \"ADDRESS\",\"LATITUDE\", \"LONGITUDE\", \"Wards\"]]\n",
    "merge_df.head()"
   ]
  },
  {
   "cell_type": "code",
   "execution_count": null,
   "metadata": {},
   "outputs": [],
   "source": [
    "tickets_df = pd.DataFrame(tickets_df.groupby(\"issue_date\", \"zipcode\", \"violation_descriipton\", \"total_payments\"))\n",
    "keep_col = ['WARD', 'ADDRESS', 'ZIPCODE', 'LOCATION']\n",
    "new_ward_location_df = ward_location_df[keep_col]\n",
    "new_ward_location_df.to_csv(\"newFile.csv\", index=False)\n",
    "new_ward_location_df.head()"
   ]
  },
  {
   "cell_type": "code",
   "execution_count": null,
   "metadata": {},
   "outputs": [],
   "source": [
    "clean_df = pd.merge(merge_df, tickets_df, on=\"Ward Code\")\n",
    "clean_df.head()"
   ]
  },
  {
   "cell_type": "code",
   "execution_count": null,
   "metadata": {},
   "outputs": [],
   "source": [
    "locations = next_merge_df[[\"Latitude\", \"Longitude\"]]\n",
    "locations.head()"
   ]
  },
  {
   "cell_type": "code",
   "execution_count": null,
   "metadata": {},
   "outputs": [],
   "source": [
    "gmaps.configure(config = g_key)\n",
    "speed_cams = next_merge_df[\"Number of Speeding Cams per Ward\"].astype(float)"
   ]
  },
  {
   "cell_type": "code",
   "execution_count": null,
   "metadata": {},
   "outputs": [],
   "source": [
    "info_box_template = \"\"\"\n",
    "<dl>\n",
    "<dt>Ward</dt><dd>{Ward Number}</dd>\n",
    "<dt>Ward Location<dd>{Navigator}</dd>\n",
    "<dt>Neighborhoods<dd>{Neighborhoods}</dd>\n",
    "<dt>Number of Red Light Cams</dt><dd>{Number of Red Light Cams per Ward}</dd>\n",
    "<dt>Number of Speeding Violations</dt><dd>{Number of Speeding Violations per Ward}</dd>\n",
    "</dl>\n",
    "\"\"\""
   ]
  },
  {
   "cell_type": "code",
   "execution_count": null,
   "metadata": {},
   "outputs": [],
   "source": [
    "fig = gmaps.figure()\n",
    "heat_map = gmaps.heatmap_layer(locations, weights= speed_cams, dissipating=False, max_intensity=1, point_radius=0.01)\n",
    "fig.add_layer(heat_map)\n",
    "cam_info = [info_box_template.format(**row) for index, row in new_merge_df.iterrows()]\n",
    "markers = gmaps.marker_layer(locations, info_box_content= cam_info)\n",
    "fig.add_layer(markers)\n",
    "fig"
   ]
  }
 ],
 "metadata": {
  "kernelspec": {
   "display_name": "Python 3",
   "language": "python",
   "name": "python3"
  },
  "language_info": {
   "codemirror_mode": {
    "name": "ipython",
    "version": 3
   },
   "file_extension": ".py",
   "mimetype": "text/x-python",
   "name": "python",
   "nbconvert_exporter": "python",
   "pygments_lexer": "ipython3",
   "version": "3.8.5"
  }
 },
 "nbformat": 4,
 "nbformat_minor": 4
}
