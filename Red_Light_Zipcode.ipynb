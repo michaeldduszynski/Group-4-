{
 "cells": [
  {
   "cell_type": "code",
   "execution_count": 2,
   "metadata": {},
   "outputs": [],
   "source": [
    "import os\n",
    "import csv\n",
    "import geopy\n",
    "import pandas as pd\n",
    "from geopy.geocoders import Nominatim"
   ]
  },
  {
   "cell_type": "code",
   "execution_count": 3,
   "metadata": {},
   "outputs": [],
   "source": [
    "redLightLoc = os.path.join(\"..\", \"Group-4-\",\"Resources\", \"red-light-camera-locations.csv\")"
   ]
  },
  {
   "cell_type": "code",
   "execution_count": 4,
   "metadata": {},
   "outputs": [],
   "source": [
    "latList = []\n",
    "longList = []"
   ]
  },
  {
   "cell_type": "code",
   "execution_count": 6,
   "metadata": {},
   "outputs": [
    {
     "name": "stdout",
     "output_type": "stream",
     "text": [
      "      Latitude\n",
      "0    41.990442\n",
      "1    41.945877\n",
      "2    41.779214\n",
      "3    41.750643\n",
      "4      41.8857\n",
      "..         ...\n",
      "293   41.83028\n",
      "294  41.677815\n",
      "295  41.946124\n",
      "296  41.945264\n",
      "297  41.817092\n",
      "\n",
      "[298 rows x 1 columns]\n",
      "      Longitude\n",
      "0    -87.699401\n",
      "1    -87.766754\n",
      "2    -87.683638\n",
      "3    -87.644043\n",
      "4       -87.637\n",
      "..          ...\n",
      "293  -87.685033\n",
      "294  -87.641907\n",
      "295  -87.747064\n",
      "296  -87.807006\n",
      "297  -87.743477\n",
      "\n",
      "[298 rows x 1 columns]\n"
     ]
    }
   ],
   "source": [
    "with open(redLightLoc, 'r', encoding='utf-8') as csvfile:\n",
    "    csvreader = csv.reader(csvfile, delimiter=',')\n",
    "    header = next(csvreader)\n",
    "    for row in csvreader:\n",
    "        Latitude = row[5]\n",
    "        Longitude = row[6]\n",
    "        latList.append(Latitude)\n",
    "        longList.append(Longitude)\n",
    "    #print(latList)\n",
    "    #print(longList)\n",
    "    latDF = pd.DataFrame(latList,columns=['Latitude'])\n",
    "    longDF = pd.DataFrame(longList, columns = ['Longitude'])\n",
    "    print(latDF)\n",
    "    print(longDF)    "
   ]
  },
  {
   "cell_type": "code",
   "execution_count": 9,
   "metadata": {},
   "outputs": [],
   "source": [
    "def get_zipcode(df, geolocator, lat_field, lon_field):\n",
    "    location = geolocator.reverse((df[lat_field], df[lon_field]))\n",
    "    return location.raw['address']['postcode']\n",
    "\n",
    "geolocator = Nominatim(user_agent='asdf')\n",
    "\n",
    "df = pd.DataFrame({\n",
    "    'Lat': latList,\n",
    "    'Lon': longList\n",
    "})"
   ]
  },
  {
   "cell_type": "code",
   "execution_count": 13,
   "metadata": {},
   "outputs": [
    {
     "name": "stdout",
     "output_type": "stream",
     "text": [
      "0       60645\n",
      "1      690639\n",
      "2       60629\n",
      "3       60620\n",
      "4       60606\n",
      "        ...  \n",
      "144     60643\n",
      "145     60628\n",
      "146     60641\n",
      "147     60634\n",
      "148     60804\n",
      "Length: 149, dtype: object\n"
     ]
    }
   ],
   "source": [
    "zipcodes = df.apply(get_zipcode, axis=1, geolocator=geolocator, lat_field='Lat', lon_field='Lon')\n",
    "print(zipcodes)\n",
    "zipcodes.to_csv(r'C:\\Users\\Tiffany Yeh\\NU-Bootcamp\\Group-4-\\export_dataframe.csv', index = False, header=True)"
   ]
  },
  {
   "cell_type": "code",
   "execution_count": null,
   "metadata": {},
   "outputs": [],
   "source": []
  }
 ],
 "metadata": {
  "kernelspec": {
   "display_name": "Python 3",
   "language": "python",
   "name": "python3"
  },
  "language_info": {
   "codemirror_mode": {
    "name": "ipython",
    "version": 3
   },
   "file_extension": ".py",
   "mimetype": "text/x-python",
   "name": "python",
   "nbconvert_exporter": "python",
   "pygments_lexer": "ipython3",
   "version": "3.8.5"
  }
 },
 "nbformat": 4,
 "nbformat_minor": 4
}
