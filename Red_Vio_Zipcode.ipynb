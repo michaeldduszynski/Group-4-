{
 "cells": [
  {
   "cell_type": "code",
   "execution_count": 2,
   "metadata": {},
   "outputs": [],
   "source": [
    "import os\n",
    "import csv\n",
    "import geopy\n",
    "import pandas as pd\n",
    "from geopy.geocoders import Nominatim"
   ]
  },
  {
   "cell_type": "code",
   "execution_count": 3,
   "metadata": {},
   "outputs": [],
   "source": [
    "redVioLoc = os.path.join(\"..\", \"Group-4-\",\"Resources\", \"red-light-camera-violations.csv\")"
   ]
  },
  {
   "cell_type": "code",
   "execution_count": 5,
   "metadata": {},
   "outputs": [],
   "source": [
    "latList = []\n",
    "longList = []"
   ]
  },
  {
   "cell_type": "code",
   "execution_count": 6,
   "metadata": {},
   "outputs": [
    {
     "name": "stdout",
     "output_type": "stream",
     "text": [
      "            Latitude\n",
      "0       41.692465363\n",
      "1       41.692263123\n",
      "2       41.677720829\n",
      "3       41.677923389\n",
      "4                   \n",
      "...              ...\n",
      "521528  41.910409024\n",
      "521529  42.005076123\n",
      "521530  42.005076123\n",
      "521531  42.012371335\n",
      "521532  42.012371335\n",
      "\n",
      "[521533 rows x 1 columns]\n",
      "            Longitude\n",
      "0       -87.642440901\n",
      "1       -87.642522688\n",
      "2       -87.642051845\n",
      "3       -87.641989646\n",
      "4                    \n",
      "...               ...\n",
      "521528  -87.687370268\n",
      "521529   -87.69021903\n",
      "521530   -87.69021903\n",
      "521531  -87.690393917\n",
      "521532  -87.690393917\n",
      "\n",
      "[521533 rows x 1 columns]\n"
     ]
    }
   ],
   "source": [
    "with open(redVioLoc, 'r', encoding='utf-8') as csvfile:\n",
    "    csvreader = csv.reader(csvfile, delimiter=',')\n",
    "    header = next(csvreader)\n",
    "    for row in csvreader:\n",
    "        Latitude = row[7]\n",
    "        Longitude = row[8]\n",
    "        latList.append(Latitude)\n",
    "        longList.append(Longitude)\n",
    "    #print(latList)\n",
    "    #print(longList)\n",
    "    latDF = pd.DataFrame(latList,columns=['Latitude'])\n",
    "    longDF = pd.DataFrame(longList, columns = ['Longitude'])\n",
    "    print(latDF)\n",
    "    print(longDF)   "
   ]
  },
  {
   "cell_type": "code",
   "execution_count": 7,
   "metadata": {},
   "outputs": [
    {
     "data": {
      "text/plain": [
       "521533"
      ]
     },
     "execution_count": 7,
     "metadata": {},
     "output_type": "execute_result"
    }
   ],
   "source": []
  },
  {
   "cell_type": "code",
   "execution_count": null,
   "metadata": {},
   "outputs": [],
   "source": []
  }
 ],
 "metadata": {
  "kernelspec": {
   "display_name": "Python 3",
   "language": "python",
   "name": "python3"
  },
  "language_info": {
   "codemirror_mode": {
    "name": "ipython",
    "version": 3
   },
   "file_extension": ".py",
   "mimetype": "text/x-python",
   "name": "python",
   "nbconvert_exporter": "python",
   "pygments_lexer": "ipython3",
   "version": "3.8.5"
  }
 },
 "nbformat": 4,
 "nbformat_minor": 4
}
