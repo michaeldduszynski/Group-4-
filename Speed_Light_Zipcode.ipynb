{
 "cells": [
  {
   "cell_type": "code",
   "execution_count": 10,
   "metadata": {},
   "outputs": [],
   "source": [
    "import os\n",
    "import csv\n",
    "import geopy\n",
    "import pandas as pd\n",
    "from geopy.geocoders import Nominatim"
   ]
  },
  {
   "cell_type": "code",
   "execution_count": 11,
   "metadata": {},
   "outputs": [],
   "source": [
    "speedCamLoc = os.path.join(\"..\", \"Group-4-\",\"Resources\", \"speed-camera-locations.csv\")"
   ]
  },
  {
   "cell_type": "code",
   "execution_count": 12,
   "metadata": {},
   "outputs": [],
   "source": [
    "latList = []\n",
    "longList = []"
   ]
  },
  {
   "cell_type": "code",
   "execution_count": 13,
   "metadata": {},
   "outputs": [
    {
     "name": "stdout",
     "output_type": "stream",
     "text": [
      "               Latitude\n",
      "0             41.896652\n",
      "1      41.9921194114274\n",
      "2     41.95332954454448\n",
      "3      41.9459625867886\n",
      "4    41.741741651401504\n",
      "..                  ...\n",
      "156   41.87382420497741\n",
      "157   41.96288063517309\n",
      "158           41.931868\n",
      "159   41.96924714863934\n",
      "160   41.93925823071868\n",
      "\n",
      "[161 rows x 1 columns]\n",
      "              Longitude\n",
      "0            -87.627837\n",
      "1    -87.74847678515228\n",
      "2    -87.76426726425451\n",
      "3    -87.68838396394528\n",
      "4    -87.66307332925098\n",
      "..                  ...\n",
      "156  -87.62774075943143\n",
      "157   -87.6560244499908\n",
      "158          -87.724595\n",
      "159  -87.76401945149458\n",
      "160  -87.72278142793657\n",
      "\n",
      "[161 rows x 1 columns]\n"
     ]
    }
   ],
   "source": [
    "with open(speedCamLoc, 'r', encoding='utf-8') as csvfile:\n",
    "    csvreader = csv.reader(csvfile, delimiter=',')\n",
    "    header = next(csvreader)\n",
    "    for row in csvreader:\n",
    "        Latitude = row[4]\n",
    "        Longitude = row[5]\n",
    "        latList.append(Latitude)\n",
    "        longList.append(Longitude)\n",
    "    #print(latList)\n",
    "    #print(longList)\n",
    "    latDF = pd.DataFrame(latList,columns=['Latitude'])\n",
    "    longDF = pd.DataFrame(longList, columns = ['Longitude'])\n",
    "    print(latDF)\n",
    "    print(longDF)    "
   ]
  },
  {
   "cell_type": "code",
   "execution_count": 14,
   "metadata": {},
   "outputs": [],
   "source": [
    "def get_zipcode(df, geolocator, lat_field, lon_field):\n",
    "    location = geolocator.reverse((df[lat_field], df[lon_field]))\n",
    "    return location.raw['address']['postcode']\n",
    "\n",
    "geolocator = Nominatim(user_agent='asdf')\n",
    "\n",
    "df = pd.DataFrame({\n",
    "    'Lat': latList,\n",
    "    'Lon': longList\n",
    "})"
   ]
  },
  {
   "cell_type": "code",
   "execution_count": 16,
   "metadata": {},
   "outputs": [
    {
     "name": "stdout",
     "output_type": "stream",
     "text": [
      "0      60611\n",
      "1      60646\n",
      "2      60630\n",
      "3      60618\n",
      "4      60620\n",
      "       ...  \n",
      "156    60605\n",
      "157    60640\n",
      "158    60641\n",
      "159    60656\n",
      "160    60618\n",
      "Length: 161, dtype: object\n"
     ]
    }
   ],
   "source": [
    "zipcodes = df.apply(get_zipcode, axis=1, geolocator=geolocator, lat_field='Lat', lon_field='Lon')\n",
    "print(zipcodes)\n",
    "zipcodes.to_csv(r'C:\\Users\\Tiffany Yeh\\NU-Bootcamp\\Group-4-\\export_dataframe2.csv', index = False, header=True)"
   ]
  },
  {
   "cell_type": "code",
   "execution_count": null,
   "metadata": {},
   "outputs": [],
   "source": []
  }
 ],
 "metadata": {
  "kernelspec": {
   "display_name": "Python 3",
   "language": "python",
   "name": "python3"
  },
  "language_info": {
   "codemirror_mode": {
    "name": "ipython",
    "version": 3
   },
   "file_extension": ".py",
   "mimetype": "text/x-python",
   "name": "python",
   "nbconvert_exporter": "python",
   "pygments_lexer": "ipython3",
   "version": "3.8.5"
  }
 },
 "nbformat": 4,
 "nbformat_minor": 4
}
