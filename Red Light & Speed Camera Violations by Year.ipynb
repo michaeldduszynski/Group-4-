{
 "cells": [
  {
   "cell_type": "code",
   "execution_count": 50,
   "metadata": {},
   "outputs": [],
   "source": [
    "import os\n",
    "import csv\n",
    "import pandas as pd\n",
    "import matplotlib.pyplot as plt\n",
    "import numpy as np"
   ]
  },
  {
   "cell_type": "code",
   "execution_count": 56,
   "metadata": {},
   "outputs": [
    {
     "data": {
      "text/html": [
       "<div>\n",
       "<style scoped>\n",
       "    .dataframe tbody tr th:only-of-type {\n",
       "        vertical-align: middle;\n",
       "    }\n",
       "\n",
       "    .dataframe tbody tr th {\n",
       "        vertical-align: top;\n",
       "    }\n",
       "\n",
       "    .dataframe thead th {\n",
       "        text-align: right;\n",
       "    }\n",
       "</style>\n",
       "<table border=\"1\" class=\"dataframe\">\n",
       "  <thead>\n",
       "    <tr style=\"text-align: right;\">\n",
       "      <th></th>\n",
       "      <th>INTERSECTION</th>\n",
       "      <th>CAMERA ID</th>\n",
       "      <th>ADDRESS</th>\n",
       "      <th>Year</th>\n",
       "      <th>VIOLATION DATE</th>\n",
       "      <th>VIOLATIONS</th>\n",
       "      <th>X COORDINATE</th>\n",
       "      <th>Y COORDINATE</th>\n",
       "      <th>LATITUDE</th>\n",
       "      <th>LONGITUDE</th>\n",
       "      <th>LOCATION</th>\n",
       "      <th>Historical Wards 2003-2015</th>\n",
       "      <th>Zip Codes</th>\n",
       "      <th>Community Areas</th>\n",
       "      <th>Census Tracts</th>\n",
       "      <th>Wards</th>\n",
       "    </tr>\n",
       "  </thead>\n",
       "  <tbody>\n",
       "    <tr>\n",
       "      <th>0</th>\n",
       "      <td>111TH AND HALSTED</td>\n",
       "      <td>2424.0</td>\n",
       "      <td>800 W 111TH ST</td>\n",
       "      <td>2019</td>\n",
       "      <td>2019-11-21T00:00:00.000</td>\n",
       "      <td>1</td>\n",
       "      <td>1172945.404</td>\n",
       "      <td>1831282.917</td>\n",
       "      <td>41.692465</td>\n",
       "      <td>-87.642441</td>\n",
       "      <td>{'latitude': '41.692465363421874', 'human_addr...</td>\n",
       "      <td>45.0</td>\n",
       "      <td>21861.0</td>\n",
       "      <td>74.0</td>\n",
       "      <td>315.0</td>\n",
       "      <td>22.0</td>\n",
       "    </tr>\n",
       "    <tr>\n",
       "      <th>1</th>\n",
       "      <td>111TH AND HALSTED</td>\n",
       "      <td>2422.0</td>\n",
       "      <td>11100 S HALSTED ST</td>\n",
       "      <td>2019</td>\n",
       "      <td>2019-11-21T00:00:00.000</td>\n",
       "      <td>7</td>\n",
       "      <td>1172923.658</td>\n",
       "      <td>1831209.044</td>\n",
       "      <td>41.692263</td>\n",
       "      <td>-87.642523</td>\n",
       "      <td>{'latitude': '41.692263123425136', 'human_addr...</td>\n",
       "      <td>45.0</td>\n",
       "      <td>21861.0</td>\n",
       "      <td>74.0</td>\n",
       "      <td>663.0</td>\n",
       "      <td>22.0</td>\n",
       "    </tr>\n",
       "    <tr>\n",
       "      <th>2</th>\n",
       "      <td>119TH AND HALSTED</td>\n",
       "      <td>2402.0</td>\n",
       "      <td>11900 S HALSTED</td>\n",
       "      <td>2019</td>\n",
       "      <td>2019-11-21T00:00:00.000</td>\n",
       "      <td>12</td>\n",
       "      <td>1173094.775</td>\n",
       "      <td>1825911.055</td>\n",
       "      <td>41.677721</td>\n",
       "      <td>-87.642052</td>\n",
       "      <td>{'latitude': '41.67772082924762', 'human_addre...</td>\n",
       "      <td>45.0</td>\n",
       "      <td>21861.0</td>\n",
       "      <td>50.0</td>\n",
       "      <td>662.0</td>\n",
       "      <td>22.0</td>\n",
       "    </tr>\n",
       "    <tr>\n",
       "      <th>3</th>\n",
       "      <td>119TH AND HALSTED</td>\n",
       "      <td>2404.0</td>\n",
       "      <td>800 W 119TH STREET</td>\n",
       "      <td>2019</td>\n",
       "      <td>2019-11-21T00:00:00.000</td>\n",
       "      <td>5</td>\n",
       "      <td>1173111.174</td>\n",
       "      <td>1825985.001</td>\n",
       "      <td>41.677923</td>\n",
       "      <td>-87.641990</td>\n",
       "      <td>{'latitude': '41.677923389134385', 'human_addr...</td>\n",
       "      <td>45.0</td>\n",
       "      <td>21861.0</td>\n",
       "      <td>50.0</td>\n",
       "      <td>642.0</td>\n",
       "      <td>22.0</td>\n",
       "    </tr>\n",
       "    <tr>\n",
       "      <th>4</th>\n",
       "      <td>31ST ST AND MARTIN LUTHER KING DRIVE</td>\n",
       "      <td>2121.0</td>\n",
       "      <td>3100 S DR MARTIN L KING</td>\n",
       "      <td>2019</td>\n",
       "      <td>2019-11-21T00:00:00.000</td>\n",
       "      <td>6</td>\n",
       "      <td>NaN</td>\n",
       "      <td>NaN</td>\n",
       "      <td>NaN</td>\n",
       "      <td>NaN</td>\n",
       "      <td>NaN</td>\n",
       "      <td>NaN</td>\n",
       "      <td>NaN</td>\n",
       "      <td>NaN</td>\n",
       "      <td>NaN</td>\n",
       "      <td>NaN</td>\n",
       "    </tr>\n",
       "  </tbody>\n",
       "</table>\n",
       "</div>"
      ],
      "text/plain": [
       "                           INTERSECTION  CAMERA ID                  ADDRESS  \\\n",
       "0                     111TH AND HALSTED     2424.0           800 W 111TH ST   \n",
       "1                     111TH AND HALSTED     2422.0       11100 S HALSTED ST   \n",
       "2                     119TH AND HALSTED     2402.0          11900 S HALSTED   \n",
       "3                     119TH AND HALSTED     2404.0       800 W 119TH STREET   \n",
       "4  31ST ST AND MARTIN LUTHER KING DRIVE     2121.0  3100 S DR MARTIN L KING   \n",
       "\n",
       "   Year           VIOLATION DATE  VIOLATIONS  X COORDINATE  Y COORDINATE  \\\n",
       "0  2019  2019-11-21T00:00:00.000           1   1172945.404   1831282.917   \n",
       "1  2019  2019-11-21T00:00:00.000           7   1172923.658   1831209.044   \n",
       "2  2019  2019-11-21T00:00:00.000          12   1173094.775   1825911.055   \n",
       "3  2019  2019-11-21T00:00:00.000           5   1173111.174   1825985.001   \n",
       "4  2019  2019-11-21T00:00:00.000           6           NaN           NaN   \n",
       "\n",
       "    LATITUDE  LONGITUDE                                           LOCATION  \\\n",
       "0  41.692465 -87.642441  {'latitude': '41.692465363421874', 'human_addr...   \n",
       "1  41.692263 -87.642523  {'latitude': '41.692263123425136', 'human_addr...   \n",
       "2  41.677721 -87.642052  {'latitude': '41.67772082924762', 'human_addre...   \n",
       "3  41.677923 -87.641990  {'latitude': '41.677923389134385', 'human_addr...   \n",
       "4        NaN        NaN                                                NaN   \n",
       "\n",
       "   Historical Wards 2003-2015  Zip Codes  Community Areas  Census Tracts  \\\n",
       "0                        45.0    21861.0             74.0          315.0   \n",
       "1                        45.0    21861.0             74.0          663.0   \n",
       "2                        45.0    21861.0             50.0          662.0   \n",
       "3                        45.0    21861.0             50.0          642.0   \n",
       "4                         NaN        NaN              NaN            NaN   \n",
       "\n",
       "   Wards  \n",
       "0   22.0  \n",
       "1   22.0  \n",
       "2   22.0  \n",
       "3   22.0  \n",
       "4    NaN  "
      ]
     },
     "execution_count": 56,
     "metadata": {},
     "output_type": "execute_result"
    }
   ],
   "source": [
    "red_violations_data = \"Red Light Camera Violations Data.csv\"\n",
    "red_violations_data = pd.read_csv(red_violations_data)\n",
    "red_violations_data.head()"
   ]
  },
  {
   "cell_type": "code",
   "execution_count": 42,
   "metadata": {},
   "outputs": [
    {
     "data": {
      "text/plain": [
       "Index(['INTERSECTION', 'CAMERA ID', 'ADDRESS', 'Year', 'VIOLATION DATE',\n",
       "       'VIOLATIONS', 'X COORDINATE', 'Y COORDINATE', 'LATITUDE', 'LONGITUDE',\n",
       "       'LOCATION', 'Historical Wards 2003-2015', 'Zip Codes',\n",
       "       'Community Areas', 'Census Tracts', 'Wards'],\n",
       "      dtype='object')"
      ]
     },
     "execution_count": 42,
     "metadata": {},
     "output_type": "execute_result"
    }
   ],
   "source": [
    "red_violations_data.columns"
   ]
  },
  {
   "cell_type": "code",
   "execution_count": 59,
   "metadata": {},
   "outputs": [],
   "source": [
    "red_violations_df = pd.DataFrame(red_violations_data)"
   ]
  },
  {
   "cell_type": "code",
   "execution_count": 60,
   "metadata": {},
   "outputs": [
    {
     "data": {
      "text/plain": [
       "Year\n",
       "2014    267063\n",
       "2015    484772\n",
       "2016    636402\n",
       "2017    526240\n",
       "2018    562916\n",
       "2019    478263\n",
       "Name: VIOLATIONS, dtype: int64"
      ]
     },
     "execution_count": 60,
     "metadata": {},
     "output_type": "execute_result"
    }
   ],
   "source": [
    "Red_Light_Violations_By_Year = red_light_violations_df.groupby(\"Year\")[\"VIOLATIONS\"].sum()\n",
    "Red_Light_Violations_By_Year"
   ]
  },
  {
   "cell_type": "code",
   "execution_count": 66,
   "metadata": {},
   "outputs": [
    {
     "data": {
      "image/png": "[encoded data removed]",
      "text/plain": [
       "<Figure size 432x288 with 1 Axes>"
      ]
     },
     "metadata": {
      "needs_background": "light"
     },
     "output_type": "display_data"
    }
   ],
   "source": [
    "Year = [2014, 2015, 2016, 2017, 2018, 2019]\n",
    "Violations = [267063, 484772, 636402, 526240, 562916, 478263]\n",
    "  \n",
    "plt.plot(Year, Violations)\n",
    "plt.title('Red Light Camera Violations per Year')\n",
    "plt.xlabel('Year')\n",
    "plt.ylabel('Violations')\n",
    "plt.show()"
   ]
  },
  {
   "cell_type": "code",
   "execution_count": 58,
   "metadata": {},
   "outputs": [
    {
     "data": {
      "text/html": [
       "<div>\n",
       "<style scoped>\n",
       "    .dataframe tbody tr th:only-of-type {\n",
       "        vertical-align: middle;\n",
       "    }\n",
       "\n",
       "    .dataframe tbody tr th {\n",
       "        vertical-align: top;\n",
       "    }\n",
       "\n",
       "    .dataframe thead th {\n",
       "        text-align: right;\n",
       "    }\n",
       "</style>\n",
       "<table border=\"1\" class=\"dataframe\">\n",
       "  <thead>\n",
       "    <tr style=\"text-align: right;\">\n",
       "      <th></th>\n",
       "      <th>ADDRESS</th>\n",
       "      <th>CAMERA ID</th>\n",
       "      <th>Year</th>\n",
       "      <th>VIOLATION DATE</th>\n",
       "      <th>VIOLATIONS</th>\n",
       "      <th>X COORDINATE</th>\n",
       "      <th>Y COORDINATE</th>\n",
       "      <th>LATITUDE</th>\n",
       "      <th>LONGITUDE</th>\n",
       "      <th>LOCATION</th>\n",
       "      <th>Historical Wards 2003-2015</th>\n",
       "      <th>Zip Codes</th>\n",
       "      <th>Community Areas</th>\n",
       "      <th>Census Tracts</th>\n",
       "      <th>Wards</th>\n",
       "    </tr>\n",
       "  </thead>\n",
       "  <tbody>\n",
       "    <tr>\n",
       "      <th>0</th>\n",
       "      <td>10318 S INDIANAPOLIS</td>\n",
       "      <td>CHI120</td>\n",
       "      <td>2019</td>\n",
       "      <td>2019-11-21T00:00:00.000</td>\n",
       "      <td>87</td>\n",
       "      <td>1203645.368</td>\n",
       "      <td>1837056.145</td>\n",
       "      <td>41.707577</td>\n",
       "      <td>-87.529848</td>\n",
       "      <td>{'latitude': '41.70757690291348', 'human_addre...</td>\n",
       "      <td>47.0</td>\n",
       "      <td>21202.0</td>\n",
       "      <td>49.0</td>\n",
       "      <td>705.0</td>\n",
       "      <td>47.0</td>\n",
       "    </tr>\n",
       "    <tr>\n",
       "      <th>1</th>\n",
       "      <td>1110 S PULASKI RD</td>\n",
       "      <td>CHI163</td>\n",
       "      <td>2019</td>\n",
       "      <td>2019-11-21T00:00:00.000</td>\n",
       "      <td>7</td>\n",
       "      <td>1149841.166</td>\n",
       "      <td>1894930.809</td>\n",
       "      <td>41.867603</td>\n",
       "      <td>-87.725383</td>\n",
       "      <td>{'latitude': '41.86760272243294', 'human_addre...</td>\n",
       "      <td>36.0</td>\n",
       "      <td>21572.0</td>\n",
       "      <td>30.0</td>\n",
       "      <td>98.0</td>\n",
       "      <td>14.0</td>\n",
       "    </tr>\n",
       "    <tr>\n",
       "      <th>2</th>\n",
       "      <td>1111 N HUMBOLDT</td>\n",
       "      <td>CHI010</td>\n",
       "      <td>2019</td>\n",
       "      <td>2019-11-21T00:00:00.000</td>\n",
       "      <td>36</td>\n",
       "      <td>NaN</td>\n",
       "      <td>NaN</td>\n",
       "      <td>NaN</td>\n",
       "      <td>NaN</td>\n",
       "      <td>NaN</td>\n",
       "      <td>NaN</td>\n",
       "      <td>NaN</td>\n",
       "      <td>NaN</td>\n",
       "      <td>NaN</td>\n",
       "      <td>NaN</td>\n",
       "    </tr>\n",
       "    <tr>\n",
       "      <th>3</th>\n",
       "      <td>11144 S VINCENNES</td>\n",
       "      <td>CHI023</td>\n",
       "      <td>2019</td>\n",
       "      <td>2019-11-21T00:00:00.000</td>\n",
       "      <td>6</td>\n",
       "      <td>1166993.613</td>\n",
       "      <td>1830711.217</td>\n",
       "      <td>41.691025</td>\n",
       "      <td>-87.664248</td>\n",
       "      <td>{'latitude': '41.69102545584918', 'human_addre...</td>\n",
       "      <td>33.0</td>\n",
       "      <td>22212.0</td>\n",
       "      <td>74.0</td>\n",
       "      <td>378.0</td>\n",
       "      <td>42.0</td>\n",
       "    </tr>\n",
       "    <tr>\n",
       "      <th>4</th>\n",
       "      <td>11153 S VINCENNES</td>\n",
       "      <td>CHI022</td>\n",
       "      <td>2019</td>\n",
       "      <td>2019-11-21T00:00:00.000</td>\n",
       "      <td>4</td>\n",
       "      <td>1167028.753</td>\n",
       "      <td>1830593.601</td>\n",
       "      <td>41.690702</td>\n",
       "      <td>-87.664122</td>\n",
       "      <td>{'latitude': '41.690701951255015', 'human_addr...</td>\n",
       "      <td>45.0</td>\n",
       "      <td>22212.0</td>\n",
       "      <td>74.0</td>\n",
       "      <td>378.0</td>\n",
       "      <td>22.0</td>\n",
       "    </tr>\n",
       "  </tbody>\n",
       "</table>\n",
       "</div>"
      ],
      "text/plain": [
       "                ADDRESS CAMERA ID  Year           VIOLATION DATE  VIOLATIONS  \\\n",
       "0  10318 S INDIANAPOLIS    CHI120  2019  2019-11-21T00:00:00.000          87   \n",
       "1     1110 S PULASKI RD    CHI163  2019  2019-11-21T00:00:00.000           7   \n",
       "2       1111 N HUMBOLDT    CHI010  2019  2019-11-21T00:00:00.000          36   \n",
       "3     11144 S VINCENNES    CHI023  2019  2019-11-21T00:00:00.000           6   \n",
       "4     11153 S VINCENNES    CHI022  2019  2019-11-21T00:00:00.000           4   \n",
       "\n",
       "   X COORDINATE  Y COORDINATE   LATITUDE  LONGITUDE  \\\n",
       "0   1203645.368   1837056.145  41.707577 -87.529848   \n",
       "1   1149841.166   1894930.809  41.867603 -87.725383   \n",
       "2           NaN           NaN        NaN        NaN   \n",
       "3   1166993.613   1830711.217  41.691025 -87.664248   \n",
       "4   1167028.753   1830593.601  41.690702 -87.664122   \n",
       "\n",
       "                                            LOCATION  \\\n",
       "0  {'latitude': '41.70757690291348', 'human_addre...   \n",
       "1  {'latitude': '41.86760272243294', 'human_addre...   \n",
       "2                                                NaN   \n",
       "3  {'latitude': '41.69102545584918', 'human_addre...   \n",
       "4  {'latitude': '41.690701951255015', 'human_addr...   \n",
       "\n",
       "   Historical Wards 2003-2015  Zip Codes  Community Areas  Census Tracts  \\\n",
       "0                        47.0    21202.0             49.0          705.0   \n",
       "1                        36.0    21572.0             30.0           98.0   \n",
       "2                         NaN        NaN              NaN            NaN   \n",
       "3                        33.0    22212.0             74.0          378.0   \n",
       "4                        45.0    22212.0             74.0          378.0   \n",
       "\n",
       "   Wards  \n",
       "0   47.0  \n",
       "1   14.0  \n",
       "2    NaN  \n",
       "3   42.0  \n",
       "4   22.0  "
      ]
     },
     "execution_count": 58,
     "metadata": {},
     "output_type": "execute_result"
    }
   ],
   "source": [
    "speed_violations_data = \"Speed Camera Violations Data.csv\"\n",
    "speed_violations_data = pd.read_csv(speed_violations_data)\n",
    "speed_violations_data.head()"
   ]
  },
  {
   "cell_type": "code",
   "execution_count": 61,
   "metadata": {},
   "outputs": [],
   "source": [
    "speed_violations_df = pd.DataFrame(speed_violations_data)"
   ]
  },
  {
   "cell_type": "code",
   "execution_count": 70,
   "metadata": {},
   "outputs": [
    {
     "data": {
      "text/plain": [
       "Year\n",
       "2014     659424\n",
       "2015    1201698\n",
       "2016    1116805\n",
       "2017    1015490\n",
       "2018     961543\n",
       "2019     771370\n",
       "Name: VIOLATIONS, dtype: int64"
      ]
     },
     "execution_count": 70,
     "metadata": {},
     "output_type": "execute_result"
    }
   ],
   "source": [
    "speed_Camera_Violations_By_Year = speed_violations_df.groupby(\"Year\")[\"VIOLATIONS\"].sum()\n",
    "speed_Camera_Violations_By_Year"
   ]
  },
  {
   "cell_type": "code",
   "execution_count": 69,
   "metadata": {},
   "outputs": [
    {
     "data": {
      "image/png": "[encoded data removed]",
      "text/plain": [
       "<Figure size 432x288 with 1 Axes>"
      ]
     },
     "metadata": {
      "needs_background": "light"
     },
     "output_type": "display_data"
    }
   ],
   "source": [
    "Year = [2014, 2015, 2016, 2017, 2018, 2019]\n",
    "Violations = [659424, 1201698, 1116805, 1015490, 961543, 771370]\n",
    "  \n",
    "plt.plot(Year, Violations)\n",
    "plt.title('Speed Camera Violations per Year')\n",
    "plt.xlabel('Year')\n",
    "plt.ylabel('Violations (M)')\n",
    "plt.show()"
   ]
  }
 ],
 "metadata": {
  "kernelspec": {
   "display_name": "Python 3",
   "language": "python",
   "name": "python3"
  },
  "language_info": {
   "codemirror_mode": {
    "name": "ipython",
    "version": 3
   },
   "file_extension": ".py",
   "mimetype": "text/x-python",
   "name": "python",
   "nbconvert_exporter": "python",
   "pygments_lexer": "ipython3",
   "version": "3.8.5"
  }
 },
 "nbformat": 4,
 "nbformat_minor": 4
}
