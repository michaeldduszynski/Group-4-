{
 "cells": [
  {
   "cell_type": "code",
   "execution_count": 39,
   "metadata": {},
   "outputs": [],
   "source": [
    "%matplotlib inline\n",
    "import matplotlib.pyplot as plt\n",
    "import matplotlib as mpl\n",
    "import pandas as pd\n",
    "import numpy as np\n",
    "import requests\n",
    "import seaborn as sns\n",
    "import datetime\n",
    "import os\n",
    "import gmaps\n",
    "import json\n",
    "import scipy.stats as st\n",
    "from scipy.stats import linregress\n",
    "from collections import OrderedDict\n",
    "\n",
    "locations_df = os.path.join(\"Resources\", \"speed-camera-locations.csv\")\n",
    "locations_df = pd.read_csv(locations_df)\n",
    "violations_df = os.path.join(\"Resources\", \"speed-camera-violations.csv\")\n",
    "violations_df = pd.read_csv(violations_df)\n",
    "tickets_df = os.path.join(\"Resources\", \"tickets_df.csv\")\n",
    "wards_df = os.path.join(\"Resources\", \"Ward_Offices.csv\")\n",
    "wards_df = pd.read_csv(wards_df)"
   ]
  },
  {
   "cell_type": "code",
   "execution_count": 40,
   "metadata": {},
   "outputs": [],
   "source": [
    "locations_df = pd.DataFrame(locations_df)\n",
    "locations_df = locations_df.dropna(how =\"any\")\n",
    "violations_df = pd.DataFrame(violations_df)\n",
    "violations_df = violations_df.dropna(how =\"any\")\n",
    "wards_df = pd.DataFrame(wards_df)\n",
    "wards_df = wards_df.dropna(how = \"any\")"
   ]
  },
  {
   "cell_type": "code",
   "execution_count": 41,
   "metadata": {},
   "outputs": [
    {
     "name": "stderr",
     "output_type": "stream",
     "text": [
      "/Users/ericnietzer/opt/anaconda3/lib/python3.8/site-packages/IPython/core/interactiveshell.py:3146: DtypeWarning: Columns (6,7) have mixed types.Specify dtype option on import or set low_memory=False.\n",
      "  has_raised = await self.run_ast_nodes(code_ast.body, cell_name,\n"
     ]
    },
    {
     "data": {
      "text/html": [
       "<div>\n",
       "<style scoped>\n",
       "    .dataframe tbody tr th:only-of-type {\n",
       "        vertical-align: middle;\n",
       "    }\n",
       "\n",
       "    .dataframe tbody tr th {\n",
       "        vertical-align: top;\n",
       "    }\n",
       "\n",
       "    .dataframe thead th {\n",
       "        text-align: right;\n",
       "    }\n",
       "</style>\n",
       "<table border=\"1\" class=\"dataframe\">\n",
       "  <thead>\n",
       "    <tr style=\"text-align: right;\">\n",
       "      <th></th>\n",
       "      <th>issue_date</th>\n",
       "      <th>violation_location</th>\n",
       "      <th>zipcode</th>\n",
       "      <th>violation_description</th>\n",
       "      <th>total_payments</th>\n",
       "      <th>year</th>\n",
       "    </tr>\n",
       "  </thead>\n",
       "  <tbody>\n",
       "    <tr>\n",
       "      <th>0</th>\n",
       "      <td>2003-11-01 01:04:00</td>\n",
       "      <td>5500 S WESTERN AVE S</td>\n",
       "      <td>60629</td>\n",
       "      <td>RED LIGHT VIOLATION</td>\n",
       "      <td>90.0</td>\n",
       "      <td>2003</td>\n",
       "    </tr>\n",
       "    <tr>\n",
       "      <th>1</th>\n",
       "      <td>2003-11-01 01:35:00</td>\n",
       "      <td>2400 W 55TH STREET E</td>\n",
       "      <td>60632</td>\n",
       "      <td>RED LIGHT VIOLATION</td>\n",
       "      <td>190.0</td>\n",
       "      <td>2003</td>\n",
       "    </tr>\n",
       "    <tr>\n",
       "      <th>2</th>\n",
       "      <td>2003-11-01 02:41:00</td>\n",
       "      <td>2400 W 55TH STREET E</td>\n",
       "      <td>62901</td>\n",
       "      <td>RED LIGHT VIOLATION</td>\n",
       "      <td>180.0</td>\n",
       "      <td>2003</td>\n",
       "    </tr>\n",
       "    <tr>\n",
       "      <th>3</th>\n",
       "      <td>2003-11-01 05:04:00</td>\n",
       "      <td>2400 W 55TH STREET E</td>\n",
       "      <td>60638</td>\n",
       "      <td>RED LIGHT VIOLATION</td>\n",
       "      <td>90.0</td>\n",
       "      <td>2003</td>\n",
       "    </tr>\n",
       "    <tr>\n",
       "      <th>4</th>\n",
       "      <td>2003-11-01 06:40:00</td>\n",
       "      <td>2400 W 55TH STREET E</td>\n",
       "      <td>60632</td>\n",
       "      <td>RED LIGHT VIOLATION</td>\n",
       "      <td>90.0</td>\n",
       "      <td>2003</td>\n",
       "    </tr>\n",
       "    <tr>\n",
       "      <th>...</th>\n",
       "      <td>...</td>\n",
       "      <td>...</td>\n",
       "      <td>...</td>\n",
       "      <td>...</td>\n",
       "      <td>...</td>\n",
       "      <td>...</td>\n",
       "    </tr>\n",
       "    <tr>\n",
       "      <th>11557492</th>\n",
       "      <td>2016-12-31 23:55:00</td>\n",
       "      <td>4700 S KEDZIE AVE</td>\n",
       "      <td>605011172</td>\n",
       "      <td>RED LIGHT VIOLATION</td>\n",
       "      <td>100.0</td>\n",
       "      <td>2016</td>\n",
       "    </tr>\n",
       "    <tr>\n",
       "      <th>11557493</th>\n",
       "      <td>2016-12-31 23:56:00</td>\n",
       "      <td>2800 N CICERO AVENUE</td>\n",
       "      <td>60160</td>\n",
       "      <td>RED LIGHT VIOLATION</td>\n",
       "      <td>100.0</td>\n",
       "      <td>2016</td>\n",
       "    </tr>\n",
       "    <tr>\n",
       "      <th>11557494</th>\n",
       "      <td>2016-12-31 23:56:00</td>\n",
       "      <td>2000 W DIVISION</td>\n",
       "      <td>605613913</td>\n",
       "      <td>RED LIGHT VIOLATION</td>\n",
       "      <td>100.0</td>\n",
       "      <td>2016</td>\n",
       "    </tr>\n",
       "    <tr>\n",
       "      <th>11557495</th>\n",
       "      <td>2016-12-31 23:57:00</td>\n",
       "      <td>3600 N WESTERN AVENUE</td>\n",
       "      <td>601874971</td>\n",
       "      <td>RED LIGHT VIOLATION</td>\n",
       "      <td>100.0</td>\n",
       "      <td>2016</td>\n",
       "    </tr>\n",
       "    <tr>\n",
       "      <th>11557496</th>\n",
       "      <td>2016-12-31 23:58:00</td>\n",
       "      <td>400 N LASALLE</td>\n",
       "      <td>605408348</td>\n",
       "      <td>RED LIGHT VIOLATION</td>\n",
       "      <td>100.0</td>\n",
       "      <td>2016</td>\n",
       "    </tr>\n",
       "  </tbody>\n",
       "</table>\n",
       "<p>11555178 rows × 6 columns</p>\n",
       "</div>"
      ],
      "text/plain": [
       "                   issue_date     violation_location    zipcode  \\\n",
       "0         2003-11-01 01:04:00   5500 S WESTERN AVE S      60629   \n",
       "1         2003-11-01 01:35:00   2400 W 55TH STREET E      60632   \n",
       "2         2003-11-01 02:41:00   2400 W 55TH STREET E      62901   \n",
       "3         2003-11-01 05:04:00   2400 W 55TH STREET E      60638   \n",
       "4         2003-11-01 06:40:00   2400 W 55TH STREET E      60632   \n",
       "...                       ...                    ...        ...   \n",
       "11557492  2016-12-31 23:55:00      4700 S KEDZIE AVE  605011172   \n",
       "11557493  2016-12-31 23:56:00   2800 N CICERO AVENUE      60160   \n",
       "11557494  2016-12-31 23:56:00        2000 W DIVISION  605613913   \n",
       "11557495  2016-12-31 23:57:00  3600 N WESTERN AVENUE  601874971   \n",
       "11557496  2016-12-31 23:58:00          400 N LASALLE  605408348   \n",
       "\n",
       "         violation_description  total_payments  year  \n",
       "0          RED LIGHT VIOLATION            90.0  2003  \n",
       "1          RED LIGHT VIOLATION           190.0  2003  \n",
       "2          RED LIGHT VIOLATION           180.0  2003  \n",
       "3          RED LIGHT VIOLATION            90.0  2003  \n",
       "4          RED LIGHT VIOLATION            90.0  2003  \n",
       "...                        ...             ...   ...  \n",
       "11557492   RED LIGHT VIOLATION           100.0  2016  \n",
       "11557493   RED LIGHT VIOLATION           100.0  2016  \n",
       "11557494   RED LIGHT VIOLATION           100.0  2016  \n",
       "11557495   RED LIGHT VIOLATION           100.0  2016  \n",
       "11557496   RED LIGHT VIOLATION           100.0  2016  \n",
       "\n",
       "[11555178 rows x 6 columns]"
      ]
     },
     "execution_count": 41,
     "metadata": {},
     "output_type": "execute_result"
    }
   ],
   "source": [
    "#ProPublica dataset '03-'17\n",
    "tickets_df = pd.read_csv(tickets_df)\n",
    "keep_col = ['issue_date','violation_location', 'zipcode', 'violation_description', 'total_payments', 'year']\n",
    "tickets_df = tickets_df[keep_col]\n",
    "tickets_df.to_csv(\"newFile.csv\", index=False)\n",
    "tickets_df = tickets_df.dropna(how = \"any\")\n",
    "tickets_df"
   ]
  },
  {
   "cell_type": "code",
   "execution_count": 42,
   "metadata": {},
   "outputs": [
    {
     "data": {
      "text/html": [
       "<div>\n",
       "<style scoped>\n",
       "    .dataframe tbody tr th:only-of-type {\n",
       "        vertical-align: middle;\n",
       "    }\n",
       "\n",
       "    .dataframe tbody tr th {\n",
       "        vertical-align: top;\n",
       "    }\n",
       "\n",
       "    .dataframe thead th {\n",
       "        text-align: right;\n",
       "    }\n",
       "</style>\n",
       "<table border=\"1\" class=\"dataframe\">\n",
       "  <thead>\n",
       "    <tr style=\"text-align: right;\">\n",
       "      <th></th>\n",
       "      <th>ISSUED</th>\n",
       "      <th>ADDRESS</th>\n",
       "      <th>zipcode</th>\n",
       "      <th>VIOLATION</th>\n",
       "      <th>COST</th>\n",
       "      <th>year</th>\n",
       "    </tr>\n",
       "  </thead>\n",
       "  <tbody>\n",
       "    <tr>\n",
       "      <th>0</th>\n",
       "      <td>2003-11-01 01:04:00</td>\n",
       "      <td>5500 S WESTERN AVE S</td>\n",
       "      <td>60629</td>\n",
       "      <td>RED LIGHT VIOLATION</td>\n",
       "      <td>90.0</td>\n",
       "      <td>2003</td>\n",
       "    </tr>\n",
       "    <tr>\n",
       "      <th>1</th>\n",
       "      <td>2003-11-01 01:35:00</td>\n",
       "      <td>2400 W 55TH STREET E</td>\n",
       "      <td>60632</td>\n",
       "      <td>RED LIGHT VIOLATION</td>\n",
       "      <td>190.0</td>\n",
       "      <td>2003</td>\n",
       "    </tr>\n",
       "    <tr>\n",
       "      <th>2</th>\n",
       "      <td>2003-11-01 02:41:00</td>\n",
       "      <td>2400 W 55TH STREET E</td>\n",
       "      <td>62901</td>\n",
       "      <td>RED LIGHT VIOLATION</td>\n",
       "      <td>180.0</td>\n",
       "      <td>2003</td>\n",
       "    </tr>\n",
       "    <tr>\n",
       "      <th>3</th>\n",
       "      <td>2003-11-01 05:04:00</td>\n",
       "      <td>2400 W 55TH STREET E</td>\n",
       "      <td>60638</td>\n",
       "      <td>RED LIGHT VIOLATION</td>\n",
       "      <td>90.0</td>\n",
       "      <td>2003</td>\n",
       "    </tr>\n",
       "    <tr>\n",
       "      <th>4</th>\n",
       "      <td>2003-11-01 06:40:00</td>\n",
       "      <td>2400 W 55TH STREET E</td>\n",
       "      <td>60632</td>\n",
       "      <td>RED LIGHT VIOLATION</td>\n",
       "      <td>90.0</td>\n",
       "      <td>2003</td>\n",
       "    </tr>\n",
       "  </tbody>\n",
       "</table>\n",
       "</div>"
      ],
      "text/plain": [
       "                ISSUED               ADDRESS zipcode            VIOLATION  \\\n",
       "0  2003-11-01 01:04:00  5500 S WESTERN AVE S   60629  RED LIGHT VIOLATION   \n",
       "1  2003-11-01 01:35:00  2400 W 55TH STREET E   60632  RED LIGHT VIOLATION   \n",
       "2  2003-11-01 02:41:00  2400 W 55TH STREET E   62901  RED LIGHT VIOLATION   \n",
       "3  2003-11-01 05:04:00  2400 W 55TH STREET E   60638  RED LIGHT VIOLATION   \n",
       "4  2003-11-01 06:40:00  2400 W 55TH STREET E   60632  RED LIGHT VIOLATION   \n",
       "\n",
       "    COST  year  \n",
       "0   90.0  2003  \n",
       "1  190.0  2003  \n",
       "2  180.0  2003  \n",
       "3   90.0  2003  \n",
       "4   90.0  2003  "
      ]
     },
     "execution_count": 42,
     "metadata": {},
     "output_type": "execute_result"
    }
   ],
   "source": [
    "clean_tickets_df = tickets_df.rename(columns={\"issue_date\":\"ISSUED\", \"violation_location\":\"ADDRESS\", \"violation_description\":\"VIOLATION\", \"total_payments\":\"COST\"})\n",
    "clean_tickets_df.head()"
   ]
  },
  {
   "cell_type": "code",
   "execution_count": 117,
   "metadata": {},
   "outputs": [
    {
     "data": {
      "text/html": [
       "<div>\n",
       "<style scoped>\n",
       "    .dataframe tbody tr th:only-of-type {\n",
       "        vertical-align: middle;\n",
       "    }\n",
       "\n",
       "    .dataframe tbody tr th {\n",
       "        vertical-align: top;\n",
       "    }\n",
       "\n",
       "    .dataframe thead th {\n",
       "        text-align: right;\n",
       "    }\n",
       "</style>\n",
       "<table border=\"1\" class=\"dataframe\">\n",
       "  <thead>\n",
       "    <tr style=\"text-align: right;\">\n",
       "      <th></th>\n",
       "      <th>ADDRESS</th>\n",
       "      <th>zipcode</th>\n",
       "      <th>VIOLATION</th>\n",
       "      <th>COST</th>\n",
       "      <th>year</th>\n",
       "    </tr>\n",
       "  </thead>\n",
       "  <tbody>\n",
       "    <tr>\n",
       "      <th>0</th>\n",
       "      <td>5500 S WESTERN AVE S</td>\n",
       "      <td>60629</td>\n",
       "      <td>RED LIGHT VIOLATION</td>\n",
       "      <td>90.0</td>\n",
       "      <td>2003</td>\n",
       "    </tr>\n",
       "    <tr>\n",
       "      <th>1</th>\n",
       "      <td>2400 W 55TH STREET E</td>\n",
       "      <td>60632</td>\n",
       "      <td>RED LIGHT VIOLATION</td>\n",
       "      <td>190.0</td>\n",
       "      <td>2003</td>\n",
       "    </tr>\n",
       "    <tr>\n",
       "      <th>2</th>\n",
       "      <td>2400 W 55TH STREET E</td>\n",
       "      <td>62901</td>\n",
       "      <td>RED LIGHT VIOLATION</td>\n",
       "      <td>180.0</td>\n",
       "      <td>2003</td>\n",
       "    </tr>\n",
       "    <tr>\n",
       "      <th>3</th>\n",
       "      <td>2400 W 55TH STREET E</td>\n",
       "      <td>60638</td>\n",
       "      <td>RED LIGHT VIOLATION</td>\n",
       "      <td>90.0</td>\n",
       "      <td>2003</td>\n",
       "    </tr>\n",
       "    <tr>\n",
       "      <th>4</th>\n",
       "      <td>2400 W 55TH STREET E</td>\n",
       "      <td>60632</td>\n",
       "      <td>RED LIGHT VIOLATION</td>\n",
       "      <td>90.0</td>\n",
       "      <td>2003</td>\n",
       "    </tr>\n",
       "  </tbody>\n",
       "</table>\n",
       "</div>"
      ],
      "text/plain": [
       "                ADDRESS zipcode            VIOLATION   COST  year\n",
       "0  5500 S WESTERN AVE S   60629  RED LIGHT VIOLATION   90.0  2003\n",
       "1  2400 W 55TH STREET E   60632  RED LIGHT VIOLATION  190.0  2003\n",
       "2  2400 W 55TH STREET E   62901  RED LIGHT VIOLATION  180.0  2003\n",
       "3  2400 W 55TH STREET E   60638  RED LIGHT VIOLATION   90.0  2003\n",
       "4  2400 W 55TH STREET E   60632  RED LIGHT VIOLATION   90.0  2003"
      ]
     },
     "execution_count": 117,
     "metadata": {},
     "output_type": "execute_result"
    }
   ],
   "source": [
    "df = clean_tickets_df[['ADDRESS', 'zipcode','VIOLATION','COST', 'year']]\n",
    "df.head()"
   ]
  },
  {
   "cell_type": "code",
   "execution_count": 118,
   "metadata": {},
   "outputs": [
    {
     "data": {
      "text/html": [
       "<div>\n",
       "<style scoped>\n",
       "    .dataframe tbody tr th:only-of-type {\n",
       "        vertical-align: middle;\n",
       "    }\n",
       "\n",
       "    .dataframe tbody tr th {\n",
       "        vertical-align: top;\n",
       "    }\n",
       "\n",
       "    .dataframe thead th {\n",
       "        text-align: right;\n",
       "    }\n",
       "</style>\n",
       "<table border=\"1\" class=\"dataframe\">\n",
       "  <thead>\n",
       "    <tr style=\"text-align: right;\">\n",
       "      <th></th>\n",
       "      <th>ISSUED</th>\n",
       "      <th>ADDRESS</th>\n",
       "      <th>zipcode</th>\n",
       "      <th>VIOLATION</th>\n",
       "      <th>COST</th>\n",
       "      <th>year</th>\n",
       "    </tr>\n",
       "  </thead>\n",
       "  <tbody>\n",
       "    <tr>\n",
       "      <th>0</th>\n",
       "      <td>2003-11-01 01:04:00</td>\n",
       "      <td>5500 S WESTERN AVE S</td>\n",
       "      <td>60629</td>\n",
       "      <td>RED LIGHT VIOLATION</td>\n",
       "      <td>90.0</td>\n",
       "      <td>2003</td>\n",
       "    </tr>\n",
       "    <tr>\n",
       "      <th>1</th>\n",
       "      <td>2003-11-01 01:35:00</td>\n",
       "      <td>2400 W 55TH STREET E</td>\n",
       "      <td>60632</td>\n",
       "      <td>RED LIGHT VIOLATION</td>\n",
       "      <td>190.0</td>\n",
       "      <td>2003</td>\n",
       "    </tr>\n",
       "    <tr>\n",
       "      <th>2</th>\n",
       "      <td>2003-11-01 02:41:00</td>\n",
       "      <td>2400 W 55TH STREET E</td>\n",
       "      <td>62901</td>\n",
       "      <td>RED LIGHT VIOLATION</td>\n",
       "      <td>180.0</td>\n",
       "      <td>2003</td>\n",
       "    </tr>\n",
       "    <tr>\n",
       "      <th>3</th>\n",
       "      <td>2003-11-01 05:04:00</td>\n",
       "      <td>2400 W 55TH STREET E</td>\n",
       "      <td>60638</td>\n",
       "      <td>RED LIGHT VIOLATION</td>\n",
       "      <td>90.0</td>\n",
       "      <td>2003</td>\n",
       "    </tr>\n",
       "    <tr>\n",
       "      <th>4</th>\n",
       "      <td>2003-11-01 06:40:00</td>\n",
       "      <td>2400 W 55TH STREET E</td>\n",
       "      <td>60632</td>\n",
       "      <td>RED LIGHT VIOLATION</td>\n",
       "      <td>90.0</td>\n",
       "      <td>2003</td>\n",
       "    </tr>\n",
       "    <tr>\n",
       "      <th>...</th>\n",
       "      <td>...</td>\n",
       "      <td>...</td>\n",
       "      <td>...</td>\n",
       "      <td>...</td>\n",
       "      <td>...</td>\n",
       "      <td>...</td>\n",
       "    </tr>\n",
       "    <tr>\n",
       "      <th>11557492</th>\n",
       "      <td>2016-12-31 23:55:00</td>\n",
       "      <td>4700 S KEDZIE AVE</td>\n",
       "      <td>605011172</td>\n",
       "      <td>RED LIGHT VIOLATION</td>\n",
       "      <td>100.0</td>\n",
       "      <td>2016</td>\n",
       "    </tr>\n",
       "    <tr>\n",
       "      <th>11557493</th>\n",
       "      <td>2016-12-31 23:56:00</td>\n",
       "      <td>2800 N CICERO AVENUE</td>\n",
       "      <td>60160</td>\n",
       "      <td>RED LIGHT VIOLATION</td>\n",
       "      <td>100.0</td>\n",
       "      <td>2016</td>\n",
       "    </tr>\n",
       "    <tr>\n",
       "      <th>11557494</th>\n",
       "      <td>2016-12-31 23:56:00</td>\n",
       "      <td>2000 W DIVISION</td>\n",
       "      <td>605613913</td>\n",
       "      <td>RED LIGHT VIOLATION</td>\n",
       "      <td>100.0</td>\n",
       "      <td>2016</td>\n",
       "    </tr>\n",
       "    <tr>\n",
       "      <th>11557495</th>\n",
       "      <td>2016-12-31 23:57:00</td>\n",
       "      <td>3600 N WESTERN AVENUE</td>\n",
       "      <td>601874971</td>\n",
       "      <td>RED LIGHT VIOLATION</td>\n",
       "      <td>100.0</td>\n",
       "      <td>2016</td>\n",
       "    </tr>\n",
       "    <tr>\n",
       "      <th>11557496</th>\n",
       "      <td>2016-12-31 23:58:00</td>\n",
       "      <td>400 N LASALLE</td>\n",
       "      <td>605408348</td>\n",
       "      <td>RED LIGHT VIOLATION</td>\n",
       "      <td>100.0</td>\n",
       "      <td>2016</td>\n",
       "    </tr>\n",
       "  </tbody>\n",
       "</table>\n",
       "<p>11555178 rows × 6 columns</p>\n",
       "</div>"
      ],
      "text/plain": [
       "                       ISSUED                ADDRESS    zipcode  \\\n",
       "0         2003-11-01 01:04:00   5500 S WESTERN AVE S      60629   \n",
       "1         2003-11-01 01:35:00   2400 W 55TH STREET E      60632   \n",
       "2         2003-11-01 02:41:00   2400 W 55TH STREET E      62901   \n",
       "3         2003-11-01 05:04:00   2400 W 55TH STREET E      60638   \n",
       "4         2003-11-01 06:40:00   2400 W 55TH STREET E      60632   \n",
       "...                       ...                    ...        ...   \n",
       "11557492  2016-12-31 23:55:00      4700 S KEDZIE AVE  605011172   \n",
       "11557493  2016-12-31 23:56:00   2800 N CICERO AVENUE      60160   \n",
       "11557494  2016-12-31 23:56:00        2000 W DIVISION  605613913   \n",
       "11557495  2016-12-31 23:57:00  3600 N WESTERN AVENUE  601874971   \n",
       "11557496  2016-12-31 23:58:00          400 N LASALLE  605408348   \n",
       "\n",
       "                    VIOLATION   COST  year  \n",
       "0         RED LIGHT VIOLATION   90.0  2003  \n",
       "1         RED LIGHT VIOLATION  190.0  2003  \n",
       "2         RED LIGHT VIOLATION  180.0  2003  \n",
       "3         RED LIGHT VIOLATION   90.0  2003  \n",
       "4         RED LIGHT VIOLATION   90.0  2003  \n",
       "...                       ...    ...   ...  \n",
       "11557492  RED LIGHT VIOLATION  100.0  2016  \n",
       "11557493  RED LIGHT VIOLATION  100.0  2016  \n",
       "11557494  RED LIGHT VIOLATION  100.0  2016  \n",
       "11557495  RED LIGHT VIOLATION  100.0  2016  \n",
       "11557496  RED LIGHT VIOLATION  100.0  2016  \n",
       "\n",
       "[11555178 rows x 6 columns]"
      ]
     },
     "execution_count": 118,
     "metadata": {},
     "output_type": "execute_result"
    }
   ],
   "source": [
    "clean_tickets_df['VIOLATION'].fillna('N/A', inplace=True)\n",
    "clean_tickets_df.dropna(inplace=True)\n",
    "clean_tickets_df"
   ]
  },
  {
   "cell_type": "code",
   "execution_count": 119,
   "metadata": {},
   "outputs": [
    {
     "data": {
      "text/plain": [
       "Index(['ISSUED', 'ADDRESS', 'zipcode', 'VIOLATION', 'COST', 'year'], dtype='object')"
      ]
     },
     "execution_count": 119,
     "metadata": {},
     "output_type": "execute_result"
    }
   ],
   "source": [
    "clean_tickets_df.columns"
   ]
  },
  {
   "cell_type": "code",
   "execution_count": 120,
   "metadata": {},
   "outputs": [
    {
     "data": {
      "image/png": "[encoded data removed]",
      "text/plain": [
       "<Figure size 1080x720 with 1 Axes>"
      ]
     },
     "metadata": {
      "needs_background": "light"
     },
     "output_type": "display_data"
    },
    {
     "data": {
      "text/plain": [
       "VIOLATION\n",
       "RED LIGHT VIOLATION                      6810733\n",
       "SPEED VIOLATION 11+                      1931500\n",
       "SPEED VIOLATION 6-10                      535057\n",
       "SPEED WARNING                            2277887\n",
       "STAND, PARK, OR OTHER USE OF BUS LANE          1\n",
       "Name: COST, dtype: int64"
      ]
     },
     "execution_count": 120,
     "metadata": {},
     "output_type": "execute_result"
    }
   ],
   "source": [
    "#Bar graph showing the amount of each type of camera violation\n",
    "cost_per_violation = clean_tickets_df.groupby([\"VIOLATION\"])[\"COST\"].count()\n",
    "\n",
    "plot_pandas = cost_per_violation.plot.bar(figsize=(15,10), color ='b',fontsize=14)\n",
    "cost_per_violation\n",
    "plt.xlabel(\"VIOLATION\",fontsize = 14)\n",
    "plt.ylabel(\"COUNT (1 = 100,000)\",fontsize = 14)\n",
    "plt.title(\"Violation Type Counts\",fontsize = 20)\n",
    "plt.savefig(\"Images/violations_per_count.png\", bbox_inches = \"tight\")\n",
    "plt.tight_layout()\n",
    "plt.show()\n",
    "\n",
    "cost_per_violation"
   ]
  },
  {
   "cell_type": "code",
   "execution_count": 144,
   "metadata": {},
   "outputs": [
    {
     "data": {
      "text/plain": [
       "[6810733, 1931500, 535057, 2277887, 1]"
      ]
     },
     "execution_count": 144,
     "metadata": {},
     "output_type": "execute_result"
    }
   ],
   "source": [
    "tickets_list = (clean_tickets_df.groupby([\"VIOLATION\"])['COST'].count()).tolist()\n",
    "tickets_list"
   ]
  },
  {
   "cell_type": "code",
   "execution_count": 121,
   "metadata": {},
   "outputs": [],
   "source": [
    "clean_tickets_df['year'] = pd.to_numeric(clean_tickets_df['year'])"
   ]
  },
  {
   "cell_type": "code",
   "execution_count": 122,
   "metadata": {},
   "outputs": [
    {
     "data": {
      "text/plain": [
       "2014    1724183\n",
       "2016    1639859\n",
       "2015    1584040\n",
       "2017    1424878\n",
       "2009     719932\n",
       "2010     711692\n",
       "2013     683455\n",
       "2011     614610\n",
       "2012     610165\n",
       "2008     546115\n",
       "2018     413799\n",
       "2007     331642\n",
       "2006     273044\n",
       "2005     167797\n",
       "2004     107395\n",
       "2003       2572\n",
       "Name: year, dtype: int64"
      ]
     },
     "execution_count": 122,
     "metadata": {},
     "output_type": "execute_result"
    }
   ],
   "source": [
    "#Amount of tickets issued per year\n",
    "clean_tickets_df['year'].value_counts()"
   ]
  },
  {
   "cell_type": "code",
   "execution_count": 141,
   "metadata": {},
   "outputs": [
    {
     "data": {
      "image/png": "[encoded data removed]",
      "text/plain": [
       "<Figure size 1080x720 with 1 Axes>"
      ]
     },
     "metadata": {
      "needs_background": "light"
     },
     "output_type": "display_data"
    }
   ],
   "source": [
    "mpl.rcParams['agg.path.chunksize'] = 100000\n",
    "fig1, ax1 = plt.subplots(figsize=(15, 10))\n",
    "avg_annual = clean_tickets_df.groupby([\"VIOLATION\"]).mean()\n",
    "\n",
    "marker_size=15\n",
    "plt.scatter(avg_annual['year'], avg_annual['COST'], s=250, color=\"blue\")\n",
    "plt.title('Violations per Year',fontsize = 25)\n",
    "plt.xlabel('year',fontsize=14)\n",
    "plt.ylabel('Description of Violation',fontsize=14)\n",
    "plt.savefig(\"Images/violations_per_year.png\", bbox_inches = \"tight\")\n",
    "plt.tight_layout()\n",
    "plt.show()       "
   ]
  },
  {
   "cell_type": "code",
   "execution_count": 33,
   "metadata": {},
   "outputs": [
    {
     "data": {
      "text/plain": [
       "100.00    4659349\n",
       "0.00      4024410\n",
       "200.00     778022\n",
       "244.00     632903\n",
       "90.00      514018\n",
       "           ...   \n",
       "504.00          1\n",
       "173.33          1\n",
       "173.42          1\n",
       "4.48            1\n",
       "38.70           1\n",
       "Name: COST, Length: 26287, dtype: int64"
      ]
     },
     "execution_count": 33,
     "metadata": {},
     "output_type": "execute_result"
    }
   ],
   "source": [
    "clean_tickets_df['COST'].value_counts()"
   ]
  },
  {
   "cell_type": "code",
   "execution_count": 153,
   "metadata": {},
   "outputs": [
    {
     "data": {
      "text/plain": [
       "RED LIGHT VIOLATION                      6810733\n",
       "SPEED WARNING                            2277887\n",
       "SPEED VIOLATION 11+                      1931500\n",
       "SPEED VIOLATION 6-10                      535057\n",
       "STAND, PARK, OR OTHER USE OF BUS LANE          1\n",
       "Name: VIOLATION, dtype: int64"
      ]
     },
     "execution_count": 153,
     "metadata": {},
     "output_type": "execute_result"
    }
   ],
   "source": [
    "clean_tickets_df['VIOLATION'].value_counts()"
   ]
  },
  {
   "cell_type": "code",
   "execution_count": 154,
   "metadata": {},
   "outputs": [],
   "source": [
    "vio_cost = clean_tickets_df.groupby(\"VIOLATION\")[\"COST\"].count()\n",
    "COST = [100.00, 244.00, 200.00, 0.00, 90.00]"
   ]
  },
  {
   "cell_type": "code",
   "execution_count": 155,
   "metadata": {},
   "outputs": [
    {
     "data": {
      "text/html": [
       "<div>\n",
       "<style scoped>\n",
       "    .dataframe tbody tr th:only-of-type {\n",
       "        vertical-align: middle;\n",
       "    }\n",
       "\n",
       "    .dataframe tbody tr th {\n",
       "        vertical-align: top;\n",
       "    }\n",
       "\n",
       "    .dataframe thead th {\n",
       "        text-align: right;\n",
       "    }\n",
       "</style>\n",
       "<table border=\"1\" class=\"dataframe\">\n",
       "  <thead>\n",
       "    <tr style=\"text-align: right;\">\n",
       "      <th></th>\n",
       "      <th>Fine</th>\n",
       "      <th>Violation Count</th>\n",
       "    </tr>\n",
       "    <tr>\n",
       "      <th>VIOLATION</th>\n",
       "      <th></th>\n",
       "      <th></th>\n",
       "    </tr>\n",
       "  </thead>\n",
       "  <tbody>\n",
       "    <tr>\n",
       "      <th>RED LIGHT VIOLATION</th>\n",
       "      <td>100.0</td>\n",
       "      <td>6810733</td>\n",
       "    </tr>\n",
       "    <tr>\n",
       "      <th>SPEED VIOLATION 11+</th>\n",
       "      <td>244.0</td>\n",
       "      <td>1931500</td>\n",
       "    </tr>\n",
       "    <tr>\n",
       "      <th>SPEED VIOLATION 6-10</th>\n",
       "      <td>200.0</td>\n",
       "      <td>535057</td>\n",
       "    </tr>\n",
       "    <tr>\n",
       "      <th>SPEED WARNING</th>\n",
       "      <td>0.0</td>\n",
       "      <td>2277887</td>\n",
       "    </tr>\n",
       "    <tr>\n",
       "      <th>STAND, PARK, OR OTHER USE OF BUS LANE</th>\n",
       "      <td>90.0</td>\n",
       "      <td>1</td>\n",
       "    </tr>\n",
       "  </tbody>\n",
       "</table>\n",
       "</div>"
      ],
      "text/plain": [
       "                                        Fine  Violation Count\n",
       "VIOLATION                                                    \n",
       "RED LIGHT VIOLATION                    100.0          6810733\n",
       "SPEED VIOLATION 11+                    244.0          1931500\n",
       "SPEED VIOLATION 6-10                   200.0           535057\n",
       "SPEED WARNING                            0.0          2277887\n",
       "STAND, PARK, OR OTHER USE OF BUS LANE   90.0                1"
      ]
     },
     "execution_count": 155,
     "metadata": {},
     "output_type": "execute_result"
    }
   ],
   "source": [
    "tic_cost = pd.DataFrame({\n",
    "        \"Fine\" : COST,\n",
    "    \"Violation Count\": vio_cost\n",
    "})\n",
    "tic_cost.head()"
   ]
  },
  {
   "cell_type": "code",
   "execution_count": 194,
   "metadata": {
    "scrolled": true
   },
   "outputs": [
    {
     "data": {
      "text/plain": [
       "Text(0, 0.5, 'Fine Cost')"
      ]
     },
     "execution_count": 194,
     "metadata": {},
     "output_type": "execute_result"
    },
    {
     "data": {
      "image/png": "[encoded data removed]",
      "text/plain": [
       "<Figure size 1080x720 with 1 Axes>"
      ]
     },
     "metadata": {
      "needs_background": "light"
     },
     "output_type": "display_data"
    }
   ],
   "source": [
    " # Generate a scatter plot of average tumor volume vs. mouse weight for the Capomulin regimen\n",
    "x_axis = forline_df[\"Timepoint\"]\n",
    "tumsize = forline_df[\"Tumor Volume (mm3)\"]\n",
    "\n",
    "fig1, ax1 = plt.subplots(figsize=(15, 10))\n",
    "plt.title('Capomulin treatment of mouse b742',fontsize = 25)\n",
    "plt.plot(x_axis, tumsize, linewidth=2, markersize=15, marker=\"o\", color=\"blue\", label=\"Fahrenheit\")\n",
    "plt.xlabel('Timepoint (Days)',fontsize=14)\n",
    "plt.ylabel('Tumor Volume (mm3)',fontsize=14)\n",
    "plt.savefig(\"../Images/line_graph.png\",bbox_inches = \"tight\")\n",
    "plt.show()    \n"
   ]
  },
  {
   "cell_type": "code",
   "execution_count": 104,
   "metadata": {},
   "outputs": [],
   "source": [
    "def to_linear_regress(x, y, weight, arrangement, cmap):\n",
    "    pearson_r = round(st.pearsonr(x, y)[0],2)\n",
    "    (slope, intercept, rvalue, pvalue, stderr) = linregress(x, y)\n",
    "    regress_values = x * slope + intercept\n",
    "    line_eq = f\"y = {round(slope,2)}x + {round(intercept, 2)}\"\n",
    "    plt.scatter(x, y, s=weight, c=arrangement, cmap=cmap)\n",
    "    plt.plot(x,regress_values,\"r-\")\n",
    "    print(f\"correlation coefficient : {pearson_r}\")\n",
    "    print(f\"pvalue: {round(pvalue,5)}\")\n",
    "    return line_eq"
   ]
  },
  {
   "cell_type": "code",
   "execution_count": 105,
   "metadata": {},
   "outputs": [],
   "source": [
    "def to_annotate(line_eq, x, y):\n",
    "    plt.annotate(line_eq,(x,y),fontsize=13,color=\"red\")"
   ]
  },
  {
   "cell_type": "code",
   "execution_count": 113,
   "metadata": {},
   "outputs": [
    {
     "name": "stdout",
     "output_type": "stream",
     "text": [
      "correlation coefficient : -0.12\n",
      "pvalue: 0.85143\n"
     ]
    },
    {
     "ename": "ValueError",
     "evalue": "The truth value of a Series is ambiguous. Use a.empty, a.bool(), a.item(), a.any() or a.all().",
     "output_type": "error",
     "traceback": [
      "\u001b[0;31m---------------------------------------------------------------------------\u001b[0m",
      "\u001b[0;31mValueError\u001b[0m                                Traceback (most recent call last)",
      "\u001b[0;32m<ipython-input-113-7327d33a87bb>\u001b[0m in \u001b[0;36m<module>\u001b[0;34m\u001b[0m\n\u001b[1;32m      6\u001b[0m \u001b[0mline\u001b[0m \u001b[0;34m=\u001b[0m \u001b[0mto_linear_regress\u001b[0m\u001b[0;34m(\u001b[0m\u001b[0mtic_cost\u001b[0m\u001b[0;34m[\u001b[0m\u001b[0;34m\"Violation Count\"\u001b[0m\u001b[0;34m]\u001b[0m\u001b[0;34m,\u001b[0m \u001b[0mtic_cost\u001b[0m\u001b[0;34m[\u001b[0m\u001b[0;34m\"Fine\"\u001b[0m\u001b[0;34m]\u001b[0m\u001b[0;34m,\u001b[0m \u001b[0mweight\u001b[0m\u001b[0;34m,\u001b[0m \u001b[0marrangement\u001b[0m\u001b[0;34m,\u001b[0m \u001b[0mcmap\u001b[0m\u001b[0;34m)\u001b[0m\u001b[0;34m\u001b[0m\u001b[0;34m\u001b[0m\u001b[0m\n\u001b[1;32m      7\u001b[0m \u001b[0mto_annotate\u001b[0m\u001b[0;34m(\u001b[0m\u001b[0mline\u001b[0m\u001b[0;34m,\u001b[0m \u001b[0;36m5\u001b[0m\u001b[0;34m,\u001b[0m \u001b[0;36m15000\u001b[0m\u001b[0;34m)\u001b[0m\u001b[0;34m\u001b[0m\u001b[0;34m\u001b[0m\u001b[0m\n\u001b[0;32m----> 8\u001b[0;31m \u001b[0mplt\u001b[0m\u001b[0;34m.\u001b[0m\u001b[0mxticks\u001b[0m\u001b[0;34m(\u001b[0m\u001b[0mnp\u001b[0m\u001b[0;34m.\u001b[0m\u001b[0marange\u001b[0m\u001b[0;34m(\u001b[0m\u001b[0;36m1\u001b[0m\u001b[0;34m,\u001b[0m \u001b[0mlabels\u001b[0m\u001b[0;34m,\u001b[0m \u001b[0;36m10\u001b[0m\u001b[0;34m)\u001b[0m\u001b[0;34m)\u001b[0m\u001b[0;34m\u001b[0m\u001b[0;34m\u001b[0m\u001b[0m\n\u001b[0m\u001b[1;32m      9\u001b[0m \u001b[0mplt\u001b[0m\u001b[0;34m.\u001b[0m\u001b[0mxlabel\u001b[0m\u001b[0;34m(\u001b[0m\u001b[0;34m\"VIOLATION COUNT\"\u001b[0m\u001b[0;34m,\u001b[0m \u001b[0mfontweight\u001b[0m\u001b[0;34m=\u001b[0m\u001b[0;34m\"bold\"\u001b[0m\u001b[0;34m)\u001b[0m\u001b[0;34m\u001b[0m\u001b[0;34m\u001b[0m\u001b[0m\n\u001b[1;32m     10\u001b[0m \u001b[0mplt\u001b[0m\u001b[0;34m.\u001b[0m\u001b[0mylabel\u001b[0m\u001b[0;34m(\u001b[0m\u001b[0;34m\"FINE COST\"\u001b[0m\u001b[0;34m,\u001b[0m \u001b[0mlabelpad\u001b[0m\u001b[0;34m=\u001b[0m\u001b[0;36m2.0\u001b[0m\u001b[0;34m,\u001b[0m \u001b[0mfontweight\u001b[0m\u001b[0;34m=\u001b[0m\u001b[0;34m\"bold\"\u001b[0m\u001b[0;34m)\u001b[0m\u001b[0;34m\u001b[0m\u001b[0;34m\u001b[0m\u001b[0m\n",
      "\u001b[0;32m~/opt/anaconda3/lib/python3.8/site-packages/pandas/core/generic.py\u001b[0m in \u001b[0;36m__nonzero__\u001b[0;34m(self)\u001b[0m\n\u001b[1;32m   1327\u001b[0m \u001b[0;34m\u001b[0m\u001b[0m\n\u001b[1;32m   1328\u001b[0m     \u001b[0;32mdef\u001b[0m \u001b[0m__nonzero__\u001b[0m\u001b[0;34m(\u001b[0m\u001b[0mself\u001b[0m\u001b[0;34m)\u001b[0m\u001b[0;34m:\u001b[0m\u001b[0;34m\u001b[0m\u001b[0;34m\u001b[0m\u001b[0m\n\u001b[0;32m-> 1329\u001b[0;31m         raise ValueError(\n\u001b[0m\u001b[1;32m   1330\u001b[0m             \u001b[0;34mf\"The truth value of a {type(self).__name__} is ambiguous. \"\u001b[0m\u001b[0;34m\u001b[0m\u001b[0;34m\u001b[0m\u001b[0m\n\u001b[1;32m   1331\u001b[0m             \u001b[0;34m\"Use a.empty, a.bool(), a.item(), a.any() or a.all().\"\u001b[0m\u001b[0;34m\u001b[0m\u001b[0;34m\u001b[0m\u001b[0m\n",
      "\u001b[0;31mValueError\u001b[0m: The truth value of a Series is ambiguous. Use a.empty, a.bool(), a.item(), a.any() or a.all()."
     ]
    },
    {
     "data": {
      "image/png": "[encoded data removed]",
      "text/plain": [
       "<Figure size 432x288 with 1 Axes>"
      ]
     },
     "metadata": {
      "needs_background": "light"
     },
     "output_type": "display_data"
    }
   ],
   "source": [
    "weight= tic_cost[\"Fine\"]*4\n",
    "labels= tic_cost[\"Violation Count\"] \n",
    "arrangement = tic_cost[\"Fine\"]\n",
    "np.arange(len(tic_cost[\"Fine\"]))\n",
    "cmap='tab20' \n",
    "line = to_linear_regress(tic_cost[\"Violation Count\"], tic_cost[\"Fine\"], weight, arrangement, cmap)\n",
    "to_annotate(line, 5, 15000)\n",
    "plt.xticks(np.arange(1, labels, 10))\n",
    "plt.xlabel(\"VIOLATION COUNT\", fontweight=\"bold\")\n",
    "plt.ylabel(\"FINE COST\", labelpad=2.0, fontweight=\"bold\") \n",
    "plt.title(\"Violation Type, Cost, and Violation Count\", y=1.08, fontweight=\"bold\")\n",
    "plt.colorbar(label=\"Fine Cost\", orientation=\"horizontal\") \n",
    "plt.rcParams[\"figure.figsize\"] = (10,5)\n",
    "plt.grid(linewidth=0.3)\n",
    "plt.savefig(\"Images/cost_violation.png\")\n",
    "plt.show"
   ]
  },
  {
   "cell_type": "code",
   "execution_count": null,
   "metadata": {},
   "outputs": [],
   "source": []
  }
 ],
 "metadata": {
  "kernelspec": {
   "display_name": "Python 3",
   "language": "python",
   "name": "python3"
  },
  "language_info": {
   "codemirror_mode": {
    "name": "ipython",
    "version": 3
   },
   "file_extension": ".py",
   "mimetype": "text/x-python",
   "name": "python",
   "nbconvert_exporter": "python",
   "pygments_lexer": "ipython3",
   "version": "3.8.5"
  }
 },
 "nbformat": 4,
 "nbformat_minor": 4
}
