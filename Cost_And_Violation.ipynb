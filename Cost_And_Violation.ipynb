{
 "cells": [
  {
   "cell_type": "code",
   "execution_count": 190,
   "metadata": {},
   "outputs": [],
   "source": [
    "import matplotlib.pyplot as plt\n",
    "import pandas as pd\n",
    "import numpy as np\n",
    "import requests\n",
    "import datetime\n",
    "import os\n",
    "import gmaps\n",
    "import json\n",
    "from scipy.stats import linregress\n",
    "\n",
    "locations_df = os.path.join(\"Resources\", \"speed-camera-locations.csv\")\n",
    "locations_df = pd.read_csv(locations_df)\n",
    "violations_df = os.path.join(\"Resources\", \"speed-camera-violations.csv\")\n",
    "violations_df = pd.read_csv(violations_df)\n",
    "tickets_df = os.path.join(\"Resources\", \"tickets_df.csv\")\n",
    "wards_df = os.path.join(\"Resources\", \"Ward_Offices.csv\")\n",
    "wards_df = pd.read_csv(wards_df)"
   ]
  },
  {
   "cell_type": "code",
   "execution_count": 191,
   "metadata": {},
   "outputs": [],
   "source": [
    "locations_df = pd.DataFrame(locations_df)\n",
    "locations_df = locations_df.dropna(how =\"any\")\n",
    "violations_df = pd.DataFrame(violations_df)\n",
    "violations_df = violations_df.dropna(how =\"any\")\n",
    "wards_df = pd.DataFrame(wards_df)\n",
    "wards_df = wards_df.dropna(how = \"any\")"
   ]
  },
  {
   "cell_type": "code",
   "execution_count": 192,
   "metadata": {},
   "outputs": [
    {
     "name": "stderr",
     "output_type": "stream",
     "text": [
      "/Users/ericnietzer/opt/anaconda3/lib/python3.8/site-packages/IPython/core/interactiveshell.py:3146: DtypeWarning: Columns (6,7) have mixed types.Specify dtype option on import or set low_memory=False.\n",
      "  has_raised = await self.run_ast_nodes(code_ast.body, cell_name,\n"
     ]
    },
    {
     "data": {
      "text/html": [
       "<div>\n",
       "<style scoped>\n",
       "    .dataframe tbody tr th:only-of-type {\n",
       "        vertical-align: middle;\n",
       "    }\n",
       "\n",
       "    .dataframe tbody tr th {\n",
       "        vertical-align: top;\n",
       "    }\n",
       "\n",
       "    .dataframe thead th {\n",
       "        text-align: right;\n",
       "    }\n",
       "</style>\n",
       "<table border=\"1\" class=\"dataframe\">\n",
       "  <thead>\n",
       "    <tr style=\"text-align: right;\">\n",
       "      <th></th>\n",
       "      <th>issue_date</th>\n",
       "      <th>violation_location</th>\n",
       "      <th>zipcode</th>\n",
       "      <th>violation_description</th>\n",
       "      <th>total_payments</th>\n",
       "      <th>year</th>\n",
       "    </tr>\n",
       "  </thead>\n",
       "  <tbody>\n",
       "    <tr>\n",
       "      <th>0</th>\n",
       "      <td>2003-11-01 01:04:00</td>\n",
       "      <td>5500 S WESTERN AVE S</td>\n",
       "      <td>60629</td>\n",
       "      <td>RED LIGHT VIOLATION</td>\n",
       "      <td>90.0</td>\n",
       "      <td>2003</td>\n",
       "    </tr>\n",
       "    <tr>\n",
       "      <th>1</th>\n",
       "      <td>2003-11-01 01:35:00</td>\n",
       "      <td>2400 W 55TH STREET E</td>\n",
       "      <td>60632</td>\n",
       "      <td>RED LIGHT VIOLATION</td>\n",
       "      <td>190.0</td>\n",
       "      <td>2003</td>\n",
       "    </tr>\n",
       "    <tr>\n",
       "      <th>2</th>\n",
       "      <td>2003-11-01 02:41:00</td>\n",
       "      <td>2400 W 55TH STREET E</td>\n",
       "      <td>62901</td>\n",
       "      <td>RED LIGHT VIOLATION</td>\n",
       "      <td>180.0</td>\n",
       "      <td>2003</td>\n",
       "    </tr>\n",
       "    <tr>\n",
       "      <th>3</th>\n",
       "      <td>2003-11-01 05:04:00</td>\n",
       "      <td>2400 W 55TH STREET E</td>\n",
       "      <td>60638</td>\n",
       "      <td>RED LIGHT VIOLATION</td>\n",
       "      <td>90.0</td>\n",
       "      <td>2003</td>\n",
       "    </tr>\n",
       "    <tr>\n",
       "      <th>4</th>\n",
       "      <td>2003-11-01 06:40:00</td>\n",
       "      <td>2400 W 55TH STREET E</td>\n",
       "      <td>60632</td>\n",
       "      <td>RED LIGHT VIOLATION</td>\n",
       "      <td>90.0</td>\n",
       "      <td>2003</td>\n",
       "    </tr>\n",
       "    <tr>\n",
       "      <th>...</th>\n",
       "      <td>...</td>\n",
       "      <td>...</td>\n",
       "      <td>...</td>\n",
       "      <td>...</td>\n",
       "      <td>...</td>\n",
       "      <td>...</td>\n",
       "    </tr>\n",
       "    <tr>\n",
       "      <th>11557492</th>\n",
       "      <td>2016-12-31 23:55:00</td>\n",
       "      <td>4700 S KEDZIE AVE</td>\n",
       "      <td>605011172</td>\n",
       "      <td>RED LIGHT VIOLATION</td>\n",
       "      <td>100.0</td>\n",
       "      <td>2016</td>\n",
       "    </tr>\n",
       "    <tr>\n",
       "      <th>11557493</th>\n",
       "      <td>2016-12-31 23:56:00</td>\n",
       "      <td>2800 N CICERO AVENUE</td>\n",
       "      <td>60160</td>\n",
       "      <td>RED LIGHT VIOLATION</td>\n",
       "      <td>100.0</td>\n",
       "      <td>2016</td>\n",
       "    </tr>\n",
       "    <tr>\n",
       "      <th>11557494</th>\n",
       "      <td>2016-12-31 23:56:00</td>\n",
       "      <td>2000 W DIVISION</td>\n",
       "      <td>605613913</td>\n",
       "      <td>RED LIGHT VIOLATION</td>\n",
       "      <td>100.0</td>\n",
       "      <td>2016</td>\n",
       "    </tr>\n",
       "    <tr>\n",
       "      <th>11557495</th>\n",
       "      <td>2016-12-31 23:57:00</td>\n",
       "      <td>3600 N WESTERN AVENUE</td>\n",
       "      <td>601874971</td>\n",
       "      <td>RED LIGHT VIOLATION</td>\n",
       "      <td>100.0</td>\n",
       "      <td>2016</td>\n",
       "    </tr>\n",
       "    <tr>\n",
       "      <th>11557496</th>\n",
       "      <td>2016-12-31 23:58:00</td>\n",
       "      <td>400 N LASALLE</td>\n",
       "      <td>605408348</td>\n",
       "      <td>RED LIGHT VIOLATION</td>\n",
       "      <td>100.0</td>\n",
       "      <td>2016</td>\n",
       "    </tr>\n",
       "  </tbody>\n",
       "</table>\n",
       "<p>11555178 rows × 6 columns</p>\n",
       "</div>"
      ],
      "text/plain": [
       "                   issue_date     violation_location    zipcode  \\\n",
       "0         2003-11-01 01:04:00   5500 S WESTERN AVE S      60629   \n",
       "1         2003-11-01 01:35:00   2400 W 55TH STREET E      60632   \n",
       "2         2003-11-01 02:41:00   2400 W 55TH STREET E      62901   \n",
       "3         2003-11-01 05:04:00   2400 W 55TH STREET E      60638   \n",
       "4         2003-11-01 06:40:00   2400 W 55TH STREET E      60632   \n",
       "...                       ...                    ...        ...   \n",
       "11557492  2016-12-31 23:55:00      4700 S KEDZIE AVE  605011172   \n",
       "11557493  2016-12-31 23:56:00   2800 N CICERO AVENUE      60160   \n",
       "11557494  2016-12-31 23:56:00        2000 W DIVISION  605613913   \n",
       "11557495  2016-12-31 23:57:00  3600 N WESTERN AVENUE  601874971   \n",
       "11557496  2016-12-31 23:58:00          400 N LASALLE  605408348   \n",
       "\n",
       "         violation_description  total_payments  year  \n",
       "0          RED LIGHT VIOLATION            90.0  2003  \n",
       "1          RED LIGHT VIOLATION           190.0  2003  \n",
       "2          RED LIGHT VIOLATION           180.0  2003  \n",
       "3          RED LIGHT VIOLATION            90.0  2003  \n",
       "4          RED LIGHT VIOLATION            90.0  2003  \n",
       "...                        ...             ...   ...  \n",
       "11557492   RED LIGHT VIOLATION           100.0  2016  \n",
       "11557493   RED LIGHT VIOLATION           100.0  2016  \n",
       "11557494   RED LIGHT VIOLATION           100.0  2016  \n",
       "11557495   RED LIGHT VIOLATION           100.0  2016  \n",
       "11557496   RED LIGHT VIOLATION           100.0  2016  \n",
       "\n",
       "[11555178 rows x 6 columns]"
      ]
     },
     "execution_count": 192,
     "metadata": {},
     "output_type": "execute_result"
    }
   ],
   "source": [
    "#ProPublica dataset '03-'17\n",
    "tickets_df = pd.read_csv(tickets_df)\n",
    "keep_col = ['issue_date','violation_location', 'zipcode', 'violation_description', 'total_payments', 'year']\n",
    "tickets_df = tickets_df[keep_col]\n",
    "tickets_df.to_csv(\"newFile.csv\", index=False)\n",
    "tickets_df = tickets_df.dropna(how = \"any\")\n",
    "tickets_df"
   ]
  },
  {
   "cell_type": "code",
   "execution_count": 193,
   "metadata": {},
   "outputs": [
    {
     "data": {
      "text/html": [
       "<div>\n",
       "<style scoped>\n",
       "    .dataframe tbody tr th:only-of-type {\n",
       "        vertical-align: middle;\n",
       "    }\n",
       "\n",
       "    .dataframe tbody tr th {\n",
       "        vertical-align: top;\n",
       "    }\n",
       "\n",
       "    .dataframe thead th {\n",
       "        text-align: right;\n",
       "    }\n",
       "</style>\n",
       "<table border=\"1\" class=\"dataframe\">\n",
       "  <thead>\n",
       "    <tr style=\"text-align: right;\">\n",
       "      <th></th>\n",
       "      <th>ISSUED</th>\n",
       "      <th>ADDRESS</th>\n",
       "      <th>zipcode</th>\n",
       "      <th>VIOLATION</th>\n",
       "      <th>COST</th>\n",
       "      <th>year</th>\n",
       "    </tr>\n",
       "  </thead>\n",
       "  <tbody>\n",
       "    <tr>\n",
       "      <th>0</th>\n",
       "      <td>2003-11-01 01:04:00</td>\n",
       "      <td>5500 S WESTERN AVE S</td>\n",
       "      <td>60629</td>\n",
       "      <td>RED LIGHT VIOLATION</td>\n",
       "      <td>90.0</td>\n",
       "      <td>2003</td>\n",
       "    </tr>\n",
       "    <tr>\n",
       "      <th>1</th>\n",
       "      <td>2003-11-01 01:35:00</td>\n",
       "      <td>2400 W 55TH STREET E</td>\n",
       "      <td>60632</td>\n",
       "      <td>RED LIGHT VIOLATION</td>\n",
       "      <td>190.0</td>\n",
       "      <td>2003</td>\n",
       "    </tr>\n",
       "    <tr>\n",
       "      <th>2</th>\n",
       "      <td>2003-11-01 02:41:00</td>\n",
       "      <td>2400 W 55TH STREET E</td>\n",
       "      <td>62901</td>\n",
       "      <td>RED LIGHT VIOLATION</td>\n",
       "      <td>180.0</td>\n",
       "      <td>2003</td>\n",
       "    </tr>\n",
       "    <tr>\n",
       "      <th>3</th>\n",
       "      <td>2003-11-01 05:04:00</td>\n",
       "      <td>2400 W 55TH STREET E</td>\n",
       "      <td>60638</td>\n",
       "      <td>RED LIGHT VIOLATION</td>\n",
       "      <td>90.0</td>\n",
       "      <td>2003</td>\n",
       "    </tr>\n",
       "    <tr>\n",
       "      <th>4</th>\n",
       "      <td>2003-11-01 06:40:00</td>\n",
       "      <td>2400 W 55TH STREET E</td>\n",
       "      <td>60632</td>\n",
       "      <td>RED LIGHT VIOLATION</td>\n",
       "      <td>90.0</td>\n",
       "      <td>2003</td>\n",
       "    </tr>\n",
       "  </tbody>\n",
       "</table>\n",
       "</div>"
      ],
      "text/plain": [
       "                ISSUED               ADDRESS zipcode            VIOLATION  \\\n",
       "0  2003-11-01 01:04:00  5500 S WESTERN AVE S   60629  RED LIGHT VIOLATION   \n",
       "1  2003-11-01 01:35:00  2400 W 55TH STREET E   60632  RED LIGHT VIOLATION   \n",
       "2  2003-11-01 02:41:00  2400 W 55TH STREET E   62901  RED LIGHT VIOLATION   \n",
       "3  2003-11-01 05:04:00  2400 W 55TH STREET E   60638  RED LIGHT VIOLATION   \n",
       "4  2003-11-01 06:40:00  2400 W 55TH STREET E   60632  RED LIGHT VIOLATION   \n",
       "\n",
       "    COST  year  \n",
       "0   90.0  2003  \n",
       "1  190.0  2003  \n",
       "2  180.0  2003  \n",
       "3   90.0  2003  \n",
       "4   90.0  2003  "
      ]
     },
     "execution_count": 193,
     "metadata": {},
     "output_type": "execute_result"
    }
   ],
   "source": [
    "clean_tickets_df = tickets_df.rename(columns={\"issue_date\":\"ISSUED\", \"violation_location\":\"ADDRESS\", \"violation_description\":\"VIOLATION\", \"total_payments\":\"COST\"})\n",
    "clean_tickets_df.head()"
   ]
  },
  {
   "cell_type": "code",
   "execution_count": 194,
   "metadata": {},
   "outputs": [
    {
     "data": {
      "text/html": [
       "<div>\n",
       "<style scoped>\n",
       "    .dataframe tbody tr th:only-of-type {\n",
       "        vertical-align: middle;\n",
       "    }\n",
       "\n",
       "    .dataframe tbody tr th {\n",
       "        vertical-align: top;\n",
       "    }\n",
       "\n",
       "    .dataframe thead th {\n",
       "        text-align: right;\n",
       "    }\n",
       "</style>\n",
       "<table border=\"1\" class=\"dataframe\">\n",
       "  <thead>\n",
       "    <tr style=\"text-align: right;\">\n",
       "      <th></th>\n",
       "      <th>ADDRESS</th>\n",
       "      <th>zipcode</th>\n",
       "      <th>VIOLATION</th>\n",
       "      <th>COST</th>\n",
       "      <th>year</th>\n",
       "    </tr>\n",
       "  </thead>\n",
       "  <tbody>\n",
       "    <tr>\n",
       "      <th>0</th>\n",
       "      <td>5500 S WESTERN AVE S</td>\n",
       "      <td>60629</td>\n",
       "      <td>RED LIGHT VIOLATION</td>\n",
       "      <td>90.0</td>\n",
       "      <td>2003</td>\n",
       "    </tr>\n",
       "    <tr>\n",
       "      <th>1</th>\n",
       "      <td>2400 W 55TH STREET E</td>\n",
       "      <td>60632</td>\n",
       "      <td>RED LIGHT VIOLATION</td>\n",
       "      <td>190.0</td>\n",
       "      <td>2003</td>\n",
       "    </tr>\n",
       "    <tr>\n",
       "      <th>2</th>\n",
       "      <td>2400 W 55TH STREET E</td>\n",
       "      <td>62901</td>\n",
       "      <td>RED LIGHT VIOLATION</td>\n",
       "      <td>180.0</td>\n",
       "      <td>2003</td>\n",
       "    </tr>\n",
       "    <tr>\n",
       "      <th>3</th>\n",
       "      <td>2400 W 55TH STREET E</td>\n",
       "      <td>60638</td>\n",
       "      <td>RED LIGHT VIOLATION</td>\n",
       "      <td>90.0</td>\n",
       "      <td>2003</td>\n",
       "    </tr>\n",
       "    <tr>\n",
       "      <th>4</th>\n",
       "      <td>2400 W 55TH STREET E</td>\n",
       "      <td>60632</td>\n",
       "      <td>RED LIGHT VIOLATION</td>\n",
       "      <td>90.0</td>\n",
       "      <td>2003</td>\n",
       "    </tr>\n",
       "  </tbody>\n",
       "</table>\n",
       "</div>"
      ],
      "text/plain": [
       "                ADDRESS zipcode            VIOLATION   COST  year\n",
       "0  5500 S WESTERN AVE S   60629  RED LIGHT VIOLATION   90.0  2003\n",
       "1  2400 W 55TH STREET E   60632  RED LIGHT VIOLATION  190.0  2003\n",
       "2  2400 W 55TH STREET E   62901  RED LIGHT VIOLATION  180.0  2003\n",
       "3  2400 W 55TH STREET E   60638  RED LIGHT VIOLATION   90.0  2003\n",
       "4  2400 W 55TH STREET E   60632  RED LIGHT VIOLATION   90.0  2003"
      ]
     },
     "execution_count": 194,
     "metadata": {},
     "output_type": "execute_result"
    }
   ],
   "source": [
    "df = clean_tickets_df[['ADDRESS', 'zipcode','VIOLATION','COST', 'year']]\n",
    "df.head()"
   ]
  },
  {
   "cell_type": "code",
   "execution_count": 195,
   "metadata": {},
   "outputs": [
    {
     "data": {
      "text/plain": [
       "Index(['ISSUED', 'ADDRESS', 'zipcode', 'VIOLATION', 'COST', 'year'], dtype='object')"
      ]
     },
     "execution_count": 195,
     "metadata": {},
     "output_type": "execute_result"
    }
   ],
   "source": [
    "clean_tickets_df.columns"
   ]
  },
  {
   "cell_type": "code",
   "execution_count": 196,
   "metadata": {},
   "outputs": [
    {
     "data": {
      "text/plain": [
       "60629          84516\n",
       "60148          78514\n",
       "60620          78179\n",
       "60639          74076\n",
       "60628          67953\n",
       "               ...  \n",
       "604731110.0        1\n",
       "618263221          1\n",
       "600312310          1\n",
       "600613217.0        1\n",
       "600563340.0        1\n",
       "Name: zipcode, Length: 991129, dtype: int64"
      ]
     },
     "execution_count": 196,
     "metadata": {},
     "output_type": "execute_result"
    }
   ],
   "source": [
    "clean_tickets_df['zipcode'].value_counts()"
   ]
  },
  {
   "cell_type": "code",
   "execution_count": 197,
   "metadata": {},
   "outputs": [
    {
     "data": {
      "text/plain": [
       "100.00    4659349\n",
       "0.00      4024410\n",
       "200.00     778022\n",
       "244.00     632903\n",
       "90.00      514018\n",
       "           ...   \n",
       "504.00          1\n",
       "173.33          1\n",
       "173.42          1\n",
       "4.48            1\n",
       "38.70           1\n",
       "Name: COST, Length: 26287, dtype: int64"
      ]
     },
     "execution_count": 197,
     "metadata": {},
     "output_type": "execute_result"
    }
   ],
   "source": [
    "clean_tickets_df['COST'].value_counts()"
   ]
  },
  {
   "cell_type": "code",
   "execution_count": 198,
   "metadata": {},
   "outputs": [
    {
     "data": {
      "text/plain": [
       "RED LIGHT VIOLATION                      6810733\n",
       "SPEED WARNING                            2277887\n",
       "SPEED VIOLATION 11+                      1931500\n",
       "SPEED VIOLATION 6-10                      535057\n",
       "STAND, PARK, OR OTHER USE OF BUS LANE          1\n",
       "Name: VIOLATION, dtype: int64"
      ]
     },
     "execution_count": 198,
     "metadata": {},
     "output_type": "execute_result"
    }
   ],
   "source": [
    "clean_tickets_df['VIOLATION'].value_counts()"
   ]
  },
  {
   "cell_type": "code",
   "execution_count": 199,
   "metadata": {},
   "outputs": [],
   "source": [
    "clean_tickets_df['year'] = pd.to_numeric(clean_tickets_df['year'])"
   ]
  },
  {
   "cell_type": "code",
   "execution_count": 200,
   "metadata": {},
   "outputs": [],
   "source": [
    "vio_cost = clean_tickets_df.groupby(\"VIOLATION\")[\"COST\"].count()\n",
    "COST = [100.00, 0.00, 200.00, 244.00, 90.00]"
   ]
  },
  {
   "cell_type": "code",
   "execution_count": 201,
   "metadata": {},
   "outputs": [
    {
     "data": {
      "text/html": [
       "<div>\n",
       "<style scoped>\n",
       "    .dataframe tbody tr th:only-of-type {\n",
       "        vertical-align: middle;\n",
       "    }\n",
       "\n",
       "    .dataframe tbody tr th {\n",
       "        vertical-align: top;\n",
       "    }\n",
       "\n",
       "    .dataframe thead th {\n",
       "        text-align: right;\n",
       "    }\n",
       "</style>\n",
       "<table border=\"1\" class=\"dataframe\">\n",
       "  <thead>\n",
       "    <tr style=\"text-align: right;\">\n",
       "      <th></th>\n",
       "      <th>Fine</th>\n",
       "      <th>Violation Count</th>\n",
       "    </tr>\n",
       "    <tr>\n",
       "      <th>VIOLATION</th>\n",
       "      <th></th>\n",
       "      <th></th>\n",
       "    </tr>\n",
       "  </thead>\n",
       "  <tbody>\n",
       "    <tr>\n",
       "      <th>RED LIGHT VIOLATION</th>\n",
       "      <td>100.0</td>\n",
       "      <td>6810733</td>\n",
       "    </tr>\n",
       "    <tr>\n",
       "      <th>SPEED VIOLATION 11+</th>\n",
       "      <td>0.0</td>\n",
       "      <td>1931500</td>\n",
       "    </tr>\n",
       "    <tr>\n",
       "      <th>SPEED VIOLATION 6-10</th>\n",
       "      <td>200.0</td>\n",
       "      <td>535057</td>\n",
       "    </tr>\n",
       "    <tr>\n",
       "      <th>SPEED WARNING</th>\n",
       "      <td>244.0</td>\n",
       "      <td>2277887</td>\n",
       "    </tr>\n",
       "    <tr>\n",
       "      <th>STAND, PARK, OR OTHER USE OF BUS LANE</th>\n",
       "      <td>90.0</td>\n",
       "      <td>1</td>\n",
       "    </tr>\n",
       "  </tbody>\n",
       "</table>\n",
       "</div>"
      ],
      "text/plain": [
       "                                        Fine  Violation Count\n",
       "VIOLATION                                                    \n",
       "RED LIGHT VIOLATION                    100.0          6810733\n",
       "SPEED VIOLATION 11+                      0.0          1931500\n",
       "SPEED VIOLATION 6-10                   200.0           535057\n",
       "SPEED WARNING                          244.0          2277887\n",
       "STAND, PARK, OR OTHER USE OF BUS LANE   90.0                1"
      ]
     },
     "execution_count": 201,
     "metadata": {},
     "output_type": "execute_result"
    }
   ],
   "source": [
    "tic_cost = pd.DataFrame({\n",
    "        \"Fine\" : COST,\n",
    "    \"Violation Count\": vio_cost\n",
    "})\n",
    "tic_cost.head()"
   ]
  },
  {
   "cell_type": "code",
   "execution_count": 215,
   "metadata": {},
   "outputs": [
    {
     "data": {
      "image/png": "[encoded data removed]",
      "text/plain": [
       "<Figure size 432x288 with 1 Axes>"
      ]
     },
     "metadata": {
      "needs_background": "light"
     },
     "output_type": "display_data"
    }
   ],
   "source": [
    "COST = [0.00, 90.00, 100.00, 200.00, 244.00]\n",
    "Vio_cost = [1, 535057, 1931500, 2277887, 6810733]\n",
    "VIOLATION = ['RED LIGHT VIOLATION', 'SPEED VIOLATION 11+', 'SPEED VIOLATION 6-10', 'SPEED WARNING', 'STAND,PARK, OR OTHER USE OF BUS LANE']  \n",
    "plt.plot(COST, vio_cost)\n",
    "plt.title('The Cost of Violations')\n",
    "plt.xlabel('COST')\n",
    "plt.ylabel('VIOLATION')\n",
    "plt.show()"
   ]
  },
  {
   "cell_type": "code",
   "execution_count": 202,
   "metadata": {},
   "outputs": [],
   "source": [
    "def to_linear_regress(x, y, weight, arrangement, cmap):\n",
    "    pearson_r = round(st.pearsonr(x, y)[0],2)\n",
    "    (slope, intercept, rvalue, pvalue, stderr) = linregress(x, y)\n",
    "    regress_values = x * slope + intercept\n",
    "    line_eq = f\"y = {round(slope,2)}x + {round(intercept, 2)}\"\n",
    "    plt.scatter(x, y, s=weight, c=arrangement, cmap=cmap)\n",
    "    plt.plot(x,regress_values,\"r-\")\n",
    "    print(f\"correlation coefficient : {pearson_r}\")\n",
    "    print(f\"pvalue: {round(pvalue,2)}\")\n",
    "    return line_eq\n"
   ]
  },
  {
   "cell_type": "code",
   "execution_count": 203,
   "metadata": {},
   "outputs": [],
   "source": [
    "def to_annotate(line_eq, x, y):\n",
    "    plt.annotate(line_eq,(x,y),fontsize=13,color=\"red\")"
   ]
  },
  {
   "cell_type": "code",
   "execution_count": 207,
   "metadata": {},
   "outputs": [
    {
     "ename": "NameError",
     "evalue": "name 'st' is not defined",
     "output_type": "error",
     "traceback": [
      "\u001b[0;31m---------------------------------------------------------------------------\u001b[0m",
      "\u001b[0;31mNameError\u001b[0m                                 Traceback (most recent call last)",
      "\u001b[0;32m<ipython-input-207-9a5174e30e80>\u001b[0m in \u001b[0;36m<module>\u001b[0;34m\u001b[0m\n\u001b[1;32m      3\u001b[0m \u001b[0mnp\u001b[0m\u001b[0;34m.\u001b[0m\u001b[0marange\u001b[0m\u001b[0;34m(\u001b[0m\u001b[0mlen\u001b[0m\u001b[0;34m(\u001b[0m\u001b[0mtic_cost\u001b[0m\u001b[0;34m[\u001b[0m\u001b[0;34m\"Violation Count\"\u001b[0m\u001b[0;34m]\u001b[0m\u001b[0;34m)\u001b[0m\u001b[0;34m)\u001b[0m\u001b[0;34m\u001b[0m\u001b[0;34m\u001b[0m\u001b[0m\n\u001b[1;32m      4\u001b[0m \u001b[0mcmap\u001b[0m\u001b[0;34m=\u001b[0m\u001b[0;34m'tab20'\u001b[0m\u001b[0;34m\u001b[0m\u001b[0;34m\u001b[0m\u001b[0m\n\u001b[0;32m----> 5\u001b[0;31m \u001b[0mline\u001b[0m \u001b[0;34m=\u001b[0m \u001b[0mto_linear_regress\u001b[0m\u001b[0;34m(\u001b[0m\u001b[0mtic_cost\u001b[0m\u001b[0;34m[\u001b[0m\u001b[0;34m\"Violation Count\"\u001b[0m\u001b[0;34m]\u001b[0m\u001b[0;34m,\u001b[0m \u001b[0mtic_cost\u001b[0m\u001b[0;34m[\u001b[0m\u001b[0;34m\"Fine\"\u001b[0m\u001b[0;34m]\u001b[0m\u001b[0;34m,\u001b[0m \u001b[0mweight\u001b[0m\u001b[0;34m,\u001b[0m \u001b[0marrangement\u001b[0m\u001b[0;34m,\u001b[0m \u001b[0mcmap\u001b[0m\u001b[0;34m)\u001b[0m\u001b[0;34m\u001b[0m\u001b[0;34m\u001b[0m\u001b[0m\n\u001b[0m\u001b[1;32m      6\u001b[0m \u001b[0mto_annotate\u001b[0m\u001b[0;34m(\u001b[0m\u001b[0mline\u001b[0m\u001b[0;34m,\u001b[0m \u001b[0;36m4\u001b[0m\u001b[0;34m,\u001b[0m \u001b[0;36m300000\u001b[0m\u001b[0;34m)\u001b[0m\u001b[0;34m\u001b[0m\u001b[0;34m\u001b[0m\u001b[0m\n\u001b[1;32m      7\u001b[0m \u001b[0mplt\u001b[0m\u001b[0;34m.\u001b[0m\u001b[0mxticks\u001b[0m\u001b[0;34m(\u001b[0m\u001b[0mnp\u001b[0m\u001b[0;34m.\u001b[0m\u001b[0marange\u001b[0m\u001b[0;34m(\u001b[0m\u001b[0;36m1\u001b[0m\u001b[0;34m,\u001b[0m \u001b[0;36m10\u001b[0m\u001b[0;34m,\u001b[0m \u001b[0;36m1\u001b[0m\u001b[0;34m)\u001b[0m\u001b[0;34m)\u001b[0m\u001b[0;34m\u001b[0m\u001b[0;34m\u001b[0m\u001b[0m\n",
      "\u001b[0;32m<ipython-input-202-eb053cb26c54>\u001b[0m in \u001b[0;36mto_linear_regress\u001b[0;34m(x, y, weight, arrangement, cmap)\u001b[0m\n\u001b[1;32m      1\u001b[0m \u001b[0;32mdef\u001b[0m \u001b[0mto_linear_regress\u001b[0m\u001b[0;34m(\u001b[0m\u001b[0mx\u001b[0m\u001b[0;34m,\u001b[0m \u001b[0my\u001b[0m\u001b[0;34m,\u001b[0m \u001b[0mweight\u001b[0m\u001b[0;34m,\u001b[0m \u001b[0marrangement\u001b[0m\u001b[0;34m,\u001b[0m \u001b[0mcmap\u001b[0m\u001b[0;34m)\u001b[0m\u001b[0;34m:\u001b[0m\u001b[0;34m\u001b[0m\u001b[0;34m\u001b[0m\u001b[0m\n\u001b[0;32m----> 2\u001b[0;31m     \u001b[0mpearson_r\u001b[0m \u001b[0;34m=\u001b[0m \u001b[0mround\u001b[0m\u001b[0;34m(\u001b[0m\u001b[0mst\u001b[0m\u001b[0;34m.\u001b[0m\u001b[0mpearsonr\u001b[0m\u001b[0;34m(\u001b[0m\u001b[0mx\u001b[0m\u001b[0;34m,\u001b[0m \u001b[0my\u001b[0m\u001b[0;34m)\u001b[0m\u001b[0;34m[\u001b[0m\u001b[0;36m0\u001b[0m\u001b[0;34m]\u001b[0m\u001b[0;34m,\u001b[0m\u001b[0;36m2\u001b[0m\u001b[0;34m)\u001b[0m\u001b[0;34m\u001b[0m\u001b[0;34m\u001b[0m\u001b[0m\n\u001b[0m\u001b[1;32m      3\u001b[0m     \u001b[0;34m(\u001b[0m\u001b[0mslope\u001b[0m\u001b[0;34m,\u001b[0m \u001b[0mintercept\u001b[0m\u001b[0;34m,\u001b[0m \u001b[0mrvalue\u001b[0m\u001b[0;34m,\u001b[0m \u001b[0mpvalue\u001b[0m\u001b[0;34m,\u001b[0m \u001b[0mstderr\u001b[0m\u001b[0;34m)\u001b[0m \u001b[0;34m=\u001b[0m \u001b[0mlinregress\u001b[0m\u001b[0;34m(\u001b[0m\u001b[0mx\u001b[0m\u001b[0;34m,\u001b[0m \u001b[0my\u001b[0m\u001b[0;34m)\u001b[0m\u001b[0;34m\u001b[0m\u001b[0;34m\u001b[0m\u001b[0m\n\u001b[1;32m      4\u001b[0m     \u001b[0mregress_values\u001b[0m \u001b[0;34m=\u001b[0m \u001b[0mx\u001b[0m \u001b[0;34m*\u001b[0m \u001b[0mslope\u001b[0m \u001b[0;34m+\u001b[0m \u001b[0mintercept\u001b[0m\u001b[0;34m\u001b[0m\u001b[0;34m\u001b[0m\u001b[0m\n\u001b[1;32m      5\u001b[0m     \u001b[0mline_eq\u001b[0m \u001b[0;34m=\u001b[0m \u001b[0;34mf\"y = {round(slope,2)}x + {round(intercept, 2)}\"\u001b[0m\u001b[0;34m\u001b[0m\u001b[0;34m\u001b[0m\u001b[0m\n",
      "\u001b[0;31mNameError\u001b[0m: name 'st' is not defined"
     ]
    }
   ],
   "source": [
    "weight= tic_cost[\"Violation Count\"]*5\n",
    "arrangement = tic_cost[\"Violation Count\"]\n",
    "np.arange(len(tic_cost[\"Violation Count\"]))\n",
    "cmap='tab20' \n",
    "line = to_linear_regress(tic_cost[\"Violation Count\"], tic_cost[\"Fine\"], weight, arrangement, cmap)\n",
    "to_annotate(line, 4, 300000)\n",
    "plt.xticks(np.arange(1, 10, 1))\n",
    "plt.xlabel(\"Fine\", fontweight=\"bold\")\n",
    "plt.ylabel(\"Violation Count\", labelpad=3.5, fontweight=\"bold\") \n",
    "plt.title(\"Violation Type, Cost, and Violation Count\", y=1.08, fontweight=\"bold\")\n",
    "plt.colorbar(label=\"VIOLATION(Type)\", orientation=\"horizontal\") \n",
    "plt.rcParams[\"figure.figsize\"] = (12,12)\n",
    "plt.grid(linewidth=0.3)"
   ]
  },
  {
   "cell_type": "code",
   "execution_count": 160,
   "metadata": {},
   "outputs": [
    {
     "data": {
      "text/plain": [
       "Index(['ADDRESS', 'CAMERA ID', 'VIOLATION DATE', 'VIOLATIONS', 'X COORDINATE',\n",
       "       'Y COORDINATE', 'LATITUDE', 'LONGITUDE', 'LOCATION',\n",
       "       'Historical Wards 2003-2015', 'Zip Codes', 'Community Areas',\n",
       "       'Census Tracts', 'Wards'],\n",
       "      dtype='object')"
      ]
     },
     "execution_count": 160,
     "metadata": {},
     "output_type": "execute_result"
    }
   ],
   "source": [
    "violations_df.columns"
   ]
  },
  {
   "cell_type": "code",
   "execution_count": null,
   "metadata": {},
   "outputs": [],
   "source": []
  },
  {
   "cell_type": "code",
   "execution_count": 161,
   "metadata": {},
   "outputs": [
    {
     "data": {
      "text/html": [
       "<div>\n",
       "<style scoped>\n",
       "    .dataframe tbody tr th:only-of-type {\n",
       "        vertical-align: middle;\n",
       "    }\n",
       "\n",
       "    .dataframe tbody tr th {\n",
       "        vertical-align: top;\n",
       "    }\n",
       "\n",
       "    .dataframe thead th {\n",
       "        text-align: right;\n",
       "    }\n",
       "</style>\n",
       "<table border=\"1\" class=\"dataframe\">\n",
       "  <thead>\n",
       "    <tr style=\"text-align: right;\">\n",
       "      <th></th>\n",
       "      <th>ADDRESS</th>\n",
       "      <th>CAMERA ID</th>\n",
       "      <th>VIOLATION DATE</th>\n",
       "      <th>VIOLATIONS</th>\n",
       "      <th>X COORDINATE</th>\n",
       "      <th>Y COORDINATE</th>\n",
       "      <th>LATITUDE</th>\n",
       "      <th>LONGITUDE</th>\n",
       "      <th>LOCATION</th>\n",
       "      <th>Historical Wards 2003-2015</th>\n",
       "      <th>Zip Codes</th>\n",
       "      <th>Community Areas</th>\n",
       "      <th>Census Tracts</th>\n",
       "      <th>Wards</th>\n",
       "    </tr>\n",
       "  </thead>\n",
       "  <tbody>\n",
       "    <tr>\n",
       "      <th>0</th>\n",
       "      <td>10318 S INDIANAPOLIS</td>\n",
       "      <td>CHI120</td>\n",
       "      <td>2019-11-21T00:00:00.000</td>\n",
       "      <td>87</td>\n",
       "      <td>1.203645e+06</td>\n",
       "      <td>1.837056e+06</td>\n",
       "      <td>41.707577</td>\n",
       "      <td>-87.529848</td>\n",
       "      <td>{'latitude': '41.70757690291348', 'human_addre...</td>\n",
       "      <td>47.0</td>\n",
       "      <td>21202.0</td>\n",
       "      <td>49.0</td>\n",
       "      <td>705.0</td>\n",
       "      <td>47.0</td>\n",
       "    </tr>\n",
       "    <tr>\n",
       "      <th>1</th>\n",
       "      <td>1110 S PULASKI RD</td>\n",
       "      <td>CHI163</td>\n",
       "      <td>2019-11-21T00:00:00.000</td>\n",
       "      <td>7</td>\n",
       "      <td>1.149841e+06</td>\n",
       "      <td>1.894931e+06</td>\n",
       "      <td>41.867603</td>\n",
       "      <td>-87.725383</td>\n",
       "      <td>{'latitude': '41.86760272243294', 'human_addre...</td>\n",
       "      <td>36.0</td>\n",
       "      <td>21572.0</td>\n",
       "      <td>30.0</td>\n",
       "      <td>98.0</td>\n",
       "      <td>14.0</td>\n",
       "    </tr>\n",
       "    <tr>\n",
       "      <th>3</th>\n",
       "      <td>11144 S VINCENNES</td>\n",
       "      <td>CHI023</td>\n",
       "      <td>2019-11-21T00:00:00.000</td>\n",
       "      <td>6</td>\n",
       "      <td>1.166994e+06</td>\n",
       "      <td>1.830711e+06</td>\n",
       "      <td>41.691025</td>\n",
       "      <td>-87.664248</td>\n",
       "      <td>{'latitude': '41.69102545584918', 'human_addre...</td>\n",
       "      <td>33.0</td>\n",
       "      <td>22212.0</td>\n",
       "      <td>74.0</td>\n",
       "      <td>378.0</td>\n",
       "      <td>42.0</td>\n",
       "    </tr>\n",
       "    <tr>\n",
       "      <th>4</th>\n",
       "      <td>11153 S VINCENNES</td>\n",
       "      <td>CHI022</td>\n",
       "      <td>2019-11-21T00:00:00.000</td>\n",
       "      <td>4</td>\n",
       "      <td>1.167029e+06</td>\n",
       "      <td>1.830594e+06</td>\n",
       "      <td>41.690702</td>\n",
       "      <td>-87.664122</td>\n",
       "      <td>{'latitude': '41.690701951255015', 'human_addr...</td>\n",
       "      <td>45.0</td>\n",
       "      <td>22212.0</td>\n",
       "      <td>74.0</td>\n",
       "      <td>378.0</td>\n",
       "      <td>22.0</td>\n",
       "    </tr>\n",
       "    <tr>\n",
       "      <th>5</th>\n",
       "      <td>1117 S PULASKI RD</td>\n",
       "      <td>CHI162</td>\n",
       "      <td>2019-11-21T00:00:00.000</td>\n",
       "      <td>5</td>\n",
       "      <td>1.149923e+06</td>\n",
       "      <td>1.894858e+06</td>\n",
       "      <td>41.867402</td>\n",
       "      <td>-87.725084</td>\n",
       "      <td>{'latitude': '41.867401834997956', 'human_addr...</td>\n",
       "      <td>36.0</td>\n",
       "      <td>21572.0</td>\n",
       "      <td>30.0</td>\n",
       "      <td>98.0</td>\n",
       "      <td>14.0</td>\n",
       "    </tr>\n",
       "  </tbody>\n",
       "</table>\n",
       "</div>"
      ],
      "text/plain": [
       "                ADDRESS CAMERA ID           VIOLATION DATE  VIOLATIONS  \\\n",
       "0  10318 S INDIANAPOLIS    CHI120  2019-11-21T00:00:00.000          87   \n",
       "1     1110 S PULASKI RD    CHI163  2019-11-21T00:00:00.000           7   \n",
       "3     11144 S VINCENNES    CHI023  2019-11-21T00:00:00.000           6   \n",
       "4     11153 S VINCENNES    CHI022  2019-11-21T00:00:00.000           4   \n",
       "5     1117 S PULASKI RD    CHI162  2019-11-21T00:00:00.000           5   \n",
       "\n",
       "   X COORDINATE  Y COORDINATE   LATITUDE  LONGITUDE  \\\n",
       "0  1.203645e+06  1.837056e+06  41.707577 -87.529848   \n",
       "1  1.149841e+06  1.894931e+06  41.867603 -87.725383   \n",
       "3  1.166994e+06  1.830711e+06  41.691025 -87.664248   \n",
       "4  1.167029e+06  1.830594e+06  41.690702 -87.664122   \n",
       "5  1.149923e+06  1.894858e+06  41.867402 -87.725084   \n",
       "\n",
       "                                            LOCATION  \\\n",
       "0  {'latitude': '41.70757690291348', 'human_addre...   \n",
       "1  {'latitude': '41.86760272243294', 'human_addre...   \n",
       "3  {'latitude': '41.69102545584918', 'human_addre...   \n",
       "4  {'latitude': '41.690701951255015', 'human_addr...   \n",
       "5  {'latitude': '41.867401834997956', 'human_addr...   \n",
       "\n",
       "   Historical Wards 2003-2015  Zip Codes  Community Areas  Census Tracts  \\\n",
       "0                        47.0    21202.0             49.0          705.0   \n",
       "1                        36.0    21572.0             30.0           98.0   \n",
       "3                        33.0    22212.0             74.0          378.0   \n",
       "4                        45.0    22212.0             74.0          378.0   \n",
       "5                        36.0    21572.0             30.0           98.0   \n",
       "\n",
       "   Wards  \n",
       "0   47.0  \n",
       "1   14.0  \n",
       "3   42.0  \n",
       "4   22.0  \n",
       "5   14.0  "
      ]
     },
     "execution_count": 161,
     "metadata": {},
     "output_type": "execute_result"
    }
   ],
   "source": [
    "violations_df.head()"
   ]
  },
  {
   "cell_type": "code",
   "execution_count": 86,
   "metadata": {},
   "outputs": [
    {
     "data": {
      "text/html": [
       "<div>\n",
       "<style scoped>\n",
       "    .dataframe tbody tr th:only-of-type {\n",
       "        vertical-align: middle;\n",
       "    }\n",
       "\n",
       "    .dataframe tbody tr th {\n",
       "        vertical-align: top;\n",
       "    }\n",
       "\n",
       "    .dataframe thead th {\n",
       "        text-align: right;\n",
       "    }\n",
       "</style>\n",
       "<table border=\"1\" class=\"dataframe\">\n",
       "  <thead>\n",
       "    <tr style=\"text-align: right;\">\n",
       "      <th></th>\n",
       "      <th>Ward Number</th>\n",
       "      <th>ZIPCODE</th>\n",
       "    </tr>\n",
       "    <tr>\n",
       "      <th>WARD</th>\n",
       "      <th></th>\n",
       "      <th></th>\n",
       "    </tr>\n",
       "  </thead>\n",
       "  <tbody>\n",
       "    <tr>\n",
       "      <th>1</th>\n",
       "      <td>1</td>\n",
       "      <td>1</td>\n",
       "    </tr>\n",
       "    <tr>\n",
       "      <th>2</th>\n",
       "      <td>3</td>\n",
       "      <td>1</td>\n",
       "    </tr>\n",
       "    <tr>\n",
       "      <th>3</th>\n",
       "      <td>4</td>\n",
       "      <td>1</td>\n",
       "    </tr>\n",
       "    <tr>\n",
       "      <th>4</th>\n",
       "      <td>8</td>\n",
       "      <td>1</td>\n",
       "    </tr>\n",
       "    <tr>\n",
       "      <th>5</th>\n",
       "      <td>10</td>\n",
       "      <td>1</td>\n",
       "    </tr>\n",
       "  </tbody>\n",
       "</table>\n",
       "</div>"
      ],
      "text/plain": [
       "      Ward Number  ZIPCODE\n",
       "WARD                      \n",
       "1               1        1\n",
       "2               3        1\n",
       "3               4        1\n",
       "4               8        1\n",
       "5              10        1"
      ]
     },
     "execution_count": 86,
     "metadata": {},
     "output_type": "execute_result"
    }
   ],
   "source": [
    "vio_loc = pd.DataFrame({\n",
    "    \"Ward Number\" : wards,\n",
    "    \"ZIPCODE\": ward_num\n",
    "})\n",
    "vio_loc.head()"
   ]
  },
  {
   "cell_type": "code",
   "execution_count": 55,
   "metadata": {},
   "outputs": [
    {
     "ename": "KeyError",
     "evalue": "\"['Speed Cams per Ward', 'LOCATION'] not in index\"",
     "output_type": "error",
     "traceback": [
      "\u001b[0;31m---------------------------------------------------------------------------\u001b[0m",
      "\u001b[0;31mKeyError\u001b[0m                                  Traceback (most recent call last)",
      "\u001b[0;32m<ipython-input-55-5c67f3ec27ab>\u001b[0m in \u001b[0;36m<module>\u001b[0;34m\u001b[0m\n\u001b[1;32m      1\u001b[0m \u001b[0mviolations\u001b[0m \u001b[0;34m=\u001b[0m \u001b[0mpd\u001b[0m\u001b[0;34m.\u001b[0m\u001b[0mDataFrame\u001b[0m\u001b[0;34m(\u001b[0m\u001b[0mspeed_cams\u001b[0m\u001b[0;34m.\u001b[0m\u001b[0mgroupby\u001b[0m\u001b[0;34m(\u001b[0m\u001b[0;34m\"Wards\"\u001b[0m\u001b[0;34m)\u001b[0m\u001b[0;34m[\u001b[0m\u001b[0;34m\"Speed Cams per Ward\"\u001b[0m\u001b[0;34m]\u001b[0m\u001b[0;34m.\u001b[0m\u001b[0msum\u001b[0m\u001b[0;34m(\u001b[0m\u001b[0;34m)\u001b[0m\u001b[0;34m)\u001b[0m\u001b[0;34m\u001b[0m\u001b[0;34m\u001b[0m\u001b[0m\n\u001b[1;32m      2\u001b[0m \u001b[0mmerge_df\u001b[0m \u001b[0;34m=\u001b[0m \u001b[0mpd\u001b[0m\u001b[0;34m.\u001b[0m\u001b[0mmerge\u001b[0m\u001b[0;34m(\u001b[0m\u001b[0mviolations\u001b[0m\u001b[0;34m,\u001b[0m \u001b[0mspeed_cams\u001b[0m\u001b[0;34m,\u001b[0m \u001b[0mon\u001b[0m\u001b[0;34m=\u001b[0m\u001b[0;34m\"Wards\"\u001b[0m\u001b[0;34m)\u001b[0m\u001b[0;34m\u001b[0m\u001b[0;34m\u001b[0m\u001b[0m\n\u001b[0;32m----> 3\u001b[0;31m \u001b[0mmerge_df\u001b[0m \u001b[0;34m=\u001b[0m \u001b[0mmerge_df\u001b[0m\u001b[0;34m[\u001b[0m\u001b[0;34m[\u001b[0m\u001b[0;34m\"Ward Number\"\u001b[0m\u001b[0;34m,\u001b[0m \u001b[0;34m\"Speed Cams per Ward\"\u001b[0m\u001b[0;34m,\u001b[0m \u001b[0;34m\"LOCATION\"\u001b[0m\u001b[0;34m]\u001b[0m\u001b[0;34m]\u001b[0m\u001b[0;34m\u001b[0m\u001b[0;34m\u001b[0m\u001b[0m\n\u001b[0m\u001b[1;32m      4\u001b[0m \u001b[0mmerge_df\u001b[0m\u001b[0;34m.\u001b[0m\u001b[0mhead\u001b[0m\u001b[0;34m(\u001b[0m\u001b[0;34m)\u001b[0m\u001b[0;34m\u001b[0m\u001b[0;34m\u001b[0m\u001b[0m\n",
      "\u001b[0;32m~/opt/anaconda3/lib/python3.8/site-packages/pandas/core/frame.py\u001b[0m in \u001b[0;36m__getitem__\u001b[0;34m(self, key)\u001b[0m\n\u001b[1;32m   2906\u001b[0m             \u001b[0;32mif\u001b[0m \u001b[0mis_iterator\u001b[0m\u001b[0;34m(\u001b[0m\u001b[0mkey\u001b[0m\u001b[0;34m)\u001b[0m\u001b[0;34m:\u001b[0m\u001b[0;34m\u001b[0m\u001b[0;34m\u001b[0m\u001b[0m\n\u001b[1;32m   2907\u001b[0m                 \u001b[0mkey\u001b[0m \u001b[0;34m=\u001b[0m \u001b[0mlist\u001b[0m\u001b[0;34m(\u001b[0m\u001b[0mkey\u001b[0m\u001b[0;34m)\u001b[0m\u001b[0;34m\u001b[0m\u001b[0;34m\u001b[0m\u001b[0m\n\u001b[0;32m-> 2908\u001b[0;31m             \u001b[0mindexer\u001b[0m \u001b[0;34m=\u001b[0m \u001b[0mself\u001b[0m\u001b[0;34m.\u001b[0m\u001b[0mloc\u001b[0m\u001b[0;34m.\u001b[0m\u001b[0m_get_listlike_indexer\u001b[0m\u001b[0;34m(\u001b[0m\u001b[0mkey\u001b[0m\u001b[0;34m,\u001b[0m \u001b[0maxis\u001b[0m\u001b[0;34m=\u001b[0m\u001b[0;36m1\u001b[0m\u001b[0;34m,\u001b[0m \u001b[0mraise_missing\u001b[0m\u001b[0;34m=\u001b[0m\u001b[0;32mTrue\u001b[0m\u001b[0;34m)\u001b[0m\u001b[0;34m[\u001b[0m\u001b[0;36m1\u001b[0m\u001b[0;34m]\u001b[0m\u001b[0;34m\u001b[0m\u001b[0;34m\u001b[0m\u001b[0m\n\u001b[0m\u001b[1;32m   2909\u001b[0m \u001b[0;34m\u001b[0m\u001b[0m\n\u001b[1;32m   2910\u001b[0m         \u001b[0;31m# take() does not accept boolean indexers\u001b[0m\u001b[0;34m\u001b[0m\u001b[0;34m\u001b[0m\u001b[0;34m\u001b[0m\u001b[0m\n",
      "\u001b[0;32m~/opt/anaconda3/lib/python3.8/site-packages/pandas/core/indexing.py\u001b[0m in \u001b[0;36m_get_listlike_indexer\u001b[0;34m(self, key, axis, raise_missing)\u001b[0m\n\u001b[1;32m   1252\u001b[0m             \u001b[0mkeyarr\u001b[0m\u001b[0;34m,\u001b[0m \u001b[0mindexer\u001b[0m\u001b[0;34m,\u001b[0m \u001b[0mnew_indexer\u001b[0m \u001b[0;34m=\u001b[0m \u001b[0max\u001b[0m\u001b[0;34m.\u001b[0m\u001b[0m_reindex_non_unique\u001b[0m\u001b[0;34m(\u001b[0m\u001b[0mkeyarr\u001b[0m\u001b[0;34m)\u001b[0m\u001b[0;34m\u001b[0m\u001b[0;34m\u001b[0m\u001b[0m\n\u001b[1;32m   1253\u001b[0m \u001b[0;34m\u001b[0m\u001b[0m\n\u001b[0;32m-> 1254\u001b[0;31m         \u001b[0mself\u001b[0m\u001b[0;34m.\u001b[0m\u001b[0m_validate_read_indexer\u001b[0m\u001b[0;34m(\u001b[0m\u001b[0mkeyarr\u001b[0m\u001b[0;34m,\u001b[0m \u001b[0mindexer\u001b[0m\u001b[0;34m,\u001b[0m \u001b[0maxis\u001b[0m\u001b[0;34m,\u001b[0m \u001b[0mraise_missing\u001b[0m\u001b[0;34m=\u001b[0m\u001b[0mraise_missing\u001b[0m\u001b[0;34m)\u001b[0m\u001b[0;34m\u001b[0m\u001b[0;34m\u001b[0m\u001b[0m\n\u001b[0m\u001b[1;32m   1255\u001b[0m         \u001b[0;32mreturn\u001b[0m \u001b[0mkeyarr\u001b[0m\u001b[0;34m,\u001b[0m \u001b[0mindexer\u001b[0m\u001b[0;34m\u001b[0m\u001b[0;34m\u001b[0m\u001b[0m\n\u001b[1;32m   1256\u001b[0m \u001b[0;34m\u001b[0m\u001b[0m\n",
      "\u001b[0;32m~/opt/anaconda3/lib/python3.8/site-packages/pandas/core/indexing.py\u001b[0m in \u001b[0;36m_validate_read_indexer\u001b[0;34m(self, key, indexer, axis, raise_missing)\u001b[0m\n\u001b[1;32m   1302\u001b[0m             \u001b[0;32mif\u001b[0m \u001b[0mraise_missing\u001b[0m\u001b[0;34m:\u001b[0m\u001b[0;34m\u001b[0m\u001b[0;34m\u001b[0m\u001b[0m\n\u001b[1;32m   1303\u001b[0m                 \u001b[0mnot_found\u001b[0m \u001b[0;34m=\u001b[0m \u001b[0mlist\u001b[0m\u001b[0;34m(\u001b[0m\u001b[0mset\u001b[0m\u001b[0;34m(\u001b[0m\u001b[0mkey\u001b[0m\u001b[0;34m)\u001b[0m \u001b[0;34m-\u001b[0m \u001b[0mset\u001b[0m\u001b[0;34m(\u001b[0m\u001b[0max\u001b[0m\u001b[0;34m)\u001b[0m\u001b[0;34m)\u001b[0m\u001b[0;34m\u001b[0m\u001b[0;34m\u001b[0m\u001b[0m\n\u001b[0;32m-> 1304\u001b[0;31m                 \u001b[0;32mraise\u001b[0m \u001b[0mKeyError\u001b[0m\u001b[0;34m(\u001b[0m\u001b[0;34mf\"{not_found} not in index\"\u001b[0m\u001b[0;34m)\u001b[0m\u001b[0;34m\u001b[0m\u001b[0;34m\u001b[0m\u001b[0m\n\u001b[0m\u001b[1;32m   1305\u001b[0m \u001b[0;34m\u001b[0m\u001b[0m\n\u001b[1;32m   1306\u001b[0m             \u001b[0;31m# we skip the warning on Categorical\u001b[0m\u001b[0;34m\u001b[0m\u001b[0;34m\u001b[0m\u001b[0;34m\u001b[0m\u001b[0m\n",
      "\u001b[0;31mKeyError\u001b[0m: \"['Speed Cams per Ward', 'LOCATION'] not in index\""
     ]
    }
   ],
   "source": []
  },
  {
   "cell_type": "code",
   "execution_count": null,
   "metadata": {},
   "outputs": [],
   "source": []
  }
 ],
 "metadata": {
  "kernelspec": {
   "display_name": "Python 3",
   "language": "python",
   "name": "python3"
  },
  "language_info": {
   "codemirror_mode": {
    "name": "ipython",
    "version": 3
   },
   "file_extension": ".py",
   "mimetype": "text/x-python",
   "name": "python",
   "nbconvert_exporter": "python",
   "pygments_lexer": "ipython3",
   "version": "3.8.5"
  }
 },
 "nbformat": 4,
 "nbformat_minor": 4
}
